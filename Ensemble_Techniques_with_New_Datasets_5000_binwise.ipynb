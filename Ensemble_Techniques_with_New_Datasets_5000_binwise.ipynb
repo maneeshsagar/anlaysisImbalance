{
  "cells": [
    {
      "cell_type": "code",
      "execution_count": null,
      "metadata": {
        "id": "1zbMkslvLTJs"
      },
      "outputs": [],
      "source": [
        "#This program is to develop a neural Network(ANN) regression model . redshift the label/target\n",
        "import matplotlib.pyplot as plt\n",
        "import pandas as pd\n",
        "import numpy as np\n",
        "import seaborn as sns\n",
        "import keras\n",
        "from keras.models import Sequential\n",
        "from keras.layers import Dense, Dropout\n",
        "from sklearn.preprocessing import  MinMaxScaler\n",
        "\n",
        "import xgboost as xg \n",
        "from sklearn.model_selection import train_test_split \n",
        "from sklearn.metrics import mean_squared_error as MSE "
      ]
    },
    {
      "cell_type": "code",
      "execution_count": null,
      "metadata": {
        "id": "l-N8gcFnLely"
      },
      "outputs": [],
      "source": [
        "dataset = pd.read_csv(\"/content/drive/MyDrive/Dataset/train_all_range.csv\")"
      ]
    },
    {
      "cell_type": "code",
      "execution_count": null,
      "metadata": {
        "colab": {
          "base_uri": "https://localhost:8080/"
        },
        "id": "O5aHt1IR0_Gu",
        "outputId": "b5da7746-b6a9-4a4a-e546-487b666c33ac"
      },
      "outputs": [
        {
          "output_type": "execute_result",
          "data": {
            "text/plain": [
              "(604935, 28)"
            ]
          },
          "metadata": {},
          "execution_count": 3
        }
      ],
      "source": [
        "dataset.shape"
      ]
    },
    {
      "cell_type": "code",
      "execution_count": null,
      "metadata": {
        "colab": {
          "base_uri": "https://localhost:8080/"
        },
        "id": "CQaC93dQ0mgc",
        "outputId": "ba92377c-7ace-49f3-ccd2-ec0c4fc4f4df"
      },
      "outputs": [
        {
          "output_type": "execute_result",
          "data": {
            "text/plain": [
              "8604"
            ]
          },
          "metadata": {},
          "execution_count": 4
        }
      ],
      "source": [
        "dataset.duplicated().sum()"
      ]
    },
    {
      "cell_type": "code",
      "execution_count": null,
      "metadata": {
        "colab": {
          "base_uri": "https://localhost:8080/",
          "height": 488
        },
        "id": "kyyrRSIv04QS",
        "outputId": "fe50f9df-2234-4156-a1e5-e325a6a0e4b6"
      },
      "outputs": [
        {
          "output_type": "execute_result",
          "data": {
            "text/plain": [
              "               objid  modelMag_u  modelMag_g  modelMag_r  modelMag_i  \\\n",
              "0       1.240000e+18    22.70128    21.55564    20.74338    19.97239   \n",
              "1       1.240000e+18    23.23910    21.44343    19.67306    18.94400   \n",
              "2       1.240000e+18    24.05348    21.24721    19.39289    18.68024   \n",
              "3       1.240000e+18    26.32478    20.74059    18.99681    18.29084   \n",
              "4       1.240000e+18    24.76801    19.32076    17.81846    17.23835   \n",
              "...              ...         ...         ...         ...         ...   \n",
              "604930  1.240000e+18    23.95901    21.45168    20.99064    20.83455   \n",
              "604931  1.240000e+18    26.08886    22.08654    21.42736    21.39464   \n",
              "604932  1.240000e+18    24.30561    23.59575    21.74487    20.60606   \n",
              "604933  1.240000e+18    25.70489    22.18283    21.30940    20.22876   \n",
              "604934  1.240000e+18    21.34051    20.64733    20.40584    20.45839   \n",
              "\n",
              "        modelMag_z  fiberMag_u  fiberMag_g  fiberMag_r  fiberMag_i  ...  \\\n",
              "0         19.65203    23.26064    22.38317    21.52284    20.75258  ...   \n",
              "1         18.55688    23.69614    22.34922    20.59603    19.86871  ...   \n",
              "2         18.31429    24.11929    22.13657    20.29977    19.57731  ...   \n",
              "3         17.80812    25.19303    21.98622    20.28767    19.56692  ...   \n",
              "4         16.92202    24.11602    20.81318    19.32606    18.72738  ...   \n",
              "...            ...         ...         ...         ...         ...  ...   \n",
              "604930    20.90097    24.58145    21.84688    21.45192    21.29986  ...   \n",
              "604931    21.62726    25.44403    22.58780    21.98829    21.84853  ...   \n",
              "604932    19.91005    24.03291    24.07756    22.41889    21.23574  ...   \n",
              "604933    19.21709    23.99918    23.17838    22.30052    21.11168  ...   \n",
              "604934    20.28701    21.82719    21.07991    20.84015    20.84428  ...   \n",
              "\n",
              "            zerr       mmug       mmgr       mmri       mmiz       mfug  \\\n",
              "0       0.000121  22.128460  21.149510  20.357885  19.812210  22.821905   \n",
              "1       0.000114  22.341265  20.558245  19.308530  18.750440  23.022680   \n",
              "2       0.000068  22.650345  20.320050  19.036565  18.497265  23.127930   \n",
              "3       0.000078  23.532685  19.868700  18.643825  18.049480  23.589625   \n",
              "4       0.000034  22.044385  18.569610  17.528405  17.080185  22.464600   \n",
              "...          ...        ...        ...        ...        ...        ...   \n",
              "604930  0.008792  22.705345  21.221160  20.912595  20.867760  23.214165   \n",
              "604931  0.001358  24.087700  21.756950  21.411000  21.510950  24.015915   \n",
              "604932  0.001004  23.950680  22.670310  21.175465  20.258055  24.055235   \n",
              "604933  0.000015  23.943860  21.746115  20.769080  19.722925  23.588780   \n",
              "604934  0.000135  20.993920  20.526585  20.432115  20.372700  21.453550   \n",
              "\n",
              "             mfgr       mfri       mfiz  redshift  \n",
              "0       21.953005  21.137710  20.602890  0.679974  \n",
              "1       21.472625  20.232370  19.659590  0.412071  \n",
              "2       21.218170  19.938540  19.384555  0.413140  \n",
              "3       21.136945  19.927295  19.318555  0.399193  \n",
              "4       20.069620  19.026720  18.568060  0.253831  \n",
              "...           ...        ...        ...       ...  \n",
              "604930  21.649400  21.375890  21.362660  6.911286  \n",
              "604931  22.288045  21.918410  21.963385  5.464636  \n",
              "604932  23.248225  21.827315  20.866255  5.350088  \n",
              "604933  22.739450  21.706100  20.624625  6.964785  \n",
              "604934  20.960030  20.842215  20.830430  6.422472  \n",
              "\n",
              "[596331 rows x 28 columns]"
            ],
            "text/html": [
              "\n",
              "  <div id=\"df-bf5e3263-ace7-4099-9806-eae8748083c9\">\n",
              "    <div class=\"colab-df-container\">\n",
              "      <div>\n",
              "<style scoped>\n",
              "    .dataframe tbody tr th:only-of-type {\n",
              "        vertical-align: middle;\n",
              "    }\n",
              "\n",
              "    .dataframe tbody tr th {\n",
              "        vertical-align: top;\n",
              "    }\n",
              "\n",
              "    .dataframe thead th {\n",
              "        text-align: right;\n",
              "    }\n",
              "</style>\n",
              "<table border=\"1\" class=\"dataframe\">\n",
              "  <thead>\n",
              "    <tr style=\"text-align: right;\">\n",
              "      <th></th>\n",
              "      <th>objid</th>\n",
              "      <th>modelMag_u</th>\n",
              "      <th>modelMag_g</th>\n",
              "      <th>modelMag_r</th>\n",
              "      <th>modelMag_i</th>\n",
              "      <th>modelMag_z</th>\n",
              "      <th>fiberMag_u</th>\n",
              "      <th>fiberMag_g</th>\n",
              "      <th>fiberMag_r</th>\n",
              "      <th>fiberMag_i</th>\n",
              "      <th>...</th>\n",
              "      <th>zerr</th>\n",
              "      <th>mmug</th>\n",
              "      <th>mmgr</th>\n",
              "      <th>mmri</th>\n",
              "      <th>mmiz</th>\n",
              "      <th>mfug</th>\n",
              "      <th>mfgr</th>\n",
              "      <th>mfri</th>\n",
              "      <th>mfiz</th>\n",
              "      <th>redshift</th>\n",
              "    </tr>\n",
              "  </thead>\n",
              "  <tbody>\n",
              "    <tr>\n",
              "      <th>0</th>\n",
              "      <td>1.240000e+18</td>\n",
              "      <td>22.70128</td>\n",
              "      <td>21.55564</td>\n",
              "      <td>20.74338</td>\n",
              "      <td>19.97239</td>\n",
              "      <td>19.65203</td>\n",
              "      <td>23.26064</td>\n",
              "      <td>22.38317</td>\n",
              "      <td>21.52284</td>\n",
              "      <td>20.75258</td>\n",
              "      <td>...</td>\n",
              "      <td>0.000121</td>\n",
              "      <td>22.128460</td>\n",
              "      <td>21.149510</td>\n",
              "      <td>20.357885</td>\n",
              "      <td>19.812210</td>\n",
              "      <td>22.821905</td>\n",
              "      <td>21.953005</td>\n",
              "      <td>21.137710</td>\n",
              "      <td>20.602890</td>\n",
              "      <td>0.679974</td>\n",
              "    </tr>\n",
              "    <tr>\n",
              "      <th>1</th>\n",
              "      <td>1.240000e+18</td>\n",
              "      <td>23.23910</td>\n",
              "      <td>21.44343</td>\n",
              "      <td>19.67306</td>\n",
              "      <td>18.94400</td>\n",
              "      <td>18.55688</td>\n",
              "      <td>23.69614</td>\n",
              "      <td>22.34922</td>\n",
              "      <td>20.59603</td>\n",
              "      <td>19.86871</td>\n",
              "      <td>...</td>\n",
              "      <td>0.000114</td>\n",
              "      <td>22.341265</td>\n",
              "      <td>20.558245</td>\n",
              "      <td>19.308530</td>\n",
              "      <td>18.750440</td>\n",
              "      <td>23.022680</td>\n",
              "      <td>21.472625</td>\n",
              "      <td>20.232370</td>\n",
              "      <td>19.659590</td>\n",
              "      <td>0.412071</td>\n",
              "    </tr>\n",
              "    <tr>\n",
              "      <th>2</th>\n",
              "      <td>1.240000e+18</td>\n",
              "      <td>24.05348</td>\n",
              "      <td>21.24721</td>\n",
              "      <td>19.39289</td>\n",
              "      <td>18.68024</td>\n",
              "      <td>18.31429</td>\n",
              "      <td>24.11929</td>\n",
              "      <td>22.13657</td>\n",
              "      <td>20.29977</td>\n",
              "      <td>19.57731</td>\n",
              "      <td>...</td>\n",
              "      <td>0.000068</td>\n",
              "      <td>22.650345</td>\n",
              "      <td>20.320050</td>\n",
              "      <td>19.036565</td>\n",
              "      <td>18.497265</td>\n",
              "      <td>23.127930</td>\n",
              "      <td>21.218170</td>\n",
              "      <td>19.938540</td>\n",
              "      <td>19.384555</td>\n",
              "      <td>0.413140</td>\n",
              "    </tr>\n",
              "    <tr>\n",
              "      <th>3</th>\n",
              "      <td>1.240000e+18</td>\n",
              "      <td>26.32478</td>\n",
              "      <td>20.74059</td>\n",
              "      <td>18.99681</td>\n",
              "      <td>18.29084</td>\n",
              "      <td>17.80812</td>\n",
              "      <td>25.19303</td>\n",
              "      <td>21.98622</td>\n",
              "      <td>20.28767</td>\n",
              "      <td>19.56692</td>\n",
              "      <td>...</td>\n",
              "      <td>0.000078</td>\n",
              "      <td>23.532685</td>\n",
              "      <td>19.868700</td>\n",
              "      <td>18.643825</td>\n",
              "      <td>18.049480</td>\n",
              "      <td>23.589625</td>\n",
              "      <td>21.136945</td>\n",
              "      <td>19.927295</td>\n",
              "      <td>19.318555</td>\n",
              "      <td>0.399193</td>\n",
              "    </tr>\n",
              "    <tr>\n",
              "      <th>4</th>\n",
              "      <td>1.240000e+18</td>\n",
              "      <td>24.76801</td>\n",
              "      <td>19.32076</td>\n",
              "      <td>17.81846</td>\n",
              "      <td>17.23835</td>\n",
              "      <td>16.92202</td>\n",
              "      <td>24.11602</td>\n",
              "      <td>20.81318</td>\n",
              "      <td>19.32606</td>\n",
              "      <td>18.72738</td>\n",
              "      <td>...</td>\n",
              "      <td>0.000034</td>\n",
              "      <td>22.044385</td>\n",
              "      <td>18.569610</td>\n",
              "      <td>17.528405</td>\n",
              "      <td>17.080185</td>\n",
              "      <td>22.464600</td>\n",
              "      <td>20.069620</td>\n",
              "      <td>19.026720</td>\n",
              "      <td>18.568060</td>\n",
              "      <td>0.253831</td>\n",
              "    </tr>\n",
              "    <tr>\n",
              "      <th>...</th>\n",
              "      <td>...</td>\n",
              "      <td>...</td>\n",
              "      <td>...</td>\n",
              "      <td>...</td>\n",
              "      <td>...</td>\n",
              "      <td>...</td>\n",
              "      <td>...</td>\n",
              "      <td>...</td>\n",
              "      <td>...</td>\n",
              "      <td>...</td>\n",
              "      <td>...</td>\n",
              "      <td>...</td>\n",
              "      <td>...</td>\n",
              "      <td>...</td>\n",
              "      <td>...</td>\n",
              "      <td>...</td>\n",
              "      <td>...</td>\n",
              "      <td>...</td>\n",
              "      <td>...</td>\n",
              "      <td>...</td>\n",
              "      <td>...</td>\n",
              "    </tr>\n",
              "    <tr>\n",
              "      <th>604930</th>\n",
              "      <td>1.240000e+18</td>\n",
              "      <td>23.95901</td>\n",
              "      <td>21.45168</td>\n",
              "      <td>20.99064</td>\n",
              "      <td>20.83455</td>\n",
              "      <td>20.90097</td>\n",
              "      <td>24.58145</td>\n",
              "      <td>21.84688</td>\n",
              "      <td>21.45192</td>\n",
              "      <td>21.29986</td>\n",
              "      <td>...</td>\n",
              "      <td>0.008792</td>\n",
              "      <td>22.705345</td>\n",
              "      <td>21.221160</td>\n",
              "      <td>20.912595</td>\n",
              "      <td>20.867760</td>\n",
              "      <td>23.214165</td>\n",
              "      <td>21.649400</td>\n",
              "      <td>21.375890</td>\n",
              "      <td>21.362660</td>\n",
              "      <td>6.911286</td>\n",
              "    </tr>\n",
              "    <tr>\n",
              "      <th>604931</th>\n",
              "      <td>1.240000e+18</td>\n",
              "      <td>26.08886</td>\n",
              "      <td>22.08654</td>\n",
              "      <td>21.42736</td>\n",
              "      <td>21.39464</td>\n",
              "      <td>21.62726</td>\n",
              "      <td>25.44403</td>\n",
              "      <td>22.58780</td>\n",
              "      <td>21.98829</td>\n",
              "      <td>21.84853</td>\n",
              "      <td>...</td>\n",
              "      <td>0.001358</td>\n",
              "      <td>24.087700</td>\n",
              "      <td>21.756950</td>\n",
              "      <td>21.411000</td>\n",
              "      <td>21.510950</td>\n",
              "      <td>24.015915</td>\n",
              "      <td>22.288045</td>\n",
              "      <td>21.918410</td>\n",
              "      <td>21.963385</td>\n",
              "      <td>5.464636</td>\n",
              "    </tr>\n",
              "    <tr>\n",
              "      <th>604932</th>\n",
              "      <td>1.240000e+18</td>\n",
              "      <td>24.30561</td>\n",
              "      <td>23.59575</td>\n",
              "      <td>21.74487</td>\n",
              "      <td>20.60606</td>\n",
              "      <td>19.91005</td>\n",
              "      <td>24.03291</td>\n",
              "      <td>24.07756</td>\n",
              "      <td>22.41889</td>\n",
              "      <td>21.23574</td>\n",
              "      <td>...</td>\n",
              "      <td>0.001004</td>\n",
              "      <td>23.950680</td>\n",
              "      <td>22.670310</td>\n",
              "      <td>21.175465</td>\n",
              "      <td>20.258055</td>\n",
              "      <td>24.055235</td>\n",
              "      <td>23.248225</td>\n",
              "      <td>21.827315</td>\n",
              "      <td>20.866255</td>\n",
              "      <td>5.350088</td>\n",
              "    </tr>\n",
              "    <tr>\n",
              "      <th>604933</th>\n",
              "      <td>1.240000e+18</td>\n",
              "      <td>25.70489</td>\n",
              "      <td>22.18283</td>\n",
              "      <td>21.30940</td>\n",
              "      <td>20.22876</td>\n",
              "      <td>19.21709</td>\n",
              "      <td>23.99918</td>\n",
              "      <td>23.17838</td>\n",
              "      <td>22.30052</td>\n",
              "      <td>21.11168</td>\n",
              "      <td>...</td>\n",
              "      <td>0.000015</td>\n",
              "      <td>23.943860</td>\n",
              "      <td>21.746115</td>\n",
              "      <td>20.769080</td>\n",
              "      <td>19.722925</td>\n",
              "      <td>23.588780</td>\n",
              "      <td>22.739450</td>\n",
              "      <td>21.706100</td>\n",
              "      <td>20.624625</td>\n",
              "      <td>6.964785</td>\n",
              "    </tr>\n",
              "    <tr>\n",
              "      <th>604934</th>\n",
              "      <td>1.240000e+18</td>\n",
              "      <td>21.34051</td>\n",
              "      <td>20.64733</td>\n",
              "      <td>20.40584</td>\n",
              "      <td>20.45839</td>\n",
              "      <td>20.28701</td>\n",
              "      <td>21.82719</td>\n",
              "      <td>21.07991</td>\n",
              "      <td>20.84015</td>\n",
              "      <td>20.84428</td>\n",
              "      <td>...</td>\n",
              "      <td>0.000135</td>\n",
              "      <td>20.993920</td>\n",
              "      <td>20.526585</td>\n",
              "      <td>20.432115</td>\n",
              "      <td>20.372700</td>\n",
              "      <td>21.453550</td>\n",
              "      <td>20.960030</td>\n",
              "      <td>20.842215</td>\n",
              "      <td>20.830430</td>\n",
              "      <td>6.422472</td>\n",
              "    </tr>\n",
              "  </tbody>\n",
              "</table>\n",
              "<p>596331 rows × 28 columns</p>\n",
              "</div>\n",
              "      <button class=\"colab-df-convert\" onclick=\"convertToInteractive('df-bf5e3263-ace7-4099-9806-eae8748083c9')\"\n",
              "              title=\"Convert this dataframe to an interactive table.\"\n",
              "              style=\"display:none;\">\n",
              "        \n",
              "  <svg xmlns=\"http://www.w3.org/2000/svg\" height=\"24px\"viewBox=\"0 0 24 24\"\n",
              "       width=\"24px\">\n",
              "    <path d=\"M0 0h24v24H0V0z\" fill=\"none\"/>\n",
              "    <path d=\"M18.56 5.44l.94 2.06.94-2.06 2.06-.94-2.06-.94-.94-2.06-.94 2.06-2.06.94zm-11 1L8.5 8.5l.94-2.06 2.06-.94-2.06-.94L8.5 2.5l-.94 2.06-2.06.94zm10 10l.94 2.06.94-2.06 2.06-.94-2.06-.94-.94-2.06-.94 2.06-2.06.94z\"/><path d=\"M17.41 7.96l-1.37-1.37c-.4-.4-.92-.59-1.43-.59-.52 0-1.04.2-1.43.59L10.3 9.45l-7.72 7.72c-.78.78-.78 2.05 0 2.83L4 21.41c.39.39.9.59 1.41.59.51 0 1.02-.2 1.41-.59l7.78-7.78 2.81-2.81c.8-.78.8-2.07 0-2.86zM5.41 20L4 18.59l7.72-7.72 1.47 1.35L5.41 20z\"/>\n",
              "  </svg>\n",
              "      </button>\n",
              "      \n",
              "  <style>\n",
              "    .colab-df-container {\n",
              "      display:flex;\n",
              "      flex-wrap:wrap;\n",
              "      gap: 12px;\n",
              "    }\n",
              "\n",
              "    .colab-df-convert {\n",
              "      background-color: #E8F0FE;\n",
              "      border: none;\n",
              "      border-radius: 50%;\n",
              "      cursor: pointer;\n",
              "      display: none;\n",
              "      fill: #1967D2;\n",
              "      height: 32px;\n",
              "      padding: 0 0 0 0;\n",
              "      width: 32px;\n",
              "    }\n",
              "\n",
              "    .colab-df-convert:hover {\n",
              "      background-color: #E2EBFA;\n",
              "      box-shadow: 0px 1px 2px rgba(60, 64, 67, 0.3), 0px 1px 3px 1px rgba(60, 64, 67, 0.15);\n",
              "      fill: #174EA6;\n",
              "    }\n",
              "\n",
              "    [theme=dark] .colab-df-convert {\n",
              "      background-color: #3B4455;\n",
              "      fill: #D2E3FC;\n",
              "    }\n",
              "\n",
              "    [theme=dark] .colab-df-convert:hover {\n",
              "      background-color: #434B5C;\n",
              "      box-shadow: 0px 1px 3px 1px rgba(0, 0, 0, 0.15);\n",
              "      filter: drop-shadow(0px 1px 2px rgba(0, 0, 0, 0.3));\n",
              "      fill: #FFFFFF;\n",
              "    }\n",
              "  </style>\n",
              "\n",
              "      <script>\n",
              "        const buttonEl =\n",
              "          document.querySelector('#df-bf5e3263-ace7-4099-9806-eae8748083c9 button.colab-df-convert');\n",
              "        buttonEl.style.display =\n",
              "          google.colab.kernel.accessAllowed ? 'block' : 'none';\n",
              "\n",
              "        async function convertToInteractive(key) {\n",
              "          const element = document.querySelector('#df-bf5e3263-ace7-4099-9806-eae8748083c9');\n",
              "          const dataTable =\n",
              "            await google.colab.kernel.invokeFunction('convertToInteractive',\n",
              "                                                     [key], {});\n",
              "          if (!dataTable) return;\n",
              "\n",
              "          const docLinkHtml = 'Like what you see? Visit the ' +\n",
              "            '<a target=\"_blank\" href=https://colab.research.google.com/notebooks/data_table.ipynb>data table notebook</a>'\n",
              "            + ' to learn more about interactive tables.';\n",
              "          element.innerHTML = '';\n",
              "          dataTable['output_type'] = 'display_data';\n",
              "          await google.colab.output.renderOutput(dataTable, element);\n",
              "          const docLink = document.createElement('div');\n",
              "          docLink.innerHTML = docLinkHtml;\n",
              "          element.appendChild(docLink);\n",
              "        }\n",
              "      </script>\n",
              "    </div>\n",
              "  </div>\n",
              "  "
            ]
          },
          "metadata": {},
          "execution_count": 5
        }
      ],
      "source": [
        "dataset.drop_duplicates()"
      ]
    },
    {
      "cell_type": "code",
      "execution_count": null,
      "metadata": {
        "id": "YrBJ0KcHLisi"
      },
      "outputs": [],
      "source": [
        "#these columns are not required\n",
        "dataset.drop(['objid'], axis = 1,inplace=True) #dropping objid column\n",
        "dataset.drop(['zerr'], axis = 1,inplace=True) #dropping zerr column"
      ]
    },
    {
      "cell_type": "code",
      "execution_count": null,
      "metadata": {
        "id": "WuMdneZxLl8d"
      },
      "outputs": [],
      "source": [
        "dataset[dataset[\"modelMag_u\"]==-9999]=np.nan\n",
        "dataset[dataset[\"modelMag_g\"]==-9999]=np.nan\n",
        "dataset[dataset[\"modelMag_r\"]==-9999]=np.nan\n",
        "dataset[dataset[\"modelMag_i\"]==-9999]=np.nan\n",
        "dataset[dataset[\"modelMag_z\"]==-9999]=np.nan\n",
        "dataset[dataset[\"fiberMag_u\"]==-9999]=np.nan\n",
        "dataset[dataset[\"fiberMag_g\"]==-9999]=np.nan\n",
        "dataset[dataset[\"fiberMag_r\"]==-9999]=np.nan\n",
        "dataset[dataset[\"fiberMag_i\"]==-9999]=np.nan\n",
        "dataset[dataset[\"fiberMag_z\"]==-9999]=np.nan\n",
        "dataset[dataset[\"petroR50_r\"]==-9999]=np.nan\n",
        "dataset[dataset[\"petroR90_r\"]==-9999]=np.nan\n",
        "dataset[dataset[\"petroR50_z\"]==-9999]=np.nan\n",
        "dataset[dataset[\"petroR90_z\"]==-9999]=np.nan\n",
        "dataset[dataset[\"mmug\"]==-9999]=np.nan\n",
        "dataset[dataset[\"mmgr\"]==-9999]=np.nan\n",
        "dataset[dataset[\"mmri\"]==-9999]=np.nan\n",
        "dataset[dataset[\"mmiz\"]==-9999]=np.nan\n",
        "dataset[dataset[\"mfug\"]==-9999]=np.nan\n",
        "dataset[dataset[\"mfgr\"]==-9999]=np.nan\n",
        "dataset[dataset[\"mfri\"]==-9999]=np.nan\n",
        "dataset[dataset[\"mfiz\"]==-9999]=np.nan\n",
        "dataset[dataset[\"r\"]==-9999]=np.nan\n",
        "dataset[dataset[\"i\"]==-9999]=np.nan\n",
        "dataset[dataset[\"z\"]==-9999]=np.nan\n",
        "dataset[dataset[\"redshift\"]==-9999]=np.nan\n",
        "dataset[dataset[\"redshift\"]<0]=np.nan"
      ]
    },
    {
      "cell_type": "code",
      "execution_count": null,
      "metadata": {
        "colab": {
          "base_uri": "https://localhost:8080/"
        },
        "id": "LndkIZczLpOo",
        "outputId": "85572f48-457a-41f8-c3cf-3e8fe670213e"
      },
      "outputs": [
        {
          "output_type": "execute_result",
          "data": {
            "text/plain": [
              "(592312, 26)"
            ]
          },
          "metadata": {},
          "execution_count": 8
        }
      ],
      "source": [
        "#Dropping null values\n",
        "dataset=dataset.dropna()\n",
        "dataset.shape"
      ]
    },
    {
      "cell_type": "code",
      "execution_count": null,
      "metadata": {
        "colab": {
          "base_uri": "https://localhost:8080/",
          "height": 296
        },
        "id": "6-F6B0V7Lr1Z",
        "outputId": "db832e8c-bda5-4a57-baa0-4bf9bd1be3b4"
      },
      "outputs": [
        {
          "output_type": "execute_result",
          "data": {
            "text/plain": [
              "Text(0, 0.5, 'Number of samples')"
            ]
          },
          "metadata": {},
          "execution_count": 9
        },
        {
          "output_type": "display_data",
          "data": {
            "text/plain": [
              "<Figure size 432x288 with 1 Axes>"
            ],
            "image/png": "[encoded data removed]"
          },
          "metadata": {
            "needs_background": "light"
          }
        }
      ],
      "source": [
        "#checking the data distribution\n",
        "plt.hist(dataset['redshift'], bins=50, alpha=0.7)\n",
        "plt.xlabel('SpecZ')\n",
        "plt.ylabel('Number of samples')"
      ]
    },
    {
      "cell_type": "code",
      "source": [
        "def getClass(value):\n",
        "  if value>=0.00 and value<1.0:\n",
        "    return '1'\n",
        "  elif value>=1.00 and value<2.0:\n",
        "    return '2'\n",
        "  elif value>=2.00 and value<3.0:\n",
        "    return '3'\n",
        "  elif value>=3.00 and value<4.0:\n",
        "    return '4'\n",
        "  elif value>=4.00 and value<5.0:\n",
        "    return '5'\n",
        "  elif value>=5.00 and value<6.0:\n",
        "    return '6'\n",
        "  elif value>=6.00 and value<=7.0:\n",
        "    return '7'"
      ],
      "metadata": {
        "id": "Nb3yFX9ZBanZ"
      },
      "execution_count": null,
      "outputs": []
    },
    {
      "cell_type": "code",
      "source": [
        "##dataset['Class']=dataset['redshift'].apply(lambda x: cls(x))\n",
        "#dataset['Class']=dataset['redshift'].apply(lambda x: 0 if x<1.0 else 1)\n",
        "dataset['Class']=dataset['redshift'].apply(lambda x: getClass(x))\n",
        "dataset=dataset.dropna()\n",
        "dataset.shape\n",
        "#dataset.loc[dataset['redshift'] >0.00 , 'Class']='A'"
      ],
      "metadata": {
        "colab": {
          "base_uri": "https://localhost:8080/"
        },
        "id": "0ivGbq-DBfWZ",
        "outputId": "8482649c-79e0-4631-9676-891bb449fea0"
      },
      "execution_count": null,
      "outputs": [
        {
          "output_type": "execute_result",
          "data": {
            "text/plain": [
              "(592312, 27)"
            ]
          },
          "metadata": {},
          "execution_count": 11
        }
      ]
    },
    {
      "cell_type": "code",
      "source": [
        "df_1=dataset[dataset.Class=='1']\n",
        "df_2=dataset[dataset.Class=='2']\n",
        "df_3=dataset[dataset.Class=='3']\n",
        "df_4=dataset[dataset.Class=='4']\n",
        "df_5=dataset[dataset.Class=='5']\n",
        "df_6=dataset[dataset.Class=='6']\n",
        "df_7=dataset[dataset.Class=='7']"
      ],
      "metadata": {
        "id": "lEPc_XYhBh4m"
      },
      "execution_count": null,
      "outputs": []
    },
    {
      "cell_type": "code",
      "source": [
        "from sklearn.utils import resample\n",
        "df_1=resample(df_1,replace=True,n_samples=5000,random_state=123) \n",
        "df_2=resample(df_2,replace=True,n_samples=5000,random_state=123) \n",
        "df_3=resample(df_3,replace=True,n_samples=5000,random_state=123) \n",
        "df_4=resample(df_4,replace=True,n_samples=5000,random_state=123) \n",
        "df_5=resample(df_5,replace=True,n_samples=5000,random_state=123) \n",
        "df_6=resample(df_6,replace=True,n_samples=5000,random_state=123) \n",
        "df_7=resample(df_7,replace=True,n_samples=5000,random_state=123) \n",
        " "
      ],
      "metadata": {
        "id": "mw2Sxz3KBj7e"
      },
      "execution_count": null,
      "outputs": []
    },
    {
      "cell_type": "code",
      "source": [
        "dataset=pd.concat([df_1,df_2,df_3,df_4,df_5,df_6,df_7])"
      ],
      "metadata": {
        "id": "GI3d53iLBoLH"
      },
      "execution_count": null,
      "outputs": []
    },
    {
      "cell_type": "code",
      "source": [
        "del dataset['Class']"
      ],
      "metadata": {
        "id": "6Tnk1TvABo-d"
      },
      "execution_count": null,
      "outputs": []
    },
    {
      "cell_type": "code",
      "source": [
        "dataset.shape"
      ],
      "metadata": {
        "colab": {
          "base_uri": "https://localhost:8080/"
        },
        "id": "IIqTwMHZBrC6",
        "outputId": "dce7d3a0-e7d4-4428-c928-e33b8ad3c04c"
      },
      "execution_count": null,
      "outputs": [
        {
          "output_type": "execute_result",
          "data": {
            "text/plain": [
              "(35000, 26)"
            ]
          },
          "metadata": {},
          "execution_count": 16
        }
      ]
    },
    {
      "cell_type": "code",
      "source": [
        "#checking the data distribution\n",
        "plt.hist(dataset['redshift'], bins=50, alpha=0.7)\n",
        "plt.xlabel('SpecZ')\n",
        "plt.ylabel('Number of samples')"
      ],
      "metadata": {
        "colab": {
          "base_uri": "https://localhost:8080/",
          "height": 296
        },
        "id": "uw86-GmUBszk",
        "outputId": "775cf31e-d6f2-4505-a268-148d58d5ac1e"
      },
      "execution_count": null,
      "outputs": [
        {
          "output_type": "execute_result",
          "data": {
            "text/plain": [
              "Text(0, 0.5, 'Number of samples')"
            ]
          },
          "metadata": {},
          "execution_count": 17
        },
        {
          "output_type": "display_data",
          "data": {
            "text/plain": [
              "<Figure size 432x288 with 1 Axes>"
            ],
            "image/png": "[encoded data removed]"
          },
          "metadata": {
            "needs_background": "light"
          }
        }
      ]
    },
    {
      "cell_type": "code",
      "execution_count": null,
      "metadata": {
        "id": "lHgSeX0a4vTW"
      },
      "outputs": [],
      "source": [
        "dataset['redshift']=np.log1p(dataset['redshift'])"
      ]
    },
    {
      "cell_type": "code",
      "execution_count": null,
      "metadata": {
        "colab": {
          "base_uri": "https://localhost:8080/",
          "height": 296
        },
        "id": "8ImjsXeU49fi",
        "outputId": "4e649a6b-75f5-4d48-d94e-10081d3ae634"
      },
      "outputs": [
        {
          "output_type": "execute_result",
          "data": {
            "text/plain": [
              "Text(0, 0.5, 'Number of samples')"
            ]
          },
          "metadata": {},
          "execution_count": 19
        },
        {
          "output_type": "display_data",
          "data": {
            "text/plain": [
              "<Figure size 432x288 with 1 Axes>"
            ],
            "image/png": "[encoded data removed]"
          },
          "metadata": {
            "needs_background": "light"
          }
        }
      ],
      "source": [
        "#checking the data distribution\n",
        "plt.hist(dataset['redshift'], bins=50, alpha=0.7)\n",
        "plt.xlabel('SpecZ')\n",
        "plt.ylabel('Number of samples')"
      ]
    },
    {
      "cell_type": "code",
      "execution_count": null,
      "metadata": {
        "id": "h6y2s0IBL-q2"
      },
      "outputs": [],
      "source": [
        "X=dataset.drop('redshift',axis=1)\n",
        "Y=dataset['redshift']"
      ]
    },
    {
      "cell_type": "code",
      "execution_count": null,
      "metadata": {
        "colab": {
          "base_uri": "https://localhost:8080/"
        },
        "id": "psBt6hrIMCPy",
        "outputId": "6031dedc-c5d3-40b8-eee6-096b78f1b83c"
      },
      "outputs": [
        {
          "output_type": "stream",
          "name": "stdout",
          "text": [
            "[[0.54466511 0.50488961 0.61698719 ... 0.61911443 0.57650437 0.52158608]\n",
            " [0.51007011 0.59149041 0.7374516  ... 0.73694822 0.67972183 0.61469536]\n",
            " [0.2336106  0.2647087  0.41218286 ... 0.37455848 0.42364118 0.43238607]\n",
            " ...\n",
            " [0.60656801 0.56092112 0.70040071 ... 0.63856932 0.61843939 0.57810688]\n",
            " [0.37345354 0.45897078 0.72360142 ... 0.56959527 0.66332352 0.70240249]\n",
            " [0.55981939 0.57861795 0.69924744 ... 0.68027893 0.622056   0.56805061]]\n"
          ]
        },
        {
          "output_type": "execute_result",
          "data": {
            "text/plain": [
              "(35000, 25)"
            ]
          },
          "metadata": {},
          "execution_count": 21
        }
      ],
      "source": [
        "scaler = MinMaxScaler()\n",
        "X = scaler.fit_transform(X)\n",
        "print(X)\n",
        "X.shape"
      ]
    },
    {
      "cell_type": "code",
      "execution_count": null,
      "metadata": {
        "colab": {
          "base_uri": "https://localhost:8080/"
        },
        "id": "V-h1qkUsMIN_",
        "outputId": "bb160738-e26f-48c5-f955-d652b137ffe3"
      },
      "outputs": [
        {
          "output_type": "stream",
          "name": "stdout",
          "text": [
            "298740    0.210210\n",
            "333195    0.460069\n",
            "33228     0.016974\n",
            "20818     0.473781\n",
            "230252    0.475167\n",
            "            ...   \n",
            "597929    2.025273\n",
            "593895    2.031609\n",
            "598699    1.992517\n",
            "589342    2.008150\n",
            "586897    2.011822\n",
            "Name: redshift, Length: 35000, dtype: float64\n"
          ]
        }
      ],
      "source": [
        "# Target vector\n",
        "y = dataset['redshift']\n",
        "print(y)"
      ]
    },
    {
      "cell_type": "code",
      "execution_count": null,
      "metadata": {
        "colab": {
          "base_uri": "https://localhost:8080/"
        },
        "id": "pe0KzTXIMM6Q",
        "outputId": "b245a8e0-34a2-4591-bd6b-ad69c3223357"
      },
      "outputs": [
        {
          "output_type": "stream",
          "name": "stdout",
          "text": [
            "(35000, 1)\n"
          ]
        }
      ],
      "source": [
        "y=y.to_numpy() #pd needs to convert to numpy before applying minmaxscaler\n",
        "y=y.reshape(-1,1) # this is for using MinMAxscalerr\n",
        "print(y.shape)"
      ]
    },
    {
      "cell_type": "code",
      "execution_count": null,
      "metadata": {
        "colab": {
          "base_uri": "https://localhost:8080/"
        },
        "id": "dLV73FliMQfr",
        "outputId": "32bd50d8-9e67-43d6-a03c-96fa211b6e5a"
      },
      "outputs": [
        {
          "output_type": "stream",
          "name": "stdout",
          "text": [
            "[[0.10109011]\n",
            " [0.22124794]\n",
            " [0.00816258]\n",
            " ...\n",
            " [0.95820368]\n",
            " [0.96572176]\n",
            " [0.96748776]]\n"
          ]
        }
      ],
      "source": [
        "scaler = MinMaxScaler()\n",
        "y = scaler.fit_transform(y)\n",
        "print(y)"
      ]
    },
    {
      "cell_type": "code",
      "execution_count": null,
      "metadata": {
        "id": "zQ1TXqQAMTSD"
      },
      "outputs": [],
      "source": [
        "#user dfined function for train,test and validation\n",
        "def my_train_test_split(X, y, ratio_train, ratio_val, seed=42):\n",
        "    idx = np.arange(X.shape[0])\n",
        "    np.random.seed(seed)\n",
        "    np.random.shuffle(idx)\n",
        "\n",
        "    limit_train = int(ratio_train * X.shape[0])\n",
        "    limit_val = int((ratio_train + ratio_val) * X.shape[0])\n",
        "\n",
        "    idx_train = idx[:limit_train]\n",
        "    idx_val = idx[limit_train:limit_val]\n",
        "    idx_test = idx[limit_val:]\n",
        "\n",
        "    X_train, y_train = X[idx_train], y[idx_train]\n",
        "    X_val, y_val = X[idx_val], y[idx_val]\n",
        "    X_test, y_test = X[idx_test], y[idx_test]\n",
        "\n",
        "    return X_train, X_val, X_test, y_train, y_val, y_test"
      ]
    },
    {
      "cell_type": "code",
      "execution_count": null,
      "metadata": {
        "id": "r6nWjt_7MWDZ"
      },
      "outputs": [],
      "source": [
        "X_train, X_val, X_test, y_train, y_val, y_test = my_train_test_split(X, y, .75,.15,seed=42)"
      ]
    },
    {
      "cell_type": "code",
      "execution_count": null,
      "metadata": {
        "id": "-0eXWeu_MbhL"
      },
      "outputs": [],
      "source": [
        "y_train=y_train.ravel()"
      ]
    },
    {
      "cell_type": "code",
      "execution_count": null,
      "metadata": {
        "colab": {
          "base_uri": "https://localhost:8080/"
        },
        "id": "58ThmLufV5A3",
        "outputId": "752e0f84-212c-4bc3-f661-ee6419aae8ba"
      },
      "outputs": [
        {
          "output_type": "stream",
          "name": "stdout",
          "text": [
            "Time:  0.29309987398333326 minutes\n"
          ]
        }
      ],
      "source": [
        "#code for xtratree regressor\n",
        "from sklearn.datasets import make_regression\n",
        "from sklearn.ensemble import ExtraTreesRegressor\n",
        "import timeit\n",
        "start = timeit.default_timer()\n",
        "model = ExtraTreesRegressor(n_estimators=50, random_state=0)\n",
        "model.fit(X_train, y_train)\n",
        "stop = timeit.default_timer()\n",
        "print('Time: ', (stop - start)/60,'minutes')  \n"
      ]
    },
    {
      "cell_type": "code",
      "execution_count": null,
      "metadata": {
        "colab": {
          "base_uri": "https://localhost:8080/"
        },
        "id": "TLpfLFuWM_SV",
        "outputId": "cfe8ddcb-3b55-46e3-c194-d42c9c4dedf7"
      },
      "outputs": [
        {
          "output_type": "stream",
          "name": "stdout",
          "text": [
            "Explained variance (best possible score is 1.0, lower values are worse): 0.6240622562536879\n",
            "Mean Absolute Error (best is 0.0): 0.09442241008832428\n",
            "Mean Squared Error (best is 0.0): 0.027047404344297806\n",
            "R2 score (best is 1.0): 0.6209381345612355\n",
            "root Mean Squared Error (best is 0.0): 0.16446095081902515\n"
          ]
        }
      ],
      "source": [
        "y_pred_tree = model.predict(X_test)\n",
        "from sklearn import metrics\n",
        "from math import sqrt\n",
        "from sklearn.metrics import mean_squared_error\n",
        "var = metrics.explained_variance_score(y_test, y_pred_tree)\n",
        "mae = metrics.mean_absolute_error(y_test, y_pred_tree)\n",
        "mse = metrics.mean_squared_error(y_test, y_pred_tree)\n",
        "r2 = metrics.r2_score(y_test, y_pred_tree)\n",
        "rmse = sqrt(mean_squared_error(y_test, y_pred_tree))\n",
        "print ('Explained variance (best possible score is 1.0, lower values are worse):', var)\n",
        "print ('Mean Absolute Error (best is 0.0):', mae)\n",
        "print ('Mean Squared Error (best is 0.0):', mse)\n",
        "print ('R2 score (best is 1.0):', r2)\n",
        "print ('root Mean Squared Error (best is 0.0):', rmse)\n"
      ]
    },
    {
      "cell_type": "code",
      "execution_count": null,
      "metadata": {
        "colab": {
          "base_uri": "https://localhost:8080/"
        },
        "id": "qIbaeXhSUBSR",
        "outputId": "aa3fd37b-db2a-4128-d453-7f0c08296101"
      },
      "outputs": [
        {
          "output_type": "stream",
          "name": "stdout",
          "text": [
            "Catastropic Outliers:  30.6 %\n",
            "Total rms:  0    0.164461\n",
            "dtype: float64\n",
            "rms w/o outliers 0    0.0347\n",
            "dtype: float64\n",
            "Bias:  0   -0.01493\n",
            "dtype: float64\n",
            "Bias(median value of delta z): -6.661338147750939e-16\n",
            "NMAD:  0.04560566734910639\n"
          ]
        }
      ],
      "source": [
        "y_test_tree=y_test\n",
        "y_test_tree=pd.DataFrame(y_test_tree)\n",
        "y_pred_tree=pd.DataFrame(y_pred_tree)\n",
        "outl=y_pred_tree[abs(y_test_tree-y_pred_tree)>0.1]\n",
        "outl=outl.dropna()\n",
        "print('Catastropic Outliers: ', outl.shape[0]*100.0/y_test.shape[0],'%')\n",
        "print('Total rms: ', np.sqrt(np.mean((y_test_tree-y_pred_tree)**2)))\n",
        "print('rms w/o outliers', np.sqrt(np.mean(((y_test_tree-y_pred_tree)[abs(y_test_tree-y_pred_tree)<0.1])**2)))\n",
        "print('Bias: ', np.mean(y_test_tree-y_pred_tree))\n",
        "print('Bias(median value of delta z):', np.median(y_test_tree-y_pred_tree))\n",
        "plt.show()\n",
        "\n",
        "delta_znorm=abs((y_test_tree-y_pred_tree)-np.median(y_pred_tree-y_test_tree)/(1+y_test_tree))\n",
        "NMAD=1.48*np.median(delta_znorm)\n",
        "print('NMAD: ', NMAD)"
      ]
    },
    {
      "cell_type": "code",
      "execution_count": null,
      "metadata": {
        "colab": {
          "base_uri": "https://localhost:8080/",
          "height": 312
        },
        "id": "fyEyhehilb6Y",
        "outputId": "4e179612-fbd7-43a3-a162-061261d19783"
      },
      "outputs": [
        {
          "output_type": "execute_result",
          "data": {
            "text/plain": [
              "Text(0, 0.5, 'Predicted')"
            ]
          },
          "metadata": {},
          "execution_count": 31
        },
        {
          "output_type": "display_data",
          "data": {
            "text/plain": [
              "<Figure size 432x288 with 1 Axes>"
            ],
            "image/png": "[encoded data removed]"
          },
          "metadata": {
            "needs_background": "light"
          }
        }
      ],
      "source": [
        "import matplotlib.pyplot as plt \n",
        "#y_pred_tree=np.expm1( y_pred_tree)\n",
        "y_pred_tree=np.expm1(scaler.inverse_transform(y_pred_tree))\n",
        "y_test_tree=np.expm1(scaler.inverse_transform(y_test_tree))\n",
        "plt.scatter(y_test_tree[:359670], y_pred_tree[:359670], s=0.4)\n",
        "plt.plot(np.linspace(0,7,7), np.linspace(0,7,7), c = 'orange', linestyle='--')\n",
        "plt.xlim(0, 7)\n",
        "plt.ylim(0, 7)\n",
        "plt.title('True/Predicted Graph') \n",
        "plt.grid(True) \n",
        "plt.xlabel(\"True\") \n",
        "plt.ylabel('Predicted')"
      ]
    },
    {
      "cell_type": "markdown",
      "metadata": {
        "id": "xkFpHMcWUIXX"
      },
      "source": [
        "**Random Forest**"
      ]
    },
    {
      "cell_type": "code",
      "execution_count": null,
      "metadata": {
        "colab": {
          "base_uri": "https://localhost:8080/"
        },
        "id": "nnreR9kwThC2",
        "outputId": "db814731-c255-442a-85eb-7cc6070edb01"
      },
      "outputs": [
        {
          "output_type": "stream",
          "name": "stdout",
          "text": [
            "Time:  0.67464040905 minutes\n"
          ]
        }
      ],
      "source": [
        "# Fitting Random Forest Regression to the dataset\n",
        "# import the regressor\n",
        "from sklearn.ensemble import RandomForestRegressor\n",
        " \n",
        " # create regressor object\n",
        "\n",
        "import timeit\n",
        "start = timeit.default_timer()\n",
        "model = RandomForestRegressor(n_estimators = 50, random_state = 0)\n",
        "model.fit(X_train, y_train)\n",
        "stop = timeit.default_timer()\n",
        "print('Time: ', (stop - start)/60,'minutes')  "
      ]
    },
    {
      "cell_type": "code",
      "execution_count": null,
      "metadata": {
        "colab": {
          "base_uri": "https://localhost:8080/"
        },
        "id": "HQ22j5HHT3NP",
        "outputId": "a4a2aaba-3b6c-4c86-b01e-409e86d167e6"
      },
      "outputs": [
        {
          "output_type": "stream",
          "name": "stdout",
          "text": [
            "Explained variance (best possible score is 1.0, lower values are worse): 0.5845585608007695\n",
            "Mean Absolute Error (best is 0.0): 0.11018637007438753\n",
            "Mean Squared Error (best is 0.0): 0.029743325885155013\n",
            "R2 score (best is 1.0): 0.5831555423632775\n",
            "root Mean Squared Error (best is 0.0): 0.1724625347290101\n"
          ]
        }
      ],
      "source": [
        "y_pred_tree = model.predict(X_test)\n",
        "from sklearn import metrics\n",
        "from math import sqrt\n",
        "from sklearn.metrics import mean_squared_error\n",
        "var = metrics.explained_variance_score(y_test, y_pred_tree)\n",
        "mae = metrics.mean_absolute_error(y_test, y_pred_tree)\n",
        "mse = metrics.mean_squared_error(y_test, y_pred_tree)\n",
        "r2 = metrics.r2_score(y_test, y_pred_tree)\n",
        "rmse = sqrt(mean_squared_error(y_test, y_pred_tree))\n",
        "print ('Explained variance (best possible score is 1.0, lower values are worse):', var)\n",
        "print ('Mean Absolute Error (best is 0.0):', mae)\n",
        "print ('Mean Squared Error (best is 0.0):', mse)\n",
        "print ('R2 score (best is 1.0):', r2)\n",
        "print ('root Mean Squared Error (best is 0.0):', rmse)\n"
      ]
    },
    {
      "cell_type": "code",
      "execution_count": null,
      "metadata": {
        "colab": {
          "base_uri": "https://localhost:8080/"
        },
        "id": "vgeFgaOrUCt6",
        "outputId": "c0d58fa8-6f52-4991-db56-9dec15150310"
      },
      "outputs": [
        {
          "output_type": "stream",
          "name": "stdout",
          "text": [
            "Catastropic Outliers:  36.08571428571429 %\n",
            "Total rms:  0    0.172463\n",
            "dtype: float64\n",
            "rms w/o outliers 0    0.043089\n",
            "dtype: float64\n",
            "Bias:  0   -0.010006\n",
            "dtype: float64\n",
            "Bias(median value of delta z): -0.0005584627321683078\n",
            "NMAD:  0.08350912021272906\n"
          ]
        }
      ],
      "source": [
        "y_test_tree=y_test\n",
        "y_test_tree=pd.DataFrame(y_test_tree)\n",
        "y_pred_tree=pd.DataFrame(y_pred_tree)\n",
        "outl=y_pred_tree[abs(y_test_tree-y_pred_tree)>0.1]\n",
        "outl=outl.dropna()\n",
        "print('Catastropic Outliers: ', outl.shape[0]*100.0/y_test.shape[0],'%')\n",
        "print('Total rms: ', np.sqrt(np.mean((y_test_tree-y_pred_tree)**2)))\n",
        "print('rms w/o outliers', np.sqrt(np.mean(((y_test_tree-y_pred_tree)[abs(y_test_tree-y_pred_tree)<0.1])**2)))\n",
        "print('Bias: ', np.mean(y_test_tree-y_pred_tree))\n",
        "print('Bias(median value of delta z):', np.median(y_test_tree-y_pred_tree))\n",
        "plt.show()\n",
        "\n",
        "delta_znorm=abs((y_test_tree-y_pred_tree)-np.median(y_pred_tree-y_test_tree)/(1+y_test_tree))\n",
        "NMAD=1.48*np.median(delta_znorm)\n",
        "print('NMAD: ', NMAD)"
      ]
    },
    {
      "cell_type": "code",
      "execution_count": null,
      "metadata": {
        "colab": {
          "base_uri": "https://localhost:8080/",
          "height": 312
        },
        "id": "zIM3zGTAnoPf",
        "outputId": "9ba97e12-704a-477c-c2e7-0d493076e094"
      },
      "outputs": [
        {
          "output_type": "execute_result",
          "data": {
            "text/plain": [
              "Text(0, 0.5, 'Predicted')"
            ]
          },
          "metadata": {},
          "execution_count": 35
        },
        {
          "output_type": "display_data",
          "data": {
            "text/plain": [
              "<Figure size 432x288 with 1 Axes>"
            ],
            "image/png": "[encoded data removed]"
          },
          "metadata": {
            "needs_background": "light"
          }
        }
      ],
      "source": [
        "import matplotlib.pyplot as plt \n",
        "#y_pred_tree=np.expm1( y_pred_tree)\n",
        "y_pred_tree=np.expm1(scaler.inverse_transform(y_pred_tree))\n",
        "y_test_tree=np.expm1(scaler.inverse_transform(y_test_tree))\n",
        "plt.scatter(y_test_tree[:359670], y_pred_tree[:359670], s=0.4)\n",
        "plt.plot(np.linspace(0,7,7), np.linspace(0,7,7), c = 'orange', linestyle='--')\n",
        "plt.xlim(0, 7)\n",
        "plt.ylim(0, 7)\n",
        "plt.title('True/Predicted Graph') \n",
        "plt.grid(True) \n",
        "plt.xlabel(\"True\") \n",
        "plt.ylabel('Predicted')"
      ]
    },
    {
      "cell_type": "markdown",
      "metadata": {
        "id": "8q9VtflG-p7g"
      },
      "source": [
        "**Adaboost**"
      ]
    },
    {
      "cell_type": "code",
      "execution_count": null,
      "metadata": {
        "colab": {
          "base_uri": "https://localhost:8080/"
        },
        "id": "BLdw3V7U-wD9",
        "outputId": "5bc11309-c305-40f6-cdb9-7be6c9c783e0"
      },
      "outputs": [
        {
          "output_type": "stream",
          "name": "stdout",
          "text": [
            "Time:  0.049261588683333454 minutes\n"
          ]
        }
      ],
      "source": [
        "from sklearn.ensemble import AdaBoostRegressor\n",
        "\n",
        "import timeit\n",
        "start = timeit.default_timer()\n",
        "model =AdaBoostRegressor(random_state=0, n_estimators=50)\n",
        "model.fit(X_train, y_train)\n",
        "stop = timeit.default_timer()\n",
        "print('Time: ', (stop - start)/60,'minutes')  "
      ]
    },
    {
      "cell_type": "code",
      "execution_count": null,
      "metadata": {
        "colab": {
          "base_uri": "https://localhost:8080/"
        },
        "id": "Y6YPE3x6Ogfj",
        "outputId": "27168b22-23f0-4ef9-f41c-acc7c7cfd145"
      },
      "outputs": [
        {
          "output_type": "stream",
          "name": "stdout",
          "text": [
            "Explained variance (best possible score is 1.0, lower values are worse): 0.29751036783150453\n",
            "Mean Absolute Error (best is 0.0): 0.18458475029564114\n",
            "Mean Squared Error (best is 0.0): 0.05015458435056074\n",
            "R2 score (best is 1.0): 0.2970974196924183\n",
            "root Mean Squared Error (best is 0.0): 0.22395219210929984\n"
          ]
        }
      ],
      "source": [
        "y_pred_tree = model.predict(X_test)\n",
        "from sklearn import metrics\n",
        "from math import sqrt\n",
        "from sklearn.metrics import mean_squared_error\n",
        "var = metrics.explained_variance_score(y_test, y_pred_tree)\n",
        "mae = metrics.mean_absolute_error(y_test, y_pred_tree)\n",
        "mse = metrics.mean_squared_error(y_test, y_pred_tree)\n",
        "r2 = metrics.r2_score(y_test, y_pred_tree)\n",
        "rmse = sqrt(mean_squared_error(y_test, y_pred_tree))\n",
        "print ('Explained variance (best possible score is 1.0, lower values are worse):', var)\n",
        "print ('Mean Absolute Error (best is 0.0):', mae)\n",
        "print ('Mean Squared Error (best is 0.0):', mse)\n",
        "print ('R2 score (best is 1.0):', r2)\n",
        "print ('root Mean Squared Error (best is 0.0):', rmse)\n"
      ]
    },
    {
      "cell_type": "code",
      "execution_count": null,
      "metadata": {
        "colab": {
          "base_uri": "https://localhost:8080/"
        },
        "id": "Xl7jQlrZOhQr",
        "outputId": "48545540-2e93-4f89-cf74-e0ae9cf09d03"
      },
      "outputs": [
        {
          "output_type": "stream",
          "name": "stdout",
          "text": [
            "Catastropic Outliers:  65.54285714285714 %\n",
            "Total rms:  0    0.223952\n",
            "dtype: float64\n",
            "rms w/o outliers 0    0.05601\n",
            "dtype: float64\n",
            "Bias:  0    0.005428\n",
            "dtype: float64\n",
            "Bias(median value of delta z): 0.006903270311434784\n",
            "NMAD:  0.25514017641401426\n"
          ]
        }
      ],
      "source": [
        "y_test_tree=y_test\n",
        "y_test_tree=pd.DataFrame(y_test_tree)\n",
        "y_pred_tree=pd.DataFrame(y_pred_tree)\n",
        "outl=y_pred_tree[abs(y_test_tree-y_pred_tree)>0.1]\n",
        "outl=outl.dropna()\n",
        "print('Catastropic Outliers: ', outl.shape[0]*100.0/y_test.shape[0],'%')\n",
        "print('Total rms: ', np.sqrt(np.mean((y_test_tree-y_pred_tree)**2)))\n",
        "print('rms w/o outliers', np.sqrt(np.mean(((y_test_tree-y_pred_tree)[abs(y_test_tree-y_pred_tree)<0.1])**2)))\n",
        "print('Bias: ', np.mean(y_test_tree-y_pred_tree))\n",
        "print('Bias(median value of delta z):', np.median(y_test_tree-y_pred_tree))\n",
        "plt.show()\n",
        "\n",
        "delta_znorm=abs((y_test_tree-y_pred_tree)-np.median(y_pred_tree-y_test_tree)/(1+y_test_tree))\n",
        "NMAD=1.48*np.median(delta_znorm)\n",
        "print('NMAD: ', NMAD)"
      ]
    },
    {
      "cell_type": "code",
      "execution_count": null,
      "metadata": {
        "colab": {
          "base_uri": "https://localhost:8080/",
          "height": 312
        },
        "id": "7xPEJi9mnvor",
        "outputId": "1efccae8-530b-47b9-c5b3-dee4835e5d50"
      },
      "outputs": [
        {
          "output_type": "execute_result",
          "data": {
            "text/plain": [
              "Text(0, 0.5, 'Predicted')"
            ]
          },
          "metadata": {},
          "execution_count": 39
        },
        {
          "output_type": "display_data",
          "data": {
            "text/plain": [
              "<Figure size 432x288 with 1 Axes>"
            ],
            "image/png": "[encoded data removed]"
          },
          "metadata": {
            "needs_background": "light"
          }
        }
      ],
      "source": [
        "import matplotlib.pyplot as plt \n",
        "#y_pred_tree=np.expm1( y_pred_tree)\n",
        "y_pred_tree=np.expm1(scaler.inverse_transform(y_pred_tree))\n",
        "y_test_tree=np.expm1(scaler.inverse_transform(y_test_tree))\n",
        "plt.scatter(y_test_tree[:359670], y_pred_tree[:359670], s=0.4)\n",
        "plt.plot(np.linspace(0,7,7), np.linspace(0,7,7), c = 'orange', linestyle='--')\n",
        "plt.xlim(0, 7)\n",
        "plt.ylim(0, 7)\n",
        "plt.title('True/Predicted Graph') \n",
        "plt.grid(True) \n",
        "plt.xlabel(\"True\") \n",
        "plt.ylabel('Predicted')"
      ]
    },
    {
      "cell_type": "markdown",
      "metadata": {
        "id": "b9mTahFXOo5m"
      },
      "source": [
        "**XG Boost**"
      ]
    },
    {
      "cell_type": "code",
      "execution_count": null,
      "metadata": {
        "colab": {
          "base_uri": "https://localhost:8080/"
        },
        "id": "jc2Z_vt3OtUe",
        "outputId": "d70f1f87-c60d-4106-e34e-71f3bde2538e"
      },
      "outputs": [
        {
          "output_type": "stream",
          "name": "stdout",
          "text": [
            "Looking in indexes: https://pypi.org/simple, https://us-python.pkg.dev/colab-wheels/public/simple/\n",
            "Requirement already satisfied: xgboost in /usr/local/lib/python3.7/dist-packages (0.90)\n",
            "Requirement already satisfied: scipy in /usr/local/lib/python3.7/dist-packages (from xgboost) (1.7.3)\n",
            "Requirement already satisfied: numpy in /usr/local/lib/python3.7/dist-packages (from xgboost) (1.21.6)\n"
          ]
        }
      ],
      "source": [
        "!pip install xgboost"
      ]
    },
    {
      "cell_type": "code",
      "execution_count": null,
      "metadata": {
        "colab": {
          "base_uri": "https://localhost:8080/"
        },
        "id": "u7bSbmG_PLKF",
        "outputId": "3fb727e3-989b-4aa4-90fd-9d2b12e83114"
      },
      "outputs": [
        {
          "output_type": "stream",
          "name": "stdout",
          "text": [
            "[05:59:33] WARNING: /workspace/src/objective/regression_obj.cu:152: reg:linear is now deprecated in favor of reg:squarederror.\n",
            "Time:  0.41257752435000017 minutes\n"
          ]
        }
      ],
      "source": [
        "import xgboost\n",
        "\n",
        "import timeit\n",
        "start = timeit.default_timer()\n",
        "model = xgboost.XGBRegressor(n_estimators=500, random_state=0)\n",
        "model.fit(X_train, y_train)\n",
        "stop = timeit.default_timer()\n",
        "print('Time: ', (stop - start)/60,'minutes')  "
      ]
    },
    {
      "cell_type": "code",
      "execution_count": null,
      "metadata": {
        "id": "qJB5jOESPvz4",
        "colab": {
          "base_uri": "https://localhost:8080/"
        },
        "outputId": "494667dd-d47b-4346-e038-ff5de01dce70"
      },
      "outputs": [
        {
          "output_type": "stream",
          "name": "stdout",
          "text": [
            "Explained variance (best possible score is 1.0, lower values are worse): 0.45373594220687385\n",
            "Mean Absolute Error (best is 0.0): 0.14317144082435834\n",
            "Mean Squared Error (best is 0.0): 0.038983443986652606\n",
            "R2 score (best is 1.0): 0.4536578515740838\n",
            "root Mean Squared Error (best is 0.0): 0.19744225481556021\n"
          ]
        }
      ],
      "source": [
        "y_pred_tree = model.predict(X_test)\n",
        "from sklearn import metrics\n",
        "from math import sqrt\n",
        "from sklearn.metrics import mean_squared_error\n",
        "var = metrics.explained_variance_score(y_test, y_pred_tree)\n",
        "mae = metrics.mean_absolute_error(y_test, y_pred_tree)\n",
        "mse = metrics.mean_squared_error(y_test, y_pred_tree)\n",
        "r2 = metrics.r2_score(y_test, y_pred_tree)\n",
        "rmse = sqrt(mean_squared_error(y_test, y_pred_tree))\n",
        "print ('Explained variance (best possible score is 1.0, lower values are worse):', var)\n",
        "print ('Mean Absolute Error (best is 0.0):', mae)\n",
        "print ('Mean Squared Error (best is 0.0):', mse)\n",
        "print ('R2 score (best is 1.0):', r2)\n",
        "print ('root Mean Squared Error (best is 0.0):', rmse)\n"
      ]
    },
    {
      "cell_type": "code",
      "execution_count": null,
      "metadata": {
        "id": "CEeV3KSdPyQs",
        "colab": {
          "base_uri": "https://localhost:8080/"
        },
        "outputId": "327f27d7-ec30-4b34-9538-21381108e89b"
      },
      "outputs": [
        {
          "output_type": "stream",
          "name": "stdout",
          "text": [
            "Catastropic Outliers:  50.114285714285714 %\n",
            "Total rms:  0    0.197442\n",
            "dtype: float64\n",
            "rms w/o outliers 0    0.050082\n",
            "dtype: float64\n",
            "Bias:  0    0.002361\n",
            "dtype: float64\n",
            "Bias(median value of delta z): -0.007172591374168917\n",
            "NMAD:  0.15113949460208684\n"
          ]
        }
      ],
      "source": [
        "y_test_tree=y_test\n",
        "y_test_tree=pd.DataFrame(y_test_tree)\n",
        "y_pred_tree=pd.DataFrame(y_pred_tree)\n",
        "outl=y_pred_tree[abs(y_test_tree-y_pred_tree)>0.1]\n",
        "outl=outl.dropna()\n",
        "print('Catastropic Outliers: ', outl.shape[0]*100.0/y_test.shape[0],'%')\n",
        "print('Total rms: ', np.sqrt(np.mean((y_test_tree-y_pred_tree)**2)))\n",
        "print('rms w/o outliers', np.sqrt(np.mean(((y_test_tree-y_pred_tree)[abs(y_test_tree-y_pred_tree)<0.1])**2)))\n",
        "print('Bias: ', np.mean(y_test_tree-y_pred_tree))\n",
        "print('Bias(median value of delta z):', np.median(y_test_tree-y_pred_tree))\n",
        "plt.show()\n",
        "\n",
        "delta_znorm=abs((y_test_tree-y_pred_tree)-np.median(y_pred_tree-y_test_tree)/(1+y_test_tree))\n",
        "NMAD=1.48*np.median(delta_znorm)\n",
        "print('NMAD: ', NMAD)"
      ]
    },
    {
      "cell_type": "code",
      "execution_count": null,
      "metadata": {
        "id": "PadcJzgMnxvD",
        "colab": {
          "base_uri": "https://localhost:8080/",
          "height": 312
        },
        "outputId": "e15eeb0c-8666-4b6d-d2e5-c15edab83704"
      },
      "outputs": [
        {
          "output_type": "execute_result",
          "data": {
            "text/plain": [
              "Text(0, 0.5, 'Predicted')"
            ]
          },
          "metadata": {},
          "execution_count": 44
        },
        {
          "output_type": "display_data",
          "data": {
            "text/plain": [
              "<Figure size 432x288 with 1 Axes>"
            ],
            "image/png": "[encoded data removed]"
          },
          "metadata": {
            "needs_background": "light"
          }
        }
      ],
      "source": [
        "import matplotlib.pyplot as plt \n",
        "#y_pred_tree=np.expm1( y_pred_tree)\n",
        "y_pred_tree=np.expm1(scaler.inverse_transform(y_pred_tree))\n",
        "y_test_tree=np.expm1(scaler.inverse_transform(y_test_tree))\n",
        "plt.scatter(y_test_tree[:359670], y_pred_tree[:359670], s=0.4)\n",
        "plt.plot(np.linspace(0,7,7), np.linspace(0,7,7), c = 'orange', linestyle='--')\n",
        "plt.xlim(0, 7)\n",
        "plt.ylim(0, 7)\n",
        "plt.title('True/Predicted Graph') \n",
        "plt.grid(True) \n",
        "plt.xlabel(\"True\") \n",
        "plt.ylabel('Predicted')"
      ]
    },
    {
      "cell_type": "markdown",
      "metadata": {
        "id": "7B4FkHVBP2-l"
      },
      "source": [
        "**CatBoost**"
      ]
    },
    {
      "cell_type": "code",
      "execution_count": null,
      "metadata": {
        "colab": {
          "base_uri": "https://localhost:8080/"
        },
        "id": "_Lh0XG0NP6KW",
        "outputId": "8ae79e6c-3c47-44fa-80f4-884f3703fc6c"
      },
      "outputs": [
        {
          "output_type": "stream",
          "name": "stdout",
          "text": [
            "Looking in indexes: https://pypi.org/simple, https://us-python.pkg.dev/colab-wheels/public/simple/\n",
            "Collecting catboost\n",
            "  Downloading catboost-1.0.6-cp37-none-manylinux1_x86_64.whl (76.6 MB)\n",
            "\u001b[K     |████████████████████████████████| 76.6 MB 1.2 MB/s \n",
            "\u001b[?25hRequirement already satisfied: pandas>=0.24.0 in /usr/local/lib/python3.7/dist-packages (from catboost) (1.3.5)\n",
            "Requirement already satisfied: scipy in /usr/local/lib/python3.7/dist-packages (from catboost) (1.7.3)\n",
            "Requirement already satisfied: graphviz in /usr/local/lib/python3.7/dist-packages (from catboost) (0.10.1)\n",
            "Requirement already satisfied: numpy>=1.16.0 in /usr/local/lib/python3.7/dist-packages (from catboost) (1.21.6)\n",
            "Requirement already satisfied: plotly in /usr/local/lib/python3.7/dist-packages (from catboost) (5.5.0)\n",
            "Requirement already satisfied: six in /usr/local/lib/python3.7/dist-packages (from catboost) (1.15.0)\n",
            "Requirement already satisfied: matplotlib in /usr/local/lib/python3.7/dist-packages (from catboost) (3.2.2)\n",
            "Requirement already satisfied: pytz>=2017.3 in /usr/local/lib/python3.7/dist-packages (from pandas>=0.24.0->catboost) (2022.1)\n",
            "Requirement already satisfied: python-dateutil>=2.7.3 in /usr/local/lib/python3.7/dist-packages (from pandas>=0.24.0->catboost) (2.8.2)\n",
            "Requirement already satisfied: pyparsing!=2.0.4,!=2.1.2,!=2.1.6,>=2.0.1 in /usr/local/lib/python3.7/dist-packages (from matplotlib->catboost) (3.0.9)\n",
            "Requirement already satisfied: cycler>=0.10 in /usr/local/lib/python3.7/dist-packages (from matplotlib->catboost) (0.11.0)\n",
            "Requirement already satisfied: kiwisolver>=1.0.1 in /usr/local/lib/python3.7/dist-packages (from matplotlib->catboost) (1.4.3)\n",
            "Requirement already satisfied: typing-extensions in /usr/local/lib/python3.7/dist-packages (from kiwisolver>=1.0.1->matplotlib->catboost) (4.1.1)\n",
            "Requirement already satisfied: tenacity>=6.2.0 in /usr/local/lib/python3.7/dist-packages (from plotly->catboost) (8.0.1)\n",
            "Installing collected packages: catboost\n",
            "Successfully installed catboost-1.0.6\n"
          ]
        }
      ],
      "source": [
        "!pip install catboost"
      ]
    },
    {
      "cell_type": "code",
      "execution_count": null,
      "metadata": {
        "id": "qKSXT-ceQPM4",
        "colab": {
          "base_uri": "https://localhost:8080/"
        },
        "outputId": "846d678c-f036-4e47-9e11-8a50c0553e6a"
      },
      "outputs": [
        {
          "output_type": "stream",
          "name": "stdout",
          "text": [
            "Learning rate set to 0.120542\n",
            "0:\tlearn: 0.2582046\ttotal: 113ms\tremaining: 56.2s\n",
            "1:\tlearn: 0.2493283\ttotal: 152ms\tremaining: 37.9s\n",
            "2:\tlearn: 0.2418076\ttotal: 201ms\tremaining: 33.3s\n",
            "3:\tlearn: 0.2358133\ttotal: 257ms\tremaining: 31.9s\n",
            "4:\tlearn: 0.2307235\ttotal: 280ms\tremaining: 27.7s\n",
            "5:\tlearn: 0.2264051\ttotal: 297ms\tremaining: 24.4s\n",
            "6:\tlearn: 0.2232523\ttotal: 314ms\tremaining: 22.1s\n",
            "7:\tlearn: 0.2205510\ttotal: 357ms\tremaining: 22s\n",
            "8:\tlearn: 0.2181321\ttotal: 379ms\tremaining: 20.7s\n",
            "9:\tlearn: 0.2163242\ttotal: 394ms\tremaining: 19.3s\n",
            "10:\tlearn: 0.2147231\ttotal: 415ms\tremaining: 18.4s\n",
            "11:\tlearn: 0.2134316\ttotal: 470ms\tremaining: 19.1s\n",
            "12:\tlearn: 0.2123082\ttotal: 524ms\tremaining: 19.6s\n",
            "13:\tlearn: 0.2114328\ttotal: 564ms\tremaining: 19.6s\n",
            "14:\tlearn: 0.2105229\ttotal: 595ms\tremaining: 19.2s\n",
            "15:\tlearn: 0.2097879\ttotal: 661ms\tremaining: 20s\n",
            "16:\tlearn: 0.2092377\ttotal: 681ms\tremaining: 19.4s\n",
            "17:\tlearn: 0.2087624\ttotal: 716ms\tremaining: 19.2s\n",
            "18:\tlearn: 0.2082317\ttotal: 757ms\tremaining: 19.2s\n",
            "19:\tlearn: 0.2078324\ttotal: 788ms\tremaining: 18.9s\n",
            "20:\tlearn: 0.2074548\ttotal: 821ms\tremaining: 18.7s\n",
            "21:\tlearn: 0.2070507\ttotal: 859ms\tremaining: 18.7s\n",
            "22:\tlearn: 0.2067119\ttotal: 901ms\tremaining: 18.7s\n",
            "23:\tlearn: 0.2064407\ttotal: 940ms\tremaining: 18.6s\n",
            "24:\tlearn: 0.2062065\ttotal: 985ms\tremaining: 18.7s\n",
            "25:\tlearn: 0.2060157\ttotal: 1.01s\tremaining: 18.5s\n",
            "26:\tlearn: 0.2056531\ttotal: 1.06s\tremaining: 18.6s\n",
            "27:\tlearn: 0.2054309\ttotal: 1.1s\tremaining: 18.5s\n",
            "28:\tlearn: 0.2052821\ttotal: 1.13s\tremaining: 18.3s\n",
            "29:\tlearn: 0.2050013\ttotal: 1.15s\tremaining: 18s\n",
            "30:\tlearn: 0.2048098\ttotal: 1.16s\tremaining: 17.6s\n",
            "31:\tlearn: 0.2045817\ttotal: 1.18s\tremaining: 17.3s\n",
            "32:\tlearn: 0.2044225\ttotal: 1.2s\tremaining: 17s\n",
            "33:\tlearn: 0.2042159\ttotal: 1.22s\tremaining: 16.7s\n",
            "34:\tlearn: 0.2040390\ttotal: 1.25s\tremaining: 16.6s\n",
            "35:\tlearn: 0.2039224\ttotal: 1.28s\tremaining: 16.5s\n",
            "36:\tlearn: 0.2037897\ttotal: 1.32s\tremaining: 16.5s\n",
            "37:\tlearn: 0.2036198\ttotal: 1.36s\tremaining: 16.5s\n",
            "38:\tlearn: 0.2034515\ttotal: 1.39s\tremaining: 16.4s\n",
            "39:\tlearn: 0.2032944\ttotal: 1.42s\tremaining: 16.3s\n",
            "40:\tlearn: 0.2031191\ttotal: 1.44s\tremaining: 16.1s\n",
            "41:\tlearn: 0.2029830\ttotal: 1.45s\tremaining: 15.8s\n",
            "42:\tlearn: 0.2027701\ttotal: 1.46s\tremaining: 15.5s\n",
            "43:\tlearn: 0.2026062\ttotal: 1.47s\tremaining: 15.2s\n",
            "44:\tlearn: 0.2024572\ttotal: 1.48s\tremaining: 15s\n",
            "45:\tlearn: 0.2023012\ttotal: 1.49s\tremaining: 14.7s\n",
            "46:\tlearn: 0.2021567\ttotal: 1.5s\tremaining: 14.5s\n",
            "47:\tlearn: 0.2020496\ttotal: 1.52s\tremaining: 14.3s\n",
            "48:\tlearn: 0.2019270\ttotal: 1.53s\tremaining: 14.1s\n",
            "49:\tlearn: 0.2018526\ttotal: 1.54s\tremaining: 13.9s\n",
            "50:\tlearn: 0.2017180\ttotal: 1.56s\tremaining: 13.7s\n",
            "51:\tlearn: 0.2015633\ttotal: 1.57s\tremaining: 13.5s\n",
            "52:\tlearn: 0.2014038\ttotal: 1.58s\tremaining: 13.3s\n",
            "53:\tlearn: 0.2013060\ttotal: 1.59s\tremaining: 13.2s\n",
            "54:\tlearn: 0.2012074\ttotal: 1.6s\tremaining: 13s\n",
            "55:\tlearn: 0.2010689\ttotal: 1.62s\tremaining: 12.8s\n",
            "56:\tlearn: 0.2009965\ttotal: 1.63s\tremaining: 12.7s\n",
            "57:\tlearn: 0.2009050\ttotal: 1.64s\tremaining: 12.5s\n",
            "58:\tlearn: 0.2007488\ttotal: 1.66s\tremaining: 12.4s\n",
            "59:\tlearn: 0.2006303\ttotal: 1.67s\tremaining: 12.2s\n",
            "60:\tlearn: 0.2005287\ttotal: 1.68s\tremaining: 12.1s\n",
            "61:\tlearn: 0.2004450\ttotal: 1.69s\tremaining: 12s\n",
            "62:\tlearn: 0.2002848\ttotal: 1.71s\tremaining: 11.8s\n",
            "63:\tlearn: 0.2002072\ttotal: 1.72s\tremaining: 11.7s\n",
            "64:\tlearn: 0.2000701\ttotal: 1.73s\tremaining: 11.6s\n",
            "65:\tlearn: 0.1999656\ttotal: 1.74s\tremaining: 11.5s\n",
            "66:\tlearn: 0.1998358\ttotal: 1.76s\tremaining: 11.3s\n",
            "67:\tlearn: 0.1996749\ttotal: 1.77s\tremaining: 11.2s\n",
            "68:\tlearn: 0.1995648\ttotal: 1.78s\tremaining: 11.1s\n",
            "69:\tlearn: 0.1994299\ttotal: 1.79s\tremaining: 11s\n",
            "70:\tlearn: 0.1993019\ttotal: 1.8s\tremaining: 10.9s\n",
            "71:\tlearn: 0.1991856\ttotal: 1.81s\tremaining: 10.8s\n",
            "72:\tlearn: 0.1991163\ttotal: 1.83s\tremaining: 10.7s\n",
            "73:\tlearn: 0.1990037\ttotal: 1.84s\tremaining: 10.6s\n",
            "74:\tlearn: 0.1989016\ttotal: 1.85s\tremaining: 10.5s\n",
            "75:\tlearn: 0.1987800\ttotal: 1.86s\tremaining: 10.4s\n",
            "76:\tlearn: 0.1986334\ttotal: 1.87s\tremaining: 10.3s\n",
            "77:\tlearn: 0.1984449\ttotal: 1.88s\tremaining: 10.2s\n",
            "78:\tlearn: 0.1982858\ttotal: 1.9s\tremaining: 10.1s\n",
            "79:\tlearn: 0.1981997\ttotal: 1.91s\tremaining: 10s\n",
            "80:\tlearn: 0.1980884\ttotal: 1.92s\tremaining: 9.95s\n",
            "81:\tlearn: 0.1979060\ttotal: 1.94s\tremaining: 9.87s\n",
            "82:\tlearn: 0.1977825\ttotal: 1.96s\tremaining: 9.82s\n",
            "83:\tlearn: 0.1976214\ttotal: 1.97s\tremaining: 9.78s\n",
            "84:\tlearn: 0.1975059\ttotal: 1.99s\tremaining: 9.73s\n",
            "85:\tlearn: 0.1973993\ttotal: 2s\tremaining: 9.65s\n",
            "86:\tlearn: 0.1972918\ttotal: 2.02s\tremaining: 9.57s\n",
            "87:\tlearn: 0.1971588\ttotal: 2.03s\tremaining: 9.49s\n",
            "88:\tlearn: 0.1970893\ttotal: 2.04s\tremaining: 9.41s\n",
            "89:\tlearn: 0.1968858\ttotal: 2.05s\tremaining: 9.34s\n",
            "90:\tlearn: 0.1967986\ttotal: 2.06s\tremaining: 9.27s\n",
            "91:\tlearn: 0.1966955\ttotal: 2.07s\tremaining: 9.2s\n",
            "92:\tlearn: 0.1965101\ttotal: 2.09s\tremaining: 9.13s\n",
            "93:\tlearn: 0.1963942\ttotal: 2.1s\tremaining: 9.06s\n",
            "94:\tlearn: 0.1962319\ttotal: 2.11s\tremaining: 8.99s\n",
            "95:\tlearn: 0.1961307\ttotal: 2.12s\tremaining: 8.93s\n",
            "96:\tlearn: 0.1960229\ttotal: 2.14s\tremaining: 8.88s\n",
            "97:\tlearn: 0.1958814\ttotal: 2.15s\tremaining: 8.81s\n",
            "98:\tlearn: 0.1957363\ttotal: 2.16s\tremaining: 8.76s\n",
            "99:\tlearn: 0.1956007\ttotal: 2.17s\tremaining: 8.69s\n",
            "100:\tlearn: 0.1954987\ttotal: 2.19s\tremaining: 8.63s\n",
            "101:\tlearn: 0.1954180\ttotal: 2.19s\tremaining: 8.57s\n",
            "102:\tlearn: 0.1953142\ttotal: 2.21s\tremaining: 8.5s\n",
            "103:\tlearn: 0.1951735\ttotal: 2.22s\tremaining: 8.45s\n",
            "104:\tlearn: 0.1950218\ttotal: 2.23s\tremaining: 8.39s\n",
            "105:\tlearn: 0.1948759\ttotal: 2.24s\tremaining: 8.33s\n",
            "106:\tlearn: 0.1947697\ttotal: 2.25s\tremaining: 8.28s\n",
            "107:\tlearn: 0.1946375\ttotal: 2.26s\tremaining: 8.22s\n",
            "108:\tlearn: 0.1944278\ttotal: 2.27s\tremaining: 8.16s\n",
            "109:\tlearn: 0.1943322\ttotal: 2.29s\tremaining: 8.11s\n",
            "110:\tlearn: 0.1941851\ttotal: 2.3s\tremaining: 8.06s\n",
            "111:\tlearn: 0.1940614\ttotal: 2.31s\tremaining: 8.01s\n",
            "112:\tlearn: 0.1939111\ttotal: 2.33s\tremaining: 7.97s\n",
            "113:\tlearn: 0.1937380\ttotal: 2.34s\tremaining: 7.92s\n",
            "114:\tlearn: 0.1936569\ttotal: 2.35s\tremaining: 7.87s\n",
            "115:\tlearn: 0.1935301\ttotal: 2.36s\tremaining: 7.82s\n",
            "116:\tlearn: 0.1934499\ttotal: 2.37s\tremaining: 7.77s\n",
            "117:\tlearn: 0.1933398\ttotal: 2.38s\tremaining: 7.72s\n",
            "118:\tlearn: 0.1932384\ttotal: 2.4s\tremaining: 7.67s\n",
            "119:\tlearn: 0.1930974\ttotal: 2.41s\tremaining: 7.63s\n",
            "120:\tlearn: 0.1929927\ttotal: 2.42s\tremaining: 7.58s\n",
            "121:\tlearn: 0.1928463\ttotal: 2.43s\tremaining: 7.54s\n",
            "122:\tlearn: 0.1927291\ttotal: 2.45s\tremaining: 7.5s\n",
            "123:\tlearn: 0.1926339\ttotal: 2.46s\tremaining: 7.45s\n",
            "124:\tlearn: 0.1924593\ttotal: 2.47s\tremaining: 7.41s\n",
            "125:\tlearn: 0.1923912\ttotal: 2.48s\tremaining: 7.36s\n",
            "126:\tlearn: 0.1922022\ttotal: 2.49s\tremaining: 7.32s\n",
            "127:\tlearn: 0.1921145\ttotal: 2.5s\tremaining: 7.28s\n",
            "128:\tlearn: 0.1919991\ttotal: 2.52s\tremaining: 7.24s\n",
            "129:\tlearn: 0.1918723\ttotal: 2.53s\tremaining: 7.21s\n",
            "130:\tlearn: 0.1917486\ttotal: 2.54s\tremaining: 7.16s\n",
            "131:\tlearn: 0.1916051\ttotal: 2.56s\tremaining: 7.13s\n",
            "132:\tlearn: 0.1914984\ttotal: 2.57s\tremaining: 7.09s\n",
            "133:\tlearn: 0.1914134\ttotal: 2.58s\tremaining: 7.05s\n",
            "134:\tlearn: 0.1912515\ttotal: 2.6s\tremaining: 7.02s\n",
            "135:\tlearn: 0.1911364\ttotal: 2.61s\tremaining: 6.98s\n",
            "136:\tlearn: 0.1910081\ttotal: 2.62s\tremaining: 6.95s\n",
            "137:\tlearn: 0.1908973\ttotal: 2.63s\tremaining: 6.91s\n",
            "138:\tlearn: 0.1908306\ttotal: 2.65s\tremaining: 6.87s\n",
            "139:\tlearn: 0.1907498\ttotal: 2.66s\tremaining: 6.83s\n",
            "140:\tlearn: 0.1906694\ttotal: 2.67s\tremaining: 6.79s\n",
            "141:\tlearn: 0.1905126\ttotal: 2.68s\tremaining: 6.75s\n",
            "142:\tlearn: 0.1903998\ttotal: 2.69s\tremaining: 6.72s\n",
            "143:\tlearn: 0.1903590\ttotal: 2.7s\tremaining: 6.68s\n",
            "144:\tlearn: 0.1902566\ttotal: 2.71s\tremaining: 6.64s\n",
            "145:\tlearn: 0.1902048\ttotal: 2.72s\tremaining: 6.61s\n",
            "146:\tlearn: 0.1901249\ttotal: 2.74s\tremaining: 6.58s\n",
            "147:\tlearn: 0.1900511\ttotal: 2.75s\tremaining: 6.55s\n",
            "148:\tlearn: 0.1898946\ttotal: 2.76s\tremaining: 6.51s\n",
            "149:\tlearn: 0.1897727\ttotal: 2.78s\tremaining: 6.48s\n",
            "150:\tlearn: 0.1896927\ttotal: 2.79s\tremaining: 6.45s\n",
            "151:\tlearn: 0.1895571\ttotal: 2.81s\tremaining: 6.42s\n",
            "152:\tlearn: 0.1894732\ttotal: 2.82s\tremaining: 6.39s\n",
            "153:\tlearn: 0.1893909\ttotal: 2.83s\tremaining: 6.36s\n",
            "154:\tlearn: 0.1892812\ttotal: 2.84s\tremaining: 6.33s\n",
            "155:\tlearn: 0.1891954\ttotal: 2.85s\tremaining: 6.29s\n",
            "156:\tlearn: 0.1890079\ttotal: 2.87s\tremaining: 6.26s\n",
            "157:\tlearn: 0.1888815\ttotal: 2.88s\tremaining: 6.23s\n",
            "158:\tlearn: 0.1888044\ttotal: 2.89s\tremaining: 6.21s\n",
            "159:\tlearn: 0.1886797\ttotal: 2.91s\tremaining: 6.18s\n",
            "160:\tlearn: 0.1885897\ttotal: 2.92s\tremaining: 6.14s\n",
            "161:\tlearn: 0.1885003\ttotal: 2.93s\tremaining: 6.11s\n",
            "162:\tlearn: 0.1884235\ttotal: 2.95s\tremaining: 6.09s\n",
            "163:\tlearn: 0.1882932\ttotal: 2.96s\tremaining: 6.07s\n",
            "164:\tlearn: 0.1881818\ttotal: 2.98s\tremaining: 6.06s\n",
            "165:\tlearn: 0.1880571\ttotal: 3s\tremaining: 6.03s\n",
            "166:\tlearn: 0.1879863\ttotal: 3.01s\tremaining: 6s\n",
            "167:\tlearn: 0.1878952\ttotal: 3.02s\tremaining: 5.97s\n",
            "168:\tlearn: 0.1877512\ttotal: 3.03s\tremaining: 5.94s\n",
            "169:\tlearn: 0.1876561\ttotal: 3.04s\tremaining: 5.91s\n",
            "170:\tlearn: 0.1875513\ttotal: 3.06s\tremaining: 5.88s\n",
            "171:\tlearn: 0.1874903\ttotal: 3.07s\tremaining: 5.85s\n",
            "172:\tlearn: 0.1873955\ttotal: 3.08s\tremaining: 5.82s\n",
            "173:\tlearn: 0.1873159\ttotal: 3.09s\tremaining: 5.79s\n",
            "174:\tlearn: 0.1872313\ttotal: 3.1s\tremaining: 5.76s\n",
            "175:\tlearn: 0.1871420\ttotal: 3.11s\tremaining: 5.73s\n",
            "176:\tlearn: 0.1870511\ttotal: 3.13s\tremaining: 5.7s\n",
            "177:\tlearn: 0.1869885\ttotal: 3.15s\tremaining: 5.7s\n",
            "178:\tlearn: 0.1868554\ttotal: 3.18s\tremaining: 5.7s\n",
            "179:\tlearn: 0.1867292\ttotal: 3.19s\tremaining: 5.67s\n",
            "180:\tlearn: 0.1866795\ttotal: 3.2s\tremaining: 5.64s\n",
            "181:\tlearn: 0.1866032\ttotal: 3.21s\tremaining: 5.62s\n",
            "182:\tlearn: 0.1864438\ttotal: 3.23s\tremaining: 5.59s\n",
            "183:\tlearn: 0.1863496\ttotal: 3.24s\tremaining: 5.56s\n",
            "184:\tlearn: 0.1861938\ttotal: 3.25s\tremaining: 5.54s\n",
            "185:\tlearn: 0.1860639\ttotal: 3.26s\tremaining: 5.51s\n",
            "186:\tlearn: 0.1859716\ttotal: 3.27s\tremaining: 5.48s\n",
            "187:\tlearn: 0.1859070\ttotal: 3.29s\tremaining: 5.45s\n",
            "188:\tlearn: 0.1858171\ttotal: 3.3s\tremaining: 5.42s\n",
            "189:\tlearn: 0.1857312\ttotal: 3.31s\tremaining: 5.4s\n",
            "190:\tlearn: 0.1856589\ttotal: 3.32s\tremaining: 5.38s\n",
            "191:\tlearn: 0.1855768\ttotal: 3.34s\tremaining: 5.35s\n",
            "192:\tlearn: 0.1854869\ttotal: 3.35s\tremaining: 5.33s\n",
            "193:\tlearn: 0.1853325\ttotal: 3.37s\tremaining: 5.31s\n",
            "194:\tlearn: 0.1851996\ttotal: 3.38s\tremaining: 5.28s\n",
            "195:\tlearn: 0.1851038\ttotal: 3.39s\tremaining: 5.26s\n",
            "196:\tlearn: 0.1850423\ttotal: 3.4s\tremaining: 5.23s\n",
            "197:\tlearn: 0.1849118\ttotal: 3.41s\tremaining: 5.21s\n",
            "198:\tlearn: 0.1848109\ttotal: 3.43s\tremaining: 5.18s\n",
            "199:\tlearn: 0.1847191\ttotal: 3.44s\tremaining: 5.16s\n",
            "200:\tlearn: 0.1846159\ttotal: 3.45s\tremaining: 5.13s\n",
            "201:\tlearn: 0.1845464\ttotal: 3.47s\tremaining: 5.11s\n",
            "202:\tlearn: 0.1844901\ttotal: 3.48s\tremaining: 5.09s\n",
            "203:\tlearn: 0.1844139\ttotal: 3.49s\tremaining: 5.06s\n",
            "204:\tlearn: 0.1843167\ttotal: 3.5s\tremaining: 5.04s\n",
            "205:\tlearn: 0.1842153\ttotal: 3.51s\tremaining: 5.01s\n",
            "206:\tlearn: 0.1840725\ttotal: 3.53s\tremaining: 4.99s\n",
            "207:\tlearn: 0.1840236\ttotal: 3.54s\tremaining: 4.97s\n",
            "208:\tlearn: 0.1839328\ttotal: 3.55s\tremaining: 4.94s\n",
            "209:\tlearn: 0.1838711\ttotal: 3.56s\tremaining: 4.92s\n",
            "210:\tlearn: 0.1837976\ttotal: 3.58s\tremaining: 4.9s\n",
            "211:\tlearn: 0.1837150\ttotal: 3.59s\tremaining: 4.88s\n",
            "212:\tlearn: 0.1835553\ttotal: 3.6s\tremaining: 4.85s\n",
            "213:\tlearn: 0.1834387\ttotal: 3.61s\tremaining: 4.83s\n",
            "214:\tlearn: 0.1833617\ttotal: 3.63s\tremaining: 4.81s\n",
            "215:\tlearn: 0.1832908\ttotal: 3.64s\tremaining: 4.78s\n",
            "216:\tlearn: 0.1832527\ttotal: 3.65s\tremaining: 4.76s\n",
            "217:\tlearn: 0.1831573\ttotal: 3.66s\tremaining: 4.73s\n",
            "218:\tlearn: 0.1830829\ttotal: 3.67s\tremaining: 4.71s\n",
            "219:\tlearn: 0.1829790\ttotal: 3.68s\tremaining: 4.69s\n",
            "220:\tlearn: 0.1829101\ttotal: 3.69s\tremaining: 4.66s\n",
            "221:\tlearn: 0.1828425\ttotal: 3.71s\tremaining: 4.64s\n",
            "222:\tlearn: 0.1827253\ttotal: 3.72s\tremaining: 4.62s\n",
            "223:\tlearn: 0.1826226\ttotal: 3.73s\tremaining: 4.6s\n",
            "224:\tlearn: 0.1824946\ttotal: 3.75s\tremaining: 4.58s\n",
            "225:\tlearn: 0.1823833\ttotal: 3.76s\tremaining: 4.56s\n",
            "226:\tlearn: 0.1822976\ttotal: 3.78s\tremaining: 4.54s\n",
            "227:\tlearn: 0.1821957\ttotal: 3.79s\tremaining: 4.52s\n",
            "228:\tlearn: 0.1821390\ttotal: 3.8s\tremaining: 4.5s\n",
            "229:\tlearn: 0.1820899\ttotal: 3.82s\tremaining: 4.49s\n",
            "230:\tlearn: 0.1820077\ttotal: 3.85s\tremaining: 4.49s\n",
            "231:\tlearn: 0.1819173\ttotal: 3.88s\tremaining: 4.49s\n",
            "232:\tlearn: 0.1818364\ttotal: 3.92s\tremaining: 4.5s\n",
            "233:\tlearn: 0.1817322\ttotal: 3.94s\tremaining: 4.48s\n",
            "234:\tlearn: 0.1816464\ttotal: 3.98s\tremaining: 4.48s\n",
            "235:\tlearn: 0.1815661\ttotal: 4s\tremaining: 4.47s\n",
            "236:\tlearn: 0.1814843\ttotal: 4.01s\tremaining: 4.45s\n",
            "237:\tlearn: 0.1814105\ttotal: 4.03s\tremaining: 4.43s\n",
            "238:\tlearn: 0.1813487\ttotal: 4.04s\tremaining: 4.41s\n",
            "239:\tlearn: 0.1812904\ttotal: 4.05s\tremaining: 4.39s\n",
            "240:\tlearn: 0.1811938\ttotal: 4.07s\tremaining: 4.37s\n",
            "241:\tlearn: 0.1811268\ttotal: 4.09s\tremaining: 4.36s\n",
            "242:\tlearn: 0.1810600\ttotal: 4.1s\tremaining: 4.33s\n",
            "243:\tlearn: 0.1809616\ttotal: 4.11s\tremaining: 4.32s\n",
            "244:\tlearn: 0.1808494\ttotal: 4.13s\tremaining: 4.3s\n",
            "245:\tlearn: 0.1807944\ttotal: 4.15s\tremaining: 4.28s\n",
            "246:\tlearn: 0.1807174\ttotal: 4.16s\tremaining: 4.26s\n",
            "247:\tlearn: 0.1806351\ttotal: 4.18s\tremaining: 4.25s\n",
            "248:\tlearn: 0.1805829\ttotal: 4.19s\tremaining: 4.23s\n",
            "249:\tlearn: 0.1805329\ttotal: 4.21s\tremaining: 4.21s\n",
            "250:\tlearn: 0.1803899\ttotal: 4.22s\tremaining: 4.19s\n",
            "251:\tlearn: 0.1802727\ttotal: 4.24s\tremaining: 4.17s\n",
            "252:\tlearn: 0.1802249\ttotal: 4.26s\tremaining: 4.16s\n",
            "253:\tlearn: 0.1801132\ttotal: 4.27s\tremaining: 4.14s\n",
            "254:\tlearn: 0.1800454\ttotal: 4.28s\tremaining: 4.11s\n",
            "255:\tlearn: 0.1799226\ttotal: 4.29s\tremaining: 4.09s\n",
            "256:\tlearn: 0.1798486\ttotal: 4.31s\tremaining: 4.07s\n",
            "257:\tlearn: 0.1798120\ttotal: 4.32s\tremaining: 4.05s\n",
            "258:\tlearn: 0.1796862\ttotal: 4.33s\tremaining: 4.03s\n",
            "259:\tlearn: 0.1796374\ttotal: 4.34s\tremaining: 4.01s\n",
            "260:\tlearn: 0.1795312\ttotal: 4.35s\tremaining: 3.99s\n",
            "261:\tlearn: 0.1794398\ttotal: 4.37s\tremaining: 3.97s\n",
            "262:\tlearn: 0.1793850\ttotal: 4.38s\tremaining: 3.95s\n",
            "263:\tlearn: 0.1793419\ttotal: 4.4s\tremaining: 3.93s\n",
            "264:\tlearn: 0.1792707\ttotal: 4.41s\tremaining: 3.91s\n",
            "265:\tlearn: 0.1792271\ttotal: 4.42s\tremaining: 3.89s\n",
            "266:\tlearn: 0.1791424\ttotal: 4.44s\tremaining: 3.87s\n",
            "267:\tlearn: 0.1790672\ttotal: 4.45s\tremaining: 3.85s\n",
            "268:\tlearn: 0.1789751\ttotal: 4.46s\tremaining: 3.83s\n",
            "269:\tlearn: 0.1789096\ttotal: 4.47s\tremaining: 3.81s\n",
            "270:\tlearn: 0.1787951\ttotal: 4.49s\tremaining: 3.79s\n",
            "271:\tlearn: 0.1787045\ttotal: 4.5s\tremaining: 3.77s\n",
            "272:\tlearn: 0.1786695\ttotal: 4.51s\tremaining: 3.75s\n",
            "273:\tlearn: 0.1786089\ttotal: 4.53s\tremaining: 3.73s\n",
            "274:\tlearn: 0.1785400\ttotal: 4.54s\tremaining: 3.71s\n",
            "275:\tlearn: 0.1784195\ttotal: 4.55s\tremaining: 3.69s\n",
            "276:\tlearn: 0.1783758\ttotal: 4.56s\tremaining: 3.67s\n",
            "277:\tlearn: 0.1782622\ttotal: 4.57s\tremaining: 3.65s\n",
            "278:\tlearn: 0.1782232\ttotal: 4.59s\tremaining: 3.63s\n",
            "279:\tlearn: 0.1781450\ttotal: 4.6s\tremaining: 3.62s\n",
            "280:\tlearn: 0.1780654\ttotal: 4.62s\tremaining: 3.6s\n",
            "281:\tlearn: 0.1779450\ttotal: 4.63s\tremaining: 3.58s\n",
            "282:\tlearn: 0.1778711\ttotal: 4.64s\tremaining: 3.56s\n",
            "283:\tlearn: 0.1777894\ttotal: 4.65s\tremaining: 3.54s\n",
            "284:\tlearn: 0.1776869\ttotal: 4.66s\tremaining: 3.52s\n",
            "285:\tlearn: 0.1775887\ttotal: 4.67s\tremaining: 3.5s\n",
            "286:\tlearn: 0.1775264\ttotal: 4.69s\tremaining: 3.48s\n",
            "287:\tlearn: 0.1774690\ttotal: 4.7s\tremaining: 3.46s\n",
            "288:\tlearn: 0.1773764\ttotal: 4.71s\tremaining: 3.44s\n",
            "289:\tlearn: 0.1772975\ttotal: 4.72s\tremaining: 3.42s\n",
            "290:\tlearn: 0.1772226\ttotal: 4.73s\tremaining: 3.4s\n",
            "291:\tlearn: 0.1771888\ttotal: 4.74s\tremaining: 3.38s\n",
            "292:\tlearn: 0.1771169\ttotal: 4.76s\tremaining: 3.36s\n",
            "293:\tlearn: 0.1770279\ttotal: 4.77s\tremaining: 3.34s\n",
            "294:\tlearn: 0.1769402\ttotal: 4.78s\tremaining: 3.32s\n",
            "295:\tlearn: 0.1768831\ttotal: 4.8s\tremaining: 3.31s\n",
            "296:\tlearn: 0.1768377\ttotal: 4.81s\tremaining: 3.29s\n",
            "297:\tlearn: 0.1767337\ttotal: 4.82s\tremaining: 3.27s\n",
            "298:\tlearn: 0.1766798\ttotal: 4.83s\tremaining: 3.25s\n",
            "299:\tlearn: 0.1765431\ttotal: 4.84s\tremaining: 3.23s\n",
            "300:\tlearn: 0.1764772\ttotal: 4.86s\tremaining: 3.21s\n",
            "301:\tlearn: 0.1764248\ttotal: 4.87s\tremaining: 3.19s\n",
            "302:\tlearn: 0.1763350\ttotal: 4.88s\tremaining: 3.18s\n",
            "303:\tlearn: 0.1762897\ttotal: 4.9s\tremaining: 3.16s\n",
            "304:\tlearn: 0.1761939\ttotal: 4.91s\tremaining: 3.14s\n",
            "305:\tlearn: 0.1761324\ttotal: 4.92s\tremaining: 3.12s\n",
            "306:\tlearn: 0.1760465\ttotal: 4.94s\tremaining: 3.1s\n",
            "307:\tlearn: 0.1759621\ttotal: 4.95s\tremaining: 3.09s\n",
            "308:\tlearn: 0.1758754\ttotal: 4.98s\tremaining: 3.08s\n",
            "309:\tlearn: 0.1757849\ttotal: 4.99s\tremaining: 3.06s\n",
            "310:\tlearn: 0.1757161\ttotal: 5s\tremaining: 3.04s\n",
            "311:\tlearn: 0.1756657\ttotal: 5.02s\tremaining: 3.02s\n",
            "312:\tlearn: 0.1756032\ttotal: 5.03s\tremaining: 3s\n",
            "313:\tlearn: 0.1755593\ttotal: 5.04s\tremaining: 2.98s\n",
            "314:\tlearn: 0.1754886\ttotal: 5.05s\tremaining: 2.97s\n",
            "315:\tlearn: 0.1754294\ttotal: 5.06s\tremaining: 2.95s\n",
            "316:\tlearn: 0.1753424\ttotal: 5.08s\tremaining: 2.93s\n",
            "317:\tlearn: 0.1752982\ttotal: 5.09s\tremaining: 2.91s\n",
            "318:\tlearn: 0.1752314\ttotal: 5.1s\tremaining: 2.9s\n",
            "319:\tlearn: 0.1751499\ttotal: 5.11s\tremaining: 2.88s\n",
            "320:\tlearn: 0.1751062\ttotal: 5.13s\tremaining: 2.86s\n",
            "321:\tlearn: 0.1750655\ttotal: 5.14s\tremaining: 2.84s\n",
            "322:\tlearn: 0.1749923\ttotal: 5.15s\tremaining: 2.82s\n",
            "323:\tlearn: 0.1749483\ttotal: 5.16s\tremaining: 2.8s\n",
            "324:\tlearn: 0.1749018\ttotal: 5.17s\tremaining: 2.78s\n",
            "325:\tlearn: 0.1748151\ttotal: 5.18s\tremaining: 2.77s\n",
            "326:\tlearn: 0.1747469\ttotal: 5.2s\tremaining: 2.75s\n",
            "327:\tlearn: 0.1746728\ttotal: 5.21s\tremaining: 2.73s\n",
            "328:\tlearn: 0.1746492\ttotal: 5.22s\tremaining: 2.72s\n",
            "329:\tlearn: 0.1745755\ttotal: 5.24s\tremaining: 2.7s\n",
            "330:\tlearn: 0.1745243\ttotal: 5.25s\tremaining: 2.68s\n",
            "331:\tlearn: 0.1744797\ttotal: 5.26s\tremaining: 2.66s\n",
            "332:\tlearn: 0.1744308\ttotal: 5.27s\tremaining: 2.64s\n",
            "333:\tlearn: 0.1743808\ttotal: 5.28s\tremaining: 2.63s\n",
            "334:\tlearn: 0.1743351\ttotal: 5.3s\tremaining: 2.61s\n",
            "335:\tlearn: 0.1742923\ttotal: 5.31s\tremaining: 2.59s\n",
            "336:\tlearn: 0.1742409\ttotal: 5.32s\tremaining: 2.57s\n",
            "337:\tlearn: 0.1741620\ttotal: 5.33s\tremaining: 2.56s\n",
            "338:\tlearn: 0.1740365\ttotal: 5.34s\tremaining: 2.54s\n",
            "339:\tlearn: 0.1739667\ttotal: 5.36s\tremaining: 2.52s\n",
            "340:\tlearn: 0.1738275\ttotal: 5.37s\tremaining: 2.5s\n",
            "341:\tlearn: 0.1737819\ttotal: 5.38s\tremaining: 2.48s\n",
            "342:\tlearn: 0.1736794\ttotal: 5.39s\tremaining: 2.47s\n",
            "343:\tlearn: 0.1735666\ttotal: 5.41s\tremaining: 2.45s\n",
            "344:\tlearn: 0.1734974\ttotal: 5.42s\tremaining: 2.44s\n",
            "345:\tlearn: 0.1734292\ttotal: 5.44s\tremaining: 2.42s\n",
            "346:\tlearn: 0.1733198\ttotal: 5.45s\tremaining: 2.4s\n",
            "347:\tlearn: 0.1732392\ttotal: 5.46s\tremaining: 2.39s\n",
            "348:\tlearn: 0.1731587\ttotal: 5.47s\tremaining: 2.37s\n",
            "349:\tlearn: 0.1731028\ttotal: 5.49s\tremaining: 2.35s\n",
            "350:\tlearn: 0.1730423\ttotal: 5.5s\tremaining: 2.33s\n",
            "351:\tlearn: 0.1729849\ttotal: 5.51s\tremaining: 2.32s\n",
            "352:\tlearn: 0.1728894\ttotal: 5.53s\tremaining: 2.3s\n",
            "353:\tlearn: 0.1728251\ttotal: 5.54s\tremaining: 2.28s\n",
            "354:\tlearn: 0.1727660\ttotal: 5.55s\tremaining: 2.27s\n",
            "355:\tlearn: 0.1726963\ttotal: 5.56s\tremaining: 2.25s\n",
            "356:\tlearn: 0.1726083\ttotal: 5.58s\tremaining: 2.23s\n",
            "357:\tlearn: 0.1725292\ttotal: 5.59s\tremaining: 2.22s\n",
            "358:\tlearn: 0.1724642\ttotal: 5.6s\tremaining: 2.2s\n",
            "359:\tlearn: 0.1723881\ttotal: 5.62s\tremaining: 2.18s\n",
            "360:\tlearn: 0.1723306\ttotal: 5.63s\tremaining: 2.17s\n",
            "361:\tlearn: 0.1722105\ttotal: 5.64s\tremaining: 2.15s\n",
            "362:\tlearn: 0.1721089\ttotal: 5.66s\tremaining: 2.13s\n",
            "363:\tlearn: 0.1720258\ttotal: 5.67s\tremaining: 2.12s\n",
            "364:\tlearn: 0.1719700\ttotal: 5.68s\tremaining: 2.1s\n",
            "365:\tlearn: 0.1719314\ttotal: 5.69s\tremaining: 2.08s\n",
            "366:\tlearn: 0.1718774\ttotal: 5.71s\tremaining: 2.07s\n",
            "367:\tlearn: 0.1717670\ttotal: 5.72s\tremaining: 2.05s\n",
            "368:\tlearn: 0.1716928\ttotal: 5.73s\tremaining: 2.03s\n",
            "369:\tlearn: 0.1716272\ttotal: 5.74s\tremaining: 2.02s\n",
            "370:\tlearn: 0.1715549\ttotal: 5.75s\tremaining: 2s\n",
            "371:\tlearn: 0.1714628\ttotal: 5.77s\tremaining: 1.98s\n",
            "372:\tlearn: 0.1713524\ttotal: 5.78s\tremaining: 1.97s\n",
            "373:\tlearn: 0.1712801\ttotal: 5.79s\tremaining: 1.95s\n",
            "374:\tlearn: 0.1712363\ttotal: 5.8s\tremaining: 1.93s\n",
            "375:\tlearn: 0.1711536\ttotal: 5.81s\tremaining: 1.92s\n",
            "376:\tlearn: 0.1710838\ttotal: 5.83s\tremaining: 1.9s\n",
            "377:\tlearn: 0.1710382\ttotal: 5.85s\tremaining: 1.89s\n",
            "378:\tlearn: 0.1709927\ttotal: 5.86s\tremaining: 1.87s\n",
            "379:\tlearn: 0.1709302\ttotal: 5.87s\tremaining: 1.85s\n",
            "380:\tlearn: 0.1708910\ttotal: 5.88s\tremaining: 1.84s\n",
            "381:\tlearn: 0.1708297\ttotal: 5.89s\tremaining: 1.82s\n",
            "382:\tlearn: 0.1707907\ttotal: 5.9s\tremaining: 1.8s\n",
            "383:\tlearn: 0.1707309\ttotal: 5.91s\tremaining: 1.79s\n",
            "384:\tlearn: 0.1706362\ttotal: 5.93s\tremaining: 1.77s\n",
            "385:\tlearn: 0.1706008\ttotal: 5.94s\tremaining: 1.75s\n",
            "386:\tlearn: 0.1705463\ttotal: 5.97s\tremaining: 1.74s\n",
            "387:\tlearn: 0.1704844\ttotal: 5.98s\tremaining: 1.73s\n",
            "388:\tlearn: 0.1704237\ttotal: 5.99s\tremaining: 1.71s\n",
            "389:\tlearn: 0.1703784\ttotal: 6s\tremaining: 1.69s\n",
            "390:\tlearn: 0.1702913\ttotal: 6.01s\tremaining: 1.68s\n",
            "391:\tlearn: 0.1702439\ttotal: 6.02s\tremaining: 1.66s\n",
            "392:\tlearn: 0.1701569\ttotal: 6.04s\tremaining: 1.64s\n",
            "393:\tlearn: 0.1701123\ttotal: 6.05s\tremaining: 1.63s\n",
            "394:\tlearn: 0.1700801\ttotal: 6.07s\tremaining: 1.61s\n",
            "395:\tlearn: 0.1699587\ttotal: 6.08s\tremaining: 1.6s\n",
            "396:\tlearn: 0.1699066\ttotal: 6.09s\tremaining: 1.58s\n",
            "397:\tlearn: 0.1698005\ttotal: 6.11s\tremaining: 1.57s\n",
            "398:\tlearn: 0.1697621\ttotal: 6.12s\tremaining: 1.55s\n",
            "399:\tlearn: 0.1696191\ttotal: 6.14s\tremaining: 1.53s\n",
            "400:\tlearn: 0.1695292\ttotal: 6.15s\tremaining: 1.52s\n",
            "401:\tlearn: 0.1694853\ttotal: 6.16s\tremaining: 1.5s\n",
            "402:\tlearn: 0.1693814\ttotal: 6.17s\tremaining: 1.49s\n",
            "403:\tlearn: 0.1692914\ttotal: 6.18s\tremaining: 1.47s\n",
            "404:\tlearn: 0.1692059\ttotal: 6.2s\tremaining: 1.45s\n",
            "405:\tlearn: 0.1691814\ttotal: 6.21s\tremaining: 1.44s\n",
            "406:\tlearn: 0.1691062\ttotal: 6.22s\tremaining: 1.42s\n",
            "407:\tlearn: 0.1690677\ttotal: 6.23s\tremaining: 1.41s\n",
            "408:\tlearn: 0.1690359\ttotal: 6.24s\tremaining: 1.39s\n",
            "409:\tlearn: 0.1689684\ttotal: 6.26s\tremaining: 1.37s\n",
            "410:\tlearn: 0.1689100\ttotal: 6.27s\tremaining: 1.36s\n",
            "411:\tlearn: 0.1688720\ttotal: 6.29s\tremaining: 1.34s\n",
            "412:\tlearn: 0.1687971\ttotal: 6.3s\tremaining: 1.33s\n",
            "413:\tlearn: 0.1687382\ttotal: 6.31s\tremaining: 1.31s\n",
            "414:\tlearn: 0.1686848\ttotal: 6.33s\tremaining: 1.29s\n",
            "415:\tlearn: 0.1686457\ttotal: 6.34s\tremaining: 1.28s\n",
            "416:\tlearn: 0.1685449\ttotal: 6.35s\tremaining: 1.26s\n",
            "417:\tlearn: 0.1684771\ttotal: 6.36s\tremaining: 1.25s\n",
            "418:\tlearn: 0.1684208\ttotal: 6.37s\tremaining: 1.23s\n",
            "419:\tlearn: 0.1683739\ttotal: 6.38s\tremaining: 1.22s\n",
            "420:\tlearn: 0.1683392\ttotal: 6.39s\tremaining: 1.2s\n",
            "421:\tlearn: 0.1682776\ttotal: 6.41s\tremaining: 1.18s\n",
            "422:\tlearn: 0.1682238\ttotal: 6.42s\tremaining: 1.17s\n",
            "423:\tlearn: 0.1681680\ttotal: 6.43s\tremaining: 1.15s\n",
            "424:\tlearn: 0.1680982\ttotal: 6.45s\tremaining: 1.14s\n",
            "425:\tlearn: 0.1680418\ttotal: 6.46s\tremaining: 1.12s\n",
            "426:\tlearn: 0.1679679\ttotal: 6.48s\tremaining: 1.11s\n",
            "427:\tlearn: 0.1679335\ttotal: 6.49s\tremaining: 1.09s\n",
            "428:\tlearn: 0.1678761\ttotal: 6.5s\tremaining: 1.08s\n",
            "429:\tlearn: 0.1677800\ttotal: 6.51s\tremaining: 1.06s\n",
            "430:\tlearn: 0.1676913\ttotal: 6.53s\tremaining: 1.04s\n",
            "431:\tlearn: 0.1676098\ttotal: 6.54s\tremaining: 1.03s\n",
            "432:\tlearn: 0.1675559\ttotal: 6.55s\tremaining: 1.01s\n",
            "433:\tlearn: 0.1674155\ttotal: 6.56s\tremaining: 998ms\n",
            "434:\tlearn: 0.1673633\ttotal: 6.57s\tremaining: 982ms\n",
            "435:\tlearn: 0.1672961\ttotal: 6.58s\tremaining: 967ms\n",
            "436:\tlearn: 0.1672428\ttotal: 6.6s\tremaining: 951ms\n",
            "437:\tlearn: 0.1672112\ttotal: 6.61s\tremaining: 935ms\n",
            "438:\tlearn: 0.1671240\ttotal: 6.62s\tremaining: 920ms\n",
            "439:\tlearn: 0.1670849\ttotal: 6.63s\tremaining: 904ms\n",
            "440:\tlearn: 0.1670217\ttotal: 6.64s\tremaining: 889ms\n",
            "441:\tlearn: 0.1669782\ttotal: 6.65s\tremaining: 873ms\n",
            "442:\tlearn: 0.1669177\ttotal: 6.67s\tremaining: 858ms\n",
            "443:\tlearn: 0.1668666\ttotal: 6.68s\tremaining: 843ms\n",
            "444:\tlearn: 0.1668030\ttotal: 6.69s\tremaining: 827ms\n",
            "445:\tlearn: 0.1667654\ttotal: 6.7s\tremaining: 812ms\n",
            "446:\tlearn: 0.1666723\ttotal: 6.72s\tremaining: 796ms\n",
            "447:\tlearn: 0.1665991\ttotal: 6.73s\tremaining: 781ms\n",
            "448:\tlearn: 0.1665493\ttotal: 6.74s\tremaining: 766ms\n",
            "449:\tlearn: 0.1665359\ttotal: 6.75s\tremaining: 750ms\n",
            "450:\tlearn: 0.1664964\ttotal: 6.76s\tremaining: 735ms\n",
            "451:\tlearn: 0.1664401\ttotal: 6.78s\tremaining: 720ms\n",
            "452:\tlearn: 0.1663771\ttotal: 6.79s\tremaining: 704ms\n",
            "453:\tlearn: 0.1663574\ttotal: 6.8s\tremaining: 689ms\n",
            "454:\tlearn: 0.1662622\ttotal: 6.81s\tremaining: 674ms\n",
            "455:\tlearn: 0.1661918\ttotal: 6.82s\tremaining: 658ms\n",
            "456:\tlearn: 0.1661341\ttotal: 6.83s\tremaining: 643ms\n",
            "457:\tlearn: 0.1660919\ttotal: 6.84s\tremaining: 628ms\n",
            "458:\tlearn: 0.1660231\ttotal: 6.86s\tremaining: 612ms\n",
            "459:\tlearn: 0.1659616\ttotal: 6.87s\tremaining: 597ms\n",
            "460:\tlearn: 0.1659244\ttotal: 6.88s\tremaining: 582ms\n",
            "461:\tlearn: 0.1658660\ttotal: 6.9s\tremaining: 567ms\n",
            "462:\tlearn: 0.1658229\ttotal: 6.91s\tremaining: 552ms\n",
            "463:\tlearn: 0.1657688\ttotal: 6.92s\tremaining: 537ms\n",
            "464:\tlearn: 0.1657128\ttotal: 6.93s\tremaining: 522ms\n",
            "465:\tlearn: 0.1656523\ttotal: 6.95s\tremaining: 507ms\n",
            "466:\tlearn: 0.1656059\ttotal: 6.97s\tremaining: 493ms\n",
            "467:\tlearn: 0.1654776\ttotal: 6.98s\tremaining: 477ms\n",
            "468:\tlearn: 0.1654391\ttotal: 6.99s\tremaining: 462ms\n",
            "469:\tlearn: 0.1653644\ttotal: 7s\tremaining: 447ms\n",
            "470:\tlearn: 0.1652572\ttotal: 7.02s\tremaining: 432ms\n",
            "471:\tlearn: 0.1651942\ttotal: 7.03s\tremaining: 417ms\n",
            "472:\tlearn: 0.1651251\ttotal: 7.04s\tremaining: 402ms\n",
            "473:\tlearn: 0.1650685\ttotal: 7.05s\tremaining: 387ms\n",
            "474:\tlearn: 0.1650383\ttotal: 7.06s\tremaining: 372ms\n",
            "475:\tlearn: 0.1649779\ttotal: 7.08s\tremaining: 357ms\n",
            "476:\tlearn: 0.1649199\ttotal: 7.09s\tremaining: 342ms\n",
            "477:\tlearn: 0.1648150\ttotal: 7.1s\tremaining: 327ms\n",
            "478:\tlearn: 0.1647731\ttotal: 7.11s\tremaining: 312ms\n",
            "479:\tlearn: 0.1647028\ttotal: 7.13s\tremaining: 297ms\n",
            "480:\tlearn: 0.1646355\ttotal: 7.14s\tremaining: 282ms\n",
            "481:\tlearn: 0.1645938\ttotal: 7.15s\tremaining: 267ms\n",
            "482:\tlearn: 0.1644980\ttotal: 7.16s\tremaining: 252ms\n",
            "483:\tlearn: 0.1644699\ttotal: 7.17s\tremaining: 237ms\n",
            "484:\tlearn: 0.1644258\ttotal: 7.18s\tremaining: 222ms\n",
            "485:\tlearn: 0.1643317\ttotal: 7.19s\tremaining: 207ms\n",
            "486:\tlearn: 0.1642719\ttotal: 7.21s\tremaining: 192ms\n",
            "487:\tlearn: 0.1642225\ttotal: 7.22s\tremaining: 177ms\n",
            "488:\tlearn: 0.1641601\ttotal: 7.23s\tremaining: 163ms\n",
            "489:\tlearn: 0.1641370\ttotal: 7.24s\tremaining: 148ms\n",
            "490:\tlearn: 0.1640569\ttotal: 7.25s\tremaining: 133ms\n",
            "491:\tlearn: 0.1640279\ttotal: 7.26s\tremaining: 118ms\n",
            "492:\tlearn: 0.1639795\ttotal: 7.28s\tremaining: 103ms\n",
            "493:\tlearn: 0.1639141\ttotal: 7.29s\tremaining: 88.6ms\n",
            "494:\tlearn: 0.1638422\ttotal: 7.3s\tremaining: 73.8ms\n",
            "495:\tlearn: 0.1638258\ttotal: 7.31s\tremaining: 59ms\n",
            "496:\tlearn: 0.1637803\ttotal: 7.33s\tremaining: 44.2ms\n",
            "497:\tlearn: 0.1636536\ttotal: 7.34s\tremaining: 29.5ms\n",
            "498:\tlearn: 0.1635922\ttotal: 7.35s\tremaining: 14.7ms\n",
            "499:\tlearn: 0.1635522\ttotal: 7.36s\tremaining: 0us\n",
            "Time:  0.13694745188333332 minutes\n"
          ]
        }
      ],
      "source": [
        "from catboost import CatBoostRegressor\n",
        "\n",
        "import timeit\n",
        "start = timeit.default_timer()\n",
        "model = CatBoostRegressor(n_estimators=500, random_state=0)\n",
        "model.fit(X_train, y_train)\n",
        "stop = timeit.default_timer()\n",
        "print('Time: ', (stop - start)/60,'minutes')  "
      ]
    },
    {
      "cell_type": "code",
      "execution_count": null,
      "metadata": {
        "id": "L6-KW1rUQsTU",
        "colab": {
          "base_uri": "https://localhost:8080/"
        },
        "outputId": "d1cca15b-79f3-4b2a-cead-63753371ff97"
      },
      "outputs": [
        {
          "output_type": "stream",
          "name": "stdout",
          "text": [
            "Explained variance (best possible score is 1.0, lower values are worse): 0.4756143370717887\n",
            "Mean Absolute Error (best is 0.0): 0.13733879263018298\n",
            "Mean Squared Error (best is 0.0): 0.03742070062720864\n",
            "R2 score (best is 1.0): 0.4755592660496565\n",
            "root Mean Squared Error (best is 0.0): 0.19344430885195005\n"
          ]
        }
      ],
      "source": [
        "y_pred_tree = model.predict(X_test)\n",
        "from sklearn import metrics\n",
        "from math import sqrt\n",
        "from sklearn.metrics import mean_squared_error\n",
        "var = metrics.explained_variance_score(y_test, y_pred_tree)\n",
        "mae = metrics.mean_absolute_error(y_test, y_pred_tree)\n",
        "mse = metrics.mean_squared_error(y_test, y_pred_tree)\n",
        "r2 = metrics.r2_score(y_test, y_pred_tree)\n",
        "rmse = sqrt(mean_squared_error(y_test, y_pred_tree))\n",
        "print ('Explained variance (best possible score is 1.0, lower values are worse):', var)\n",
        "print ('Mean Absolute Error (best is 0.0):', mae)\n",
        "print ('Mean Squared Error (best is 0.0):', mse)\n",
        "print ('R2 score (best is 1.0):', r2)\n",
        "print ('root Mean Squared Error (best is 0.0):', rmse)\n"
      ]
    },
    {
      "cell_type": "code",
      "execution_count": null,
      "metadata": {
        "id": "SNLJxksQQuU0",
        "colab": {
          "base_uri": "https://localhost:8080/"
        },
        "outputId": "1dbdd0d8-c016-4947-8331-4a3799154731"
      },
      "outputs": [
        {
          "output_type": "stream",
          "name": "stdout",
          "text": [
            "Catastropic Outliers:  48.142857142857146 %\n",
            "Total rms:  0    0.193444\n",
            "dtype: float64\n",
            "rms w/o outliers 0    0.048226\n",
            "dtype: float64\n",
            "Bias:  0    0.001982\n",
            "dtype: float64\n",
            "Bias(median value of delta z): -0.006412120008340273\n",
            "NMAD:  0.14032309620832412\n"
          ]
        }
      ],
      "source": [
        "y_test_tree=y_test\n",
        "y_test_tree=pd.DataFrame(y_test_tree)\n",
        "y_pred_tree=pd.DataFrame(y_pred_tree)\n",
        "outl=y_pred_tree[abs(y_test_tree-y_pred_tree)>0.1]\n",
        "outl=outl.dropna()\n",
        "print('Catastropic Outliers: ', outl.shape[0]*100.0/y_test.shape[0],'%')\n",
        "print('Total rms: ', np.sqrt(np.mean((y_test_tree-y_pred_tree)**2)))\n",
        "print('rms w/o outliers', np.sqrt(np.mean(((y_test_tree-y_pred_tree)[abs(y_test_tree-y_pred_tree)<0.1])**2)))\n",
        "print('Bias: ', np.mean(y_test_tree-y_pred_tree))\n",
        "print('Bias(median value of delta z):', np.median(y_test_tree-y_pred_tree))\n",
        "plt.show()\n",
        "\n",
        "delta_znorm=abs((y_test_tree-y_pred_tree)-np.median(y_pred_tree-y_test_tree)/(1+y_test_tree))\n",
        "NMAD=1.48*np.median(delta_znorm)\n",
        "print('NMAD: ', NMAD)"
      ]
    },
    {
      "cell_type": "code",
      "execution_count": null,
      "metadata": {
        "id": "YNVYV0HZn1-K",
        "colab": {
          "base_uri": "https://localhost:8080/",
          "height": 312
        },
        "outputId": "9c55fa4b-888a-4f15-8d02-31de15e98f46"
      },
      "outputs": [
        {
          "output_type": "execute_result",
          "data": {
            "text/plain": [
              "Text(0, 0.5, 'Predicted')"
            ]
          },
          "metadata": {},
          "execution_count": 49
        },
        {
          "output_type": "display_data",
          "data": {
            "text/plain": [
              "<Figure size 432x288 with 1 Axes>"
            ],
            "image/png": "[encoded data removed]"
          },
          "metadata": {
            "needs_background": "light"
          }
        }
      ],
      "source": [
        "import matplotlib.pyplot as plt \n",
        "#y_pred_tree=np.expm1( y_pred_tree)\n",
        "y_pred_tree=np.expm1(scaler.inverse_transform(y_pred_tree))\n",
        "y_test_tree=np.expm1(scaler.inverse_transform(y_test_tree))\n",
        "plt.scatter(y_test_tree[:359670], y_pred_tree[:359670], s=0.4)\n",
        "plt.plot(np.linspace(0,7,7), np.linspace(0,7,7), c = 'orange', linestyle='--')\n",
        "plt.xlim(0, 7)\n",
        "plt.ylim(0, 7)\n",
        "plt.title('True/Predicted Graph') \n",
        "plt.grid(True) \n",
        "plt.xlabel(\"True\") \n",
        "plt.ylabel('Predicted')"
      ]
    },
    {
      "cell_type": "markdown",
      "metadata": {
        "id": "g5Cg0fs5Rlwe"
      },
      "source": [
        "**Gradient Boost**"
      ]
    },
    {
      "cell_type": "code",
      "execution_count": null,
      "metadata": {
        "colab": {
          "base_uri": "https://localhost:8080/"
        },
        "id": "RTrgZI1iRprY",
        "outputId": "b00aded6-bb6e-446f-cf21-7a6b44aef9f4"
      },
      "outputs": [
        {
          "output_type": "stream",
          "name": "stdout",
          "text": [
            "Time:  0.3606865336499998 minutes\n"
          ]
        }
      ],
      "source": [
        "from sklearn.ensemble import GradientBoostingRegressor\n",
        "\n",
        "import timeit\n",
        "start = timeit.default_timer()\n",
        "model = GradientBoostingRegressor(n_estimators=50, random_state=0)\n",
        "model.fit(X_train, y_train)\n",
        "stop = timeit.default_timer()\n",
        "print('Time: ', (stop - start)/60,'minutes')  "
      ]
    },
    {
      "cell_type": "code",
      "execution_count": null,
      "metadata": {
        "colab": {
          "base_uri": "https://localhost:8080/"
        },
        "id": "zoINiPCvR8KO",
        "outputId": "865ff584-54d9-4fe6-ba92-38321b7b02c1"
      },
      "outputs": [
        {
          "output_type": "stream",
          "name": "stdout",
          "text": [
            "Explained variance (best possible score is 1.0, lower values are worse): 0.4012539754388643\n",
            "Mean Absolute Error (best is 0.0): 0.15516892075866195\n",
            "Mean Squared Error (best is 0.0): 0.04272864996482075\n",
            "R2 score (best is 1.0): 0.40116982919436406\n",
            "root Mean Squared Error (best is 0.0): 0.2067090950220158\n"
          ]
        }
      ],
      "source": [
        "y_pred_tree = model.predict(X_test)\n",
        "from sklearn import metrics\n",
        "from math import sqrt\n",
        "from sklearn.metrics import mean_squared_error\n",
        "var = metrics.explained_variance_score(y_test, y_pred_tree)\n",
        "mae = metrics.mean_absolute_error(y_test, y_pred_tree)\n",
        "mse = metrics.mean_squared_error(y_test, y_pred_tree)\n",
        "r2 = metrics.r2_score(y_test, y_pred_tree)\n",
        "rmse = sqrt(mean_squared_error(y_test, y_pred_tree))\n",
        "print ('Explained variance (best possible score is 1.0, lower values are worse):', var)\n",
        "print ('Mean Absolute Error (best is 0.0):', mae)\n",
        "print ('Mean Squared Error (best is 0.0):', mse)\n",
        "print ('R2 score (best is 1.0):', r2)\n",
        "print ('root Mean Squared Error (best is 0.0):', rmse)\n"
      ]
    },
    {
      "cell_type": "code",
      "execution_count": null,
      "metadata": {
        "colab": {
          "base_uri": "https://localhost:8080/"
        },
        "id": "jrGMHZLCR-sG",
        "outputId": "b12ebc1f-8940-4701-ad9d-ec0f9da24d23"
      },
      "outputs": [
        {
          "output_type": "stream",
          "name": "stdout",
          "text": [
            "Catastropic Outliers:  53.457142857142856 %\n",
            "Total rms:  0    0.206709\n",
            "dtype: float64\n",
            "rms w/o outliers 0    0.053182\n",
            "dtype: float64\n",
            "Bias:  0    0.00245\n",
            "dtype: float64\n",
            "Bias(median value of delta z): -0.008760779310690525\n",
            "NMAD:  0.1732329320979653\n"
          ]
        }
      ],
      "source": [
        "y_test_tree=y_test\n",
        "y_test_tree=pd.DataFrame(y_test_tree)\n",
        "y_pred_tree=pd.DataFrame(y_pred_tree)\n",
        "outl=y_pred_tree[abs(y_test_tree-y_pred_tree)>0.1]\n",
        "outl=outl.dropna()\n",
        "print('Catastropic Outliers: ', outl.shape[0]*100.0/y_test.shape[0],'%')\n",
        "print('Total rms: ', np.sqrt(np.mean((y_test_tree-y_pred_tree)**2)))\n",
        "print('rms w/o outliers', np.sqrt(np.mean(((y_test_tree-y_pred_tree)[abs(y_test_tree-y_pred_tree)<0.1])**2)))\n",
        "print('Bias: ', np.mean(y_test_tree-y_pred_tree))\n",
        "print('Bias(median value of delta z):', np.median(y_test_tree-y_pred_tree))\n",
        "plt.show()\n",
        "\n",
        "delta_znorm=abs((y_test_tree-y_pred_tree)-np.median(y_pred_tree-y_test_tree)/(1+y_test_tree))\n",
        "NMAD=1.48*np.median(delta_znorm)\n",
        "print('NMAD: ', NMAD)"
      ]
    },
    {
      "cell_type": "code",
      "execution_count": null,
      "metadata": {
        "colab": {
          "base_uri": "https://localhost:8080/",
          "height": 312
        },
        "id": "2tRfFqgPn3rO",
        "outputId": "b3bb1303-bb57-4700-df11-fcccb82325b8"
      },
      "outputs": [
        {
          "output_type": "execute_result",
          "data": {
            "text/plain": [
              "Text(0, 0.5, 'Predicted')"
            ]
          },
          "metadata": {},
          "execution_count": 53
        },
        {
          "output_type": "display_data",
          "data": {
            "text/plain": [
              "<Figure size 432x288 with 1 Axes>"
            ],
            "image/png": "[encoded data removed]"
          },
          "metadata": {
            "needs_background": "light"
          }
        }
      ],
      "source": [
        "import matplotlib.pyplot as plt \n",
        "#y_pred_tree=np.expm1( y_pred_tree)\n",
        "y_pred_tree=np.expm1(scaler.inverse_transform(y_pred_tree))\n",
        "y_test_tree=np.expm1(scaler.inverse_transform(y_test_tree))\n",
        "plt.scatter(y_test_tree[:359670], y_pred_tree[:359670], s=0.4)\n",
        "plt.plot(np.linspace(0,7,7), np.linspace(0,7,7), c = 'orange', linestyle='--')\n",
        "plt.xlim(0, 7)\n",
        "plt.ylim(0, 7)\n",
        "plt.title('True/Predicted Graph') \n",
        "plt.grid(True) \n",
        "plt.xlabel(\"True\") \n",
        "plt.ylabel('Predicted')"
      ]
    }
  ],
  "metadata": {
    "colab": {
      "name": "Ensemble Techniques with New Datasets 5000 binwise.ipynb",
      "provenance": []
    },
    "kernelspec": {
      "display_name": "Python 3",
      "name": "python3"
    },
    "language_info": {
      "name": "python"
    }
  },
  "nbformat": 4,
  "nbformat_minor": 0
}