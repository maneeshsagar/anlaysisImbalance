{
  "cells": [
    {
      "cell_type": "markdown",
      "metadata": {
        "id": "view-in-github",
        "colab_type": "text"
      },
      "source": [
        "<a href=\"https://colab.research.google.com/github/maneeshsagar/anlaysisImbalance/blob/main/ELM.ipynb\" target=\"_parent\"><img src=\"https://colab.research.google.com/assets/colab-badge.svg\" alt=\"Open In Colab\"/></a>"
      ]
    },
    {
      "cell_type": "code",
      "execution_count": 1,
      "metadata": {
        "id": "1zbMkslvLTJs"
      },
      "outputs": [],
      "source": [
        "#This program is to develop a neural Network(ANN) regression model . redshift the label/target\n",
        "import matplotlib.pyplot as plt\n",
        "import pandas as pd\n",
        "import numpy as np\n",
        "import seaborn as sns\n",
        "import keras\n",
        "from keras.models import Sequential\n",
        "from keras.layers import Dense, Dropout\n",
        "from sklearn.preprocessing import  MinMaxScaler\n",
        "\n",
        "import xgboost as xg \n",
        "from sklearn.model_selection import train_test_split \n",
        "from sklearn.metrics import mean_squared_error as MSE "
      ]
    },
    {
      "cell_type": "code",
      "execution_count": 2,
      "metadata": {
        "id": "l-N8gcFnLely"
      },
      "outputs": [],
      "source": [
        "dataset = pd.read_csv(\"/content/drive/MyDrive/Dataset/train_all_range.csv\")"
      ]
    },
    {
      "cell_type": "code",
      "execution_count": 3,
      "metadata": {
        "colab": {
          "base_uri": "https://localhost:8080/"
        },
        "id": "O5aHt1IR0_Gu",
        "outputId": "eb034704-106a-4126-f220-9f6063e73dd1"
      },
      "outputs": [
        {
          "output_type": "execute_result",
          "data": {
            "text/plain": [
              "(604935, 28)"
            ]
          },
          "metadata": {},
          "execution_count": 3
        }
      ],
      "source": [
        "dataset.shape"
      ]
    },
    {
      "cell_type": "code",
      "execution_count": 4,
      "metadata": {
        "colab": {
          "base_uri": "https://localhost:8080/"
        },
        "id": "CQaC93dQ0mgc",
        "outputId": "cf19223e-5c1f-47d4-8309-e2b42accbdef"
      },
      "outputs": [
        {
          "output_type": "execute_result",
          "data": {
            "text/plain": [
              "8604"
            ]
          },
          "metadata": {},
          "execution_count": 4
        }
      ],
      "source": [
        "dataset.duplicated().sum()"
      ]
    },
    {
      "cell_type": "code",
      "execution_count": 5,
      "metadata": {
        "colab": {
          "base_uri": "https://localhost:8080/",
          "height": 487
        },
        "id": "kyyrRSIv04QS",
        "outputId": "1473b187-1aee-495f-eed3-85dccd1589b8"
      },
      "outputs": [
        {
          "output_type": "execute_result",
          "data": {
            "text/plain": [
              "               objid  modelMag_u  modelMag_g  modelMag_r  modelMag_i  \\\n",
              "0       1.240000e+18    22.70128    21.55564    20.74338    19.97239   \n",
              "1       1.240000e+18    23.23910    21.44343    19.67306    18.94400   \n",
              "2       1.240000e+18    24.05348    21.24721    19.39289    18.68024   \n",
              "3       1.240000e+18    26.32478    20.74059    18.99681    18.29084   \n",
              "4       1.240000e+18    24.76801    19.32076    17.81846    17.23835   \n",
              "...              ...         ...         ...         ...         ...   \n",
              "604930  1.240000e+18    23.95901    21.45168    20.99064    20.83455   \n",
              "604931  1.240000e+18    26.08886    22.08654    21.42736    21.39464   \n",
              "604932  1.240000e+18    24.30561    23.59575    21.74487    20.60606   \n",
              "604933  1.240000e+18    25.70489    22.18283    21.30940    20.22876   \n",
              "604934  1.240000e+18    21.34051    20.64733    20.40584    20.45839   \n",
              "\n",
              "        modelMag_z  fiberMag_u  fiberMag_g  fiberMag_r  fiberMag_i  ...  \\\n",
              "0         19.65203    23.26064    22.38317    21.52284    20.75258  ...   \n",
              "1         18.55688    23.69614    22.34922    20.59603    19.86871  ...   \n",
              "2         18.31429    24.11929    22.13657    20.29977    19.57731  ...   \n",
              "3         17.80812    25.19303    21.98622    20.28767    19.56692  ...   \n",
              "4         16.92202    24.11602    20.81318    19.32606    18.72738  ...   \n",
              "...            ...         ...         ...         ...         ...  ...   \n",
              "604930    20.90097    24.58145    21.84688    21.45192    21.29986  ...   \n",
              "604931    21.62726    25.44403    22.58780    21.98829    21.84853  ...   \n",
              "604932    19.91005    24.03291    24.07756    22.41889    21.23574  ...   \n",
              "604933    19.21709    23.99918    23.17838    22.30052    21.11168  ...   \n",
              "604934    20.28701    21.82719    21.07991    20.84015    20.84428  ...   \n",
              "\n",
              "            zerr       mmug       mmgr       mmri       mmiz       mfug  \\\n",
              "0       0.000121  22.128460  21.149510  20.357885  19.812210  22.821905   \n",
              "1       0.000114  22.341265  20.558245  19.308530  18.750440  23.022680   \n",
              "2       0.000068  22.650345  20.320050  19.036565  18.497265  23.127930   \n",
              "3       0.000078  23.532685  19.868700  18.643825  18.049480  23.589625   \n",
              "4       0.000034  22.044385  18.569610  17.528405  17.080185  22.464600   \n",
              "...          ...        ...        ...        ...        ...        ...   \n",
              "604930  0.008792  22.705345  21.221160  20.912595  20.867760  23.214165   \n",
              "604931  0.001358  24.087700  21.756950  21.411000  21.510950  24.015915   \n",
              "604932  0.001004  23.950680  22.670310  21.175465  20.258055  24.055235   \n",
              "604933  0.000015  23.943860  21.746115  20.769080  19.722925  23.588780   \n",
              "604934  0.000135  20.993920  20.526585  20.432115  20.372700  21.453550   \n",
              "\n",
              "             mfgr       mfri       mfiz  redshift  \n",
              "0       21.953005  21.137710  20.602890  0.679974  \n",
              "1       21.472625  20.232370  19.659590  0.412071  \n",
              "2       21.218170  19.938540  19.384555  0.413140  \n",
              "3       21.136945  19.927295  19.318555  0.399193  \n",
              "4       20.069620  19.026720  18.568060  0.253831  \n",
              "...           ...        ...        ...       ...  \n",
              "604930  21.649400  21.375890  21.362660  6.911286  \n",
              "604931  22.288045  21.918410  21.963385  5.464636  \n",
              "604932  23.248225  21.827315  20.866255  5.350088  \n",
              "604933  22.739450  21.706100  20.624625  6.964785  \n",
              "604934  20.960030  20.842215  20.830430  6.422472  \n",
              "\n",
              "[596331 rows x 28 columns]"
            ],
            "text/html": [
              "\n",
              "  <div id=\"df-81655494-fc81-44a0-a781-23eda2298e78\">\n",
              "    <div class=\"colab-df-container\">\n",
              "      <div>\n",
              "<style scoped>\n",
              "    .dataframe tbody tr th:only-of-type {\n",
              "        vertical-align: middle;\n",
              "    }\n",
              "\n",
              "    .dataframe tbody tr th {\n",
              "        vertical-align: top;\n",
              "    }\n",
              "\n",
              "    .dataframe thead th {\n",
              "        text-align: right;\n",
              "    }\n",
              "</style>\n",
              "<table border=\"1\" class=\"dataframe\">\n",
              "  <thead>\n",
              "    <tr style=\"text-align: right;\">\n",
              "      <th></th>\n",
              "      <th>objid</th>\n",
              "      <th>modelMag_u</th>\n",
              "      <th>modelMag_g</th>\n",
              "      <th>modelMag_r</th>\n",
              "      <th>modelMag_i</th>\n",
              "      <th>modelMag_z</th>\n",
              "      <th>fiberMag_u</th>\n",
              "      <th>fiberMag_g</th>\n",
              "      <th>fiberMag_r</th>\n",
              "      <th>fiberMag_i</th>\n",
              "      <th>...</th>\n",
              "      <th>zerr</th>\n",
              "      <th>mmug</th>\n",
              "      <th>mmgr</th>\n",
              "      <th>mmri</th>\n",
              "      <th>mmiz</th>\n",
              "      <th>mfug</th>\n",
              "      <th>mfgr</th>\n",
              "      <th>mfri</th>\n",
              "      <th>mfiz</th>\n",
              "      <th>redshift</th>\n",
              "    </tr>\n",
              "  </thead>\n",
              "  <tbody>\n",
              "    <tr>\n",
              "      <th>0</th>\n",
              "      <td>1.240000e+18</td>\n",
              "      <td>22.70128</td>\n",
              "      <td>21.55564</td>\n",
              "      <td>20.74338</td>\n",
              "      <td>19.97239</td>\n",
              "      <td>19.65203</td>\n",
              "      <td>23.26064</td>\n",
              "      <td>22.38317</td>\n",
              "      <td>21.52284</td>\n",
              "      <td>20.75258</td>\n",
              "      <td>...</td>\n",
              "      <td>0.000121</td>\n",
              "      <td>22.128460</td>\n",
              "      <td>21.149510</td>\n",
              "      <td>20.357885</td>\n",
              "      <td>19.812210</td>\n",
              "      <td>22.821905</td>\n",
              "      <td>21.953005</td>\n",
              "      <td>21.137710</td>\n",
              "      <td>20.602890</td>\n",
              "      <td>0.679974</td>\n",
              "    </tr>\n",
              "    <tr>\n",
              "      <th>1</th>\n",
              "      <td>1.240000e+18</td>\n",
              "      <td>23.23910</td>\n",
              "      <td>21.44343</td>\n",
              "      <td>19.67306</td>\n",
              "      <td>18.94400</td>\n",
              "      <td>18.55688</td>\n",
              "      <td>23.69614</td>\n",
              "      <td>22.34922</td>\n",
              "      <td>20.59603</td>\n",
              "      <td>19.86871</td>\n",
              "      <td>...</td>\n",
              "      <td>0.000114</td>\n",
              "      <td>22.341265</td>\n",
              "      <td>20.558245</td>\n",
              "      <td>19.308530</td>\n",
              "      <td>18.750440</td>\n",
              "      <td>23.022680</td>\n",
              "      <td>21.472625</td>\n",
              "      <td>20.232370</td>\n",
              "      <td>19.659590</td>\n",
              "      <td>0.412071</td>\n",
              "    </tr>\n",
              "    <tr>\n",
              "      <th>2</th>\n",
              "      <td>1.240000e+18</td>\n",
              "      <td>24.05348</td>\n",
              "      <td>21.24721</td>\n",
              "      <td>19.39289</td>\n",
              "      <td>18.68024</td>\n",
              "      <td>18.31429</td>\n",
              "      <td>24.11929</td>\n",
              "      <td>22.13657</td>\n",
              "      <td>20.29977</td>\n",
              "      <td>19.57731</td>\n",
              "      <td>...</td>\n",
              "      <td>0.000068</td>\n",
              "      <td>22.650345</td>\n",
              "      <td>20.320050</td>\n",
              "      <td>19.036565</td>\n",
              "      <td>18.497265</td>\n",
              "      <td>23.127930</td>\n",
              "      <td>21.218170</td>\n",
              "      <td>19.938540</td>\n",
              "      <td>19.384555</td>\n",
              "      <td>0.413140</td>\n",
              "    </tr>\n",
              "    <tr>\n",
              "      <th>3</th>\n",
              "      <td>1.240000e+18</td>\n",
              "      <td>26.32478</td>\n",
              "      <td>20.74059</td>\n",
              "      <td>18.99681</td>\n",
              "      <td>18.29084</td>\n",
              "      <td>17.80812</td>\n",
              "      <td>25.19303</td>\n",
              "      <td>21.98622</td>\n",
              "      <td>20.28767</td>\n",
              "      <td>19.56692</td>\n",
              "      <td>...</td>\n",
              "      <td>0.000078</td>\n",
              "      <td>23.532685</td>\n",
              "      <td>19.868700</td>\n",
              "      <td>18.643825</td>\n",
              "      <td>18.049480</td>\n",
              "      <td>23.589625</td>\n",
              "      <td>21.136945</td>\n",
              "      <td>19.927295</td>\n",
              "      <td>19.318555</td>\n",
              "      <td>0.399193</td>\n",
              "    </tr>\n",
              "    <tr>\n",
              "      <th>4</th>\n",
              "      <td>1.240000e+18</td>\n",
              "      <td>24.76801</td>\n",
              "      <td>19.32076</td>\n",
              "      <td>17.81846</td>\n",
              "      <td>17.23835</td>\n",
              "      <td>16.92202</td>\n",
              "      <td>24.11602</td>\n",
              "      <td>20.81318</td>\n",
              "      <td>19.32606</td>\n",
              "      <td>18.72738</td>\n",
              "      <td>...</td>\n",
              "      <td>0.000034</td>\n",
              "      <td>22.044385</td>\n",
              "      <td>18.569610</td>\n",
              "      <td>17.528405</td>\n",
              "      <td>17.080185</td>\n",
              "      <td>22.464600</td>\n",
              "      <td>20.069620</td>\n",
              "      <td>19.026720</td>\n",
              "      <td>18.568060</td>\n",
              "      <td>0.253831</td>\n",
              "    </tr>\n",
              "    <tr>\n",
              "      <th>...</th>\n",
              "      <td>...</td>\n",
              "      <td>...</td>\n",
              "      <td>...</td>\n",
              "      <td>...</td>\n",
              "      <td>...</td>\n",
              "      <td>...</td>\n",
              "      <td>...</td>\n",
              "      <td>...</td>\n",
              "      <td>...</td>\n",
              "      <td>...</td>\n",
              "      <td>...</td>\n",
              "      <td>...</td>\n",
              "      <td>...</td>\n",
              "      <td>...</td>\n",
              "      <td>...</td>\n",
              "      <td>...</td>\n",
              "      <td>...</td>\n",
              "      <td>...</td>\n",
              "      <td>...</td>\n",
              "      <td>...</td>\n",
              "      <td>...</td>\n",
              "    </tr>\n",
              "    <tr>\n",
              "      <th>604930</th>\n",
              "      <td>1.240000e+18</td>\n",
              "      <td>23.95901</td>\n",
              "      <td>21.45168</td>\n",
              "      <td>20.99064</td>\n",
              "      <td>20.83455</td>\n",
              "      <td>20.90097</td>\n",
              "      <td>24.58145</td>\n",
              "      <td>21.84688</td>\n",
              "      <td>21.45192</td>\n",
              "      <td>21.29986</td>\n",
              "      <td>...</td>\n",
              "      <td>0.008792</td>\n",
              "      <td>22.705345</td>\n",
              "      <td>21.221160</td>\n",
              "      <td>20.912595</td>\n",
              "      <td>20.867760</td>\n",
              "      <td>23.214165</td>\n",
              "      <td>21.649400</td>\n",
              "      <td>21.375890</td>\n",
              "      <td>21.362660</td>\n",
              "      <td>6.911286</td>\n",
              "    </tr>\n",
              "    <tr>\n",
              "      <th>604931</th>\n",
              "      <td>1.240000e+18</td>\n",
              "      <td>26.08886</td>\n",
              "      <td>22.08654</td>\n",
              "      <td>21.42736</td>\n",
              "      <td>21.39464</td>\n",
              "      <td>21.62726</td>\n",
              "      <td>25.44403</td>\n",
              "      <td>22.58780</td>\n",
              "      <td>21.98829</td>\n",
              "      <td>21.84853</td>\n",
              "      <td>...</td>\n",
              "      <td>0.001358</td>\n",
              "      <td>24.087700</td>\n",
              "      <td>21.756950</td>\n",
              "      <td>21.411000</td>\n",
              "      <td>21.510950</td>\n",
              "      <td>24.015915</td>\n",
              "      <td>22.288045</td>\n",
              "      <td>21.918410</td>\n",
              "      <td>21.963385</td>\n",
              "      <td>5.464636</td>\n",
              "    </tr>\n",
              "    <tr>\n",
              "      <th>604932</th>\n",
              "      <td>1.240000e+18</td>\n",
              "      <td>24.30561</td>\n",
              "      <td>23.59575</td>\n",
              "      <td>21.74487</td>\n",
              "      <td>20.60606</td>\n",
              "      <td>19.91005</td>\n",
              "      <td>24.03291</td>\n",
              "      <td>24.07756</td>\n",
              "      <td>22.41889</td>\n",
              "      <td>21.23574</td>\n",
              "      <td>...</td>\n",
              "      <td>0.001004</td>\n",
              "      <td>23.950680</td>\n",
              "      <td>22.670310</td>\n",
              "      <td>21.175465</td>\n",
              "      <td>20.258055</td>\n",
              "      <td>24.055235</td>\n",
              "      <td>23.248225</td>\n",
              "      <td>21.827315</td>\n",
              "      <td>20.866255</td>\n",
              "      <td>5.350088</td>\n",
              "    </tr>\n",
              "    <tr>\n",
              "      <th>604933</th>\n",
              "      <td>1.240000e+18</td>\n",
              "      <td>25.70489</td>\n",
              "      <td>22.18283</td>\n",
              "      <td>21.30940</td>\n",
              "      <td>20.22876</td>\n",
              "      <td>19.21709</td>\n",
              "      <td>23.99918</td>\n",
              "      <td>23.17838</td>\n",
              "      <td>22.30052</td>\n",
              "      <td>21.11168</td>\n",
              "      <td>...</td>\n",
              "      <td>0.000015</td>\n",
              "      <td>23.943860</td>\n",
              "      <td>21.746115</td>\n",
              "      <td>20.769080</td>\n",
              "      <td>19.722925</td>\n",
              "      <td>23.588780</td>\n",
              "      <td>22.739450</td>\n",
              "      <td>21.706100</td>\n",
              "      <td>20.624625</td>\n",
              "      <td>6.964785</td>\n",
              "    </tr>\n",
              "    <tr>\n",
              "      <th>604934</th>\n",
              "      <td>1.240000e+18</td>\n",
              "      <td>21.34051</td>\n",
              "      <td>20.64733</td>\n",
              "      <td>20.40584</td>\n",
              "      <td>20.45839</td>\n",
              "      <td>20.28701</td>\n",
              "      <td>21.82719</td>\n",
              "      <td>21.07991</td>\n",
              "      <td>20.84015</td>\n",
              "      <td>20.84428</td>\n",
              "      <td>...</td>\n",
              "      <td>0.000135</td>\n",
              "      <td>20.993920</td>\n",
              "      <td>20.526585</td>\n",
              "      <td>20.432115</td>\n",
              "      <td>20.372700</td>\n",
              "      <td>21.453550</td>\n",
              "      <td>20.960030</td>\n",
              "      <td>20.842215</td>\n",
              "      <td>20.830430</td>\n",
              "      <td>6.422472</td>\n",
              "    </tr>\n",
              "  </tbody>\n",
              "</table>\n",
              "<p>596331 rows × 28 columns</p>\n",
              "</div>\n",
              "      <button class=\"colab-df-convert\" onclick=\"convertToInteractive('df-81655494-fc81-44a0-a781-23eda2298e78')\"\n",
              "              title=\"Convert this dataframe to an interactive table.\"\n",
              "              style=\"display:none;\">\n",
              "        \n",
              "  <svg xmlns=\"http://www.w3.org/2000/svg\" height=\"24px\"viewBox=\"0 0 24 24\"\n",
              "       width=\"24px\">\n",
              "    <path d=\"M0 0h24v24H0V0z\" fill=\"none\"/>\n",
              "    <path d=\"M18.56 5.44l.94 2.06.94-2.06 2.06-.94-2.06-.94-.94-2.06-.94 2.06-2.06.94zm-11 1L8.5 8.5l.94-2.06 2.06-.94-2.06-.94L8.5 2.5l-.94 2.06-2.06.94zm10 10l.94 2.06.94-2.06 2.06-.94-2.06-.94-.94-2.06-.94 2.06-2.06.94z\"/><path d=\"M17.41 7.96l-1.37-1.37c-.4-.4-.92-.59-1.43-.59-.52 0-1.04.2-1.43.59L10.3 9.45l-7.72 7.72c-.78.78-.78 2.05 0 2.83L4 21.41c.39.39.9.59 1.41.59.51 0 1.02-.2 1.41-.59l7.78-7.78 2.81-2.81c.8-.78.8-2.07 0-2.86zM5.41 20L4 18.59l7.72-7.72 1.47 1.35L5.41 20z\"/>\n",
              "  </svg>\n",
              "      </button>\n",
              "      \n",
              "  <style>\n",
              "    .colab-df-container {\n",
              "      display:flex;\n",
              "      flex-wrap:wrap;\n",
              "      gap: 12px;\n",
              "    }\n",
              "\n",
              "    .colab-df-convert {\n",
              "      background-color: #E8F0FE;\n",
              "      border: none;\n",
              "      border-radius: 50%;\n",
              "      cursor: pointer;\n",
              "      display: none;\n",
              "      fill: #1967D2;\n",
              "      height: 32px;\n",
              "      padding: 0 0 0 0;\n",
              "      width: 32px;\n",
              "    }\n",
              "\n",
              "    .colab-df-convert:hover {\n",
              "      background-color: #E2EBFA;\n",
              "      box-shadow: 0px 1px 2px rgba(60, 64, 67, 0.3), 0px 1px 3px 1px rgba(60, 64, 67, 0.15);\n",
              "      fill: #174EA6;\n",
              "    }\n",
              "\n",
              "    [theme=dark] .colab-df-convert {\n",
              "      background-color: #3B4455;\n",
              "      fill: #D2E3FC;\n",
              "    }\n",
              "\n",
              "    [theme=dark] .colab-df-convert:hover {\n",
              "      background-color: #434B5C;\n",
              "      box-shadow: 0px 1px 3px 1px rgba(0, 0, 0, 0.15);\n",
              "      filter: drop-shadow(0px 1px 2px rgba(0, 0, 0, 0.3));\n",
              "      fill: #FFFFFF;\n",
              "    }\n",
              "  </style>\n",
              "\n",
              "      <script>\n",
              "        const buttonEl =\n",
              "          document.querySelector('#df-81655494-fc81-44a0-a781-23eda2298e78 button.colab-df-convert');\n",
              "        buttonEl.style.display =\n",
              "          google.colab.kernel.accessAllowed ? 'block' : 'none';\n",
              "\n",
              "        async function convertToInteractive(key) {\n",
              "          const element = document.querySelector('#df-81655494-fc81-44a0-a781-23eda2298e78');\n",
              "          const dataTable =\n",
              "            await google.colab.kernel.invokeFunction('convertToInteractive',\n",
              "                                                     [key], {});\n",
              "          if (!dataTable) return;\n",
              "\n",
              "          const docLinkHtml = 'Like what you see? Visit the ' +\n",
              "            '<a target=\"_blank\" href=https://colab.research.google.com/notebooks/data_table.ipynb>data table notebook</a>'\n",
              "            + ' to learn more about interactive tables.';\n",
              "          element.innerHTML = '';\n",
              "          dataTable['output_type'] = 'display_data';\n",
              "          await google.colab.output.renderOutput(dataTable, element);\n",
              "          const docLink = document.createElement('div');\n",
              "          docLink.innerHTML = docLinkHtml;\n",
              "          element.appendChild(docLink);\n",
              "        }\n",
              "      </script>\n",
              "    </div>\n",
              "  </div>\n",
              "  "
            ]
          },
          "metadata": {},
          "execution_count": 5
        }
      ],
      "source": [
        "dataset.drop_duplicates()"
      ]
    },
    {
      "cell_type": "code",
      "execution_count": 6,
      "metadata": {
        "id": "YrBJ0KcHLisi"
      },
      "outputs": [],
      "source": [
        "#these columns are not required\n",
        "dataset.drop(['objid'], axis = 1,inplace=True) #dropping objid column\n",
        "dataset.drop(['zerr'], axis = 1,inplace=True) #dropping zerr column"
      ]
    },
    {
      "cell_type": "code",
      "execution_count": 7,
      "metadata": {
        "id": "WuMdneZxLl8d"
      },
      "outputs": [],
      "source": [
        "dataset[dataset[\"modelMag_u\"]==-9999]=np.nan\n",
        "dataset[dataset[\"modelMag_g\"]==-9999]=np.nan\n",
        "dataset[dataset[\"modelMag_r\"]==-9999]=np.nan\n",
        "dataset[dataset[\"modelMag_i\"]==-9999]=np.nan\n",
        "dataset[dataset[\"modelMag_z\"]==-9999]=np.nan\n",
        "dataset[dataset[\"fiberMag_u\"]==-9999]=np.nan\n",
        "dataset[dataset[\"fiberMag_g\"]==-9999]=np.nan\n",
        "dataset[dataset[\"fiberMag_r\"]==-9999]=np.nan\n",
        "dataset[dataset[\"fiberMag_i\"]==-9999]=np.nan\n",
        "dataset[dataset[\"fiberMag_z\"]==-9999]=np.nan\n",
        "dataset[dataset[\"petroR50_r\"]==-9999]=np.nan\n",
        "dataset[dataset[\"petroR90_r\"]==-9999]=np.nan\n",
        "dataset[dataset[\"petroR50_z\"]==-9999]=np.nan\n",
        "dataset[dataset[\"petroR90_z\"]==-9999]=np.nan\n",
        "dataset[dataset[\"mmug\"]==-9999]=np.nan\n",
        "dataset[dataset[\"mmgr\"]==-9999]=np.nan\n",
        "dataset[dataset[\"mmri\"]==-9999]=np.nan\n",
        "dataset[dataset[\"mmiz\"]==-9999]=np.nan\n",
        "dataset[dataset[\"mfug\"]==-9999]=np.nan\n",
        "dataset[dataset[\"mfgr\"]==-9999]=np.nan\n",
        "dataset[dataset[\"mfri\"]==-9999]=np.nan\n",
        "dataset[dataset[\"mfiz\"]==-9999]=np.nan\n",
        "dataset[dataset[\"r\"]==-9999]=np.nan\n",
        "dataset[dataset[\"i\"]==-9999]=np.nan\n",
        "dataset[dataset[\"z\"]==-9999]=np.nan\n",
        "dataset[dataset[\"redshift\"]==-9999]=np.nan\n",
        "dataset[dataset[\"redshift\"]<0]=np.nan"
      ]
    },
    {
      "cell_type": "code",
      "execution_count": 8,
      "metadata": {
        "colab": {
          "base_uri": "https://localhost:8080/"
        },
        "id": "LndkIZczLpOo",
        "outputId": "721342c2-3d25-4347-ae95-edd7592219f6"
      },
      "outputs": [
        {
          "output_type": "execute_result",
          "data": {
            "text/plain": [
              "(592312, 26)"
            ]
          },
          "metadata": {},
          "execution_count": 8
        }
      ],
      "source": [
        "#Dropping null values\n",
        "dataset=dataset.dropna()\n",
        "dataset.shape"
      ]
    },
    {
      "cell_type": "code",
      "execution_count": 9,
      "metadata": {
        "colab": {
          "base_uri": "https://localhost:8080/",
          "height": 296
        },
        "id": "6-F6B0V7Lr1Z",
        "outputId": "0d552264-bf63-4328-ad0c-1ca58ba46146"
      },
      "outputs": [
        {
          "output_type": "execute_result",
          "data": {
            "text/plain": [
              "Text(0, 0.5, 'Number of samples')"
            ]
          },
          "metadata": {},
          "execution_count": 9
        },
        {
          "output_type": "display_data",
          "data": {
            "text/plain": [
              "<Figure size 432x288 with 1 Axes>"
            ],
            "image/png": "[encoded data removed]"
          },
          "metadata": {
            "needs_background": "light"
          }
        }
      ],
      "source": [
        "#checking the data distribution\n",
        "plt.hist(dataset['redshift'], bins=50, alpha=0.7)\n",
        "plt.xlabel('SpecZ')\n",
        "plt.ylabel('Number of samples')"
      ]
    },
    {
      "cell_type": "code",
      "execution_count": 10,
      "metadata": {
        "id": "b7VoyaIEZpmw"
      },
      "outputs": [],
      "source": [
        "def getClass(value):\n",
        "  if value>=0.00 and value<1.0:\n",
        "    return '1'\n",
        "  elif value>=1.00 and value<2.0:\n",
        "    return '2'\n",
        "  elif value>=2.00 and value<3.0:\n",
        "    return '3'\n",
        "  elif value>=3.00 and value<4.0:\n",
        "    return '4'\n",
        "  elif value>=4.00 and value<5.0:\n",
        "    return '5'\n",
        "  elif value>=5.00 and value<6.0:\n",
        "    return '6'\n",
        "  elif value>=6.00 and value<=7.0:\n",
        "    return '7'"
      ]
    },
    {
      "cell_type": "code",
      "execution_count": 11,
      "metadata": {
        "colab": {
          "base_uri": "https://localhost:8080/"
        },
        "id": "nXUlw1eBZsa1",
        "outputId": "67111f90-edfc-4c1e-bea1-e3918852dc13"
      },
      "outputs": [
        {
          "output_type": "execute_result",
          "data": {
            "text/plain": [
              "(592312, 27)"
            ]
          },
          "metadata": {},
          "execution_count": 11
        }
      ],
      "source": [
        "##dataset['Class']=dataset['redshift'].apply(lambda x: cls(x))\n",
        "#dataset['Class']=dataset['redshift'].apply(lambda x: 0 if x<1.0 else 1)\n",
        "dataset['Class']=dataset['redshift'].apply(lambda x: getClass(x))\n",
        "dataset=dataset.dropna()\n",
        "dataset.shape\n",
        "#dataset.loc[dataset['redshift'] >0.00 , 'Class']='A'"
      ]
    },
    {
      "cell_type": "code",
      "execution_count": 12,
      "metadata": {
        "id": "_cALXeN4Zvdx"
      },
      "outputs": [],
      "source": [
        "df_1=dataset[dataset.Class=='1']\n",
        "df_2=dataset[dataset.Class=='2']\n",
        "df_3=dataset[dataset.Class=='3']\n",
        "df_4=dataset[dataset.Class=='4']\n",
        "df_5=dataset[dataset.Class=='5']\n",
        "df_6=dataset[dataset.Class=='6']\n",
        "df_7=dataset[dataset.Class=='7']"
      ]
    },
    {
      "cell_type": "code",
      "execution_count": 13,
      "metadata": {
        "id": "tOt6a3oRZwHm"
      },
      "outputs": [],
      "source": [
        "from sklearn.utils import resample\n",
        "df_1=resample(df_1,replace=True,n_samples=5000,random_state=123) \n",
        "df_2=resample(df_2,replace=True,n_samples=5000,random_state=123) \n",
        "df_3=resample(df_3,replace=True,n_samples=4272,random_state=123) \n",
        "df_4=resample(df_4,replace=True,n_samples=1933,random_state=123) \n",
        "df_5=resample(df_5,replace=True,n_samples=1725,random_state=123) \n",
        "df_6=resample(df_6,replace=True,n_samples=1799,random_state=123) \n",
        "df_7=resample(df_7,replace=True,n_samples=1688,random_state=123) \n",
        " "
      ]
    },
    {
      "cell_type": "code",
      "execution_count": 14,
      "metadata": {
        "id": "9Ssok0KbZ3Uw"
      },
      "outputs": [],
      "source": [
        "dataset=pd.concat([df_1,df_2,df_3,df_4,df_5,df_6,df_7])"
      ]
    },
    {
      "cell_type": "code",
      "execution_count": 15,
      "metadata": {
        "id": "C-AgBWIibRFT"
      },
      "outputs": [],
      "source": [
        "del dataset['Class']"
      ]
    },
    {
      "cell_type": "code",
      "execution_count": 16,
      "metadata": {
        "colab": {
          "base_uri": "https://localhost:8080/"
        },
        "id": "tqhhP6qSZ7ff",
        "outputId": "5e30234b-53a0-4ac3-ef5f-fe38471b5aa2"
      },
      "outputs": [
        {
          "output_type": "execute_result",
          "data": {
            "text/plain": [
              "(21417, 26)"
            ]
          },
          "metadata": {},
          "execution_count": 16
        }
      ],
      "source": [
        "dataset.shape"
      ]
    },
    {
      "cell_type": "code",
      "execution_count": 17,
      "metadata": {
        "id": "lHgSeX0a4vTW"
      },
      "outputs": [],
      "source": [
        "#dataset['redshift']=np.log1p(dataset['redshift'])"
      ]
    },
    {
      "cell_type": "code",
      "execution_count": 18,
      "metadata": {
        "colab": {
          "base_uri": "https://localhost:8080/",
          "height": 296
        },
        "id": "8ImjsXeU49fi",
        "outputId": "7f38e00d-3a51-49bc-f918-1e352b8a7a8e"
      },
      "outputs": [
        {
          "output_type": "execute_result",
          "data": {
            "text/plain": [
              "Text(0, 0.5, 'Number of samples')"
            ]
          },
          "metadata": {},
          "execution_count": 18
        },
        {
          "output_type": "display_data",
          "data": {
            "text/plain": [
              "<Figure size 432x288 with 1 Axes>"
            ],
            "image/png": "[encoded data removed]"
          },
          "metadata": {
            "needs_background": "light"
          }
        }
      ],
      "source": [
        "#checking the data distribution\n",
        "plt.hist(dataset['redshift'], bins=50, alpha=0.7)\n",
        "plt.xlabel('SpecZ')\n",
        "plt.ylabel('Number of samples')"
      ]
    },
    {
      "cell_type": "code",
      "execution_count": 19,
      "metadata": {
        "id": "h6y2s0IBL-q2"
      },
      "outputs": [],
      "source": [
        "X=dataset.drop('redshift',axis=1)\n",
        "Y=dataset['redshift']"
      ]
    },
    {
      "cell_type": "code",
      "execution_count": 20,
      "metadata": {
        "colab": {
          "base_uri": "https://localhost:8080/"
        },
        "id": "psBt6hrIMCPy",
        "outputId": "d06bae5f-5fc6-4962-d717-41877191885e"
      },
      "outputs": [
        {
          "output_type": "stream",
          "name": "stdout",
          "text": [
            "[[0.54466511 0.50488961 0.62233948 ... 0.61911443 0.57650437 0.52158608]\n",
            " [0.51007011 0.59149041 0.7438489  ... 0.73694822 0.67972183 0.61469536]\n",
            " [0.2336106  0.2647087  0.4157585  ... 0.37455848 0.42364118 0.43238607]\n",
            " ...\n",
            " [0.4830018  0.54283573 0.75110958 ... 0.71704978 0.69849022 0.61266916]\n",
            " [0.53310083 0.62953367 0.85228429 ... 0.81217346 0.86041169 0.80323836]\n",
            " [0.52452411 0.5596525  0.83215634 ... 0.67017816 0.74145609 0.76515335]]\n"
          ]
        },
        {
          "output_type": "execute_result",
          "data": {
            "text/plain": [
              "(21417, 25)"
            ]
          },
          "metadata": {},
          "execution_count": 20
        }
      ],
      "source": [
        "scaler = MinMaxScaler()\n",
        "X = scaler.fit_transform(X)\n",
        "print(X)\n",
        "X.shape"
      ]
    },
    {
      "cell_type": "code",
      "execution_count": 21,
      "metadata": {
        "colab": {
          "base_uri": "https://localhost:8080/"
        },
        "id": "V-h1qkUsMIN_",
        "outputId": "2164dc94-e4d5-44b5-fc5c-2936df3628bd"
      },
      "outputs": [
        {
          "output_type": "stream",
          "name": "stdout",
          "text": [
            "298740    0.233937\n",
            "333195    0.584184\n",
            "33228     0.017118\n",
            "20818     0.606055\n",
            "230252    0.608283\n",
            "            ...   \n",
            "591195    6.992447\n",
            "593709    6.823400\n",
            "604276    6.249744\n",
            "585923    6.453612\n",
            "594722    6.128631\n",
            "Name: redshift, Length: 21417, dtype: float64\n"
          ]
        }
      ],
      "source": [
        "# Target vector\n",
        "y = dataset['redshift']\n",
        "print(y)"
      ]
    },
    {
      "cell_type": "code",
      "execution_count": 22,
      "metadata": {
        "colab": {
          "base_uri": "https://localhost:8080/"
        },
        "id": "pe0KzTXIMM6Q",
        "outputId": "c08f4c66-8e5a-4634-e593-d969ef6379e1"
      },
      "outputs": [
        {
          "output_type": "stream",
          "name": "stdout",
          "text": [
            "(21417, 1)\n"
          ]
        }
      ],
      "source": [
        "y=y.to_numpy() #pd needs to convert to numpy before applying minmaxscaler\n",
        "y=y.reshape(-1,1) # this is for using MinMAxscalerr\n",
        "print(y.shape)"
      ]
    },
    {
      "cell_type": "code",
      "execution_count": 23,
      "metadata": {
        "colab": {
          "base_uri": "https://localhost:8080/"
        },
        "id": "dLV73FliMQfr",
        "outputId": "bb19b763-2c88-49ee-b326-b79caedf5f6f"
      },
      "outputs": [
        {
          "output_type": "stream",
          "name": "stdout",
          "text": [
            "[[0.03342002]\n",
            " [0.08345604]\n",
            " [0.00244552]\n",
            " ...\n",
            " [0.89283333]\n",
            " [0.92195774]\n",
            " [0.87553122]]\n"
          ]
        }
      ],
      "source": [
        "scaler = MinMaxScaler()\n",
        "y = scaler.fit_transform(y)\n",
        "print(y)"
      ]
    },
    {
      "cell_type": "code",
      "execution_count": 24,
      "metadata": {
        "id": "zQ1TXqQAMTSD"
      },
      "outputs": [],
      "source": [
        "#user dfined function for train,test and validation\n",
        "def my_train_test_split(X, y, ratio_train, ratio_val, seed=42):\n",
        "    idx = np.arange(X.shape[0])\n",
        "    np.random.seed(seed)\n",
        "    np.random.shuffle(idx)\n",
        "\n",
        "    limit_train = int(ratio_train * X.shape[0])\n",
        "    limit_val = int((ratio_train + ratio_val) * X.shape[0])\n",
        "\n",
        "    idx_train = idx[:limit_train]\n",
        "    idx_val = idx[limit_train:limit_val]\n",
        "    idx_test = idx[limit_val:]\n",
        "\n",
        "    X_train, y_train = X[idx_train], y[idx_train]\n",
        "    X_val, y_val = X[idx_val], y[idx_val]\n",
        "    X_test, y_test = X[idx_test], y[idx_test]\n",
        "\n",
        "    return X_train, X_val, X_test, y_train, y_val, y_test"
      ]
    },
    {
      "cell_type": "code",
      "execution_count": 25,
      "metadata": {
        "id": "r6nWjt_7MWDZ"
      },
      "outputs": [],
      "source": [
        "X_train, X_val, X_test, y_train, y_val, y_test = my_train_test_split(X, y, .75,.15,seed=42)"
      ]
    },
    {
      "cell_type": "code",
      "execution_count": 26,
      "metadata": {
        "colab": {
          "base_uri": "https://localhost:8080/"
        },
        "id": "e6DLv2sjp2Cw",
        "outputId": "49faa78d-a491-453b-b396-c4750840fcbe"
      },
      "outputs": [
        {
          "output_type": "stream",
          "name": "stdout",
          "text": [
            "# Train/Test = 258\n"
          ]
        }
      ],
      "source": [
        "print('# Train/Test = %s' %len(pd.merge(pd.DataFrame(X_train), pd.DataFrame(X_test), how='inner')))"
      ]
    },
    {
      "cell_type": "code",
      "execution_count": 27,
      "metadata": {
        "id": "-0eXWeu_MbhL"
      },
      "outputs": [],
      "source": [
        "y_train=y_train.ravel()"
      ]
    },
    {
      "cell_type": "code",
      "execution_count": 28,
      "metadata": {
        "id": "IdB1JQAOHAm-"
      },
      "outputs": [],
      "source": [
        "import numpy as np\n",
        "import pandas as pd\n",
        "from sklearn.model_selection import train_test_split\n",
        "from sklearn.preprocessing import OneHotEncoder\n",
        "from sklearn.preprocessing import MinMaxScaler\n",
        "from sklearn.preprocessing import StandardScaler\n",
        "from scipy.linalg import pinv2\n",
        "from sklearn import metrics\n",
        "from math import sqrt\n",
        "from sklearn.metrics import mean_squared_error"
      ]
    },
    {
      "cell_type": "code",
      "execution_count": 29,
      "metadata": {
        "id": "JM_3918YHpGs"
      },
      "outputs": [],
      "source": [
        "import numpy as np\n",
        "import time\n",
        "\n",
        "\n",
        "def _mean_squared_error(y, pred):\n",
        "    return 0.5 * np.mean((y - pred) ** 2)\n",
        "\n",
        "\n",
        "def _mean_abs_error(y, pred):\n",
        "    return np.mean(np.abs(y, pred))\n",
        "\n",
        "\n",
        "def _sigmoid(x):\n",
        "    return 1. / (1. + np.exp(-x))\n",
        "\n",
        "def _linear(x):\n",
        "    return x\n",
        "\n",
        "\n",
        "def _fourier(x):\n",
        "    return np.sin(x)\n",
        "\n",
        "\n",
        "def _hardlimit(x):\n",
        "    return (x >= 0).astype(int)\n",
        "\n",
        "\n",
        "def _identity(x):\n",
        "    return x\n",
        "\n",
        "\n",
        "def getActivation(name):\n",
        "    return {\n",
        "        'sigmoid': _sigmoid,\n",
        "        'fourier': _fourier,\n",
        "        'hardlimit': _hardlimit\n",
        "    }[name]\n",
        "\n",
        "\n",
        "def getLoss(name):\n",
        "    return {\n",
        "        'mse': _mean_squared_error,\n",
        "        'mae': _mean_abs_error\n",
        "    }[name]\n",
        "\n",
        "\n",
        "class ELM:\n",
        "    def __init__(self, num_input_nodes, num_hidden_units, num_out_units, activation='sigmoid',\n",
        "                 loss='mse', beta_init=None, w_init=None, bias_init=None):\n",
        "        self._num_input_nodes = num_input_nodes\n",
        "        self._num_hidden_units = num_hidden_units\n",
        "        self._num_out_units = num_out_units\n",
        "\n",
        "        self._activation = getActivation(activation)\n",
        "        self._loss = getLoss(loss)\n",
        "\n",
        "        if isinstance(beta_init, np.ndarray):\n",
        "            self._beta = beta_init\n",
        "        else:\n",
        "            self._beta = np.random.uniform(-1., 1., size=(self._num_hidden_units, self._num_out_units))\n",
        "\n",
        "        if isinstance(w_init, np.ndarray):\n",
        "            self._w = w_init\n",
        "        else:\n",
        "            self._w = np.random.uniform(-1, 1, size=(self._num_input_nodes, self._num_hidden_units))\n",
        "\n",
        "        if isinstance(bias_init, np.ndarray):\n",
        "            self._bias = bias_init\n",
        "        else:\n",
        "            self._bias = np.zeros(shape=(self._num_hidden_units,))\n",
        "\n",
        "        print('Bias shape:', self._bias.shape)\n",
        "        print('W shape:', self._w.shape)\n",
        "        print('Beta shape:', self._beta.shape)\n",
        "\n",
        "    def fit(self, X, Y, display_time=False):\n",
        "        H = self._activation(X.dot(self._w) + self._bias)\n",
        "\n",
        "        # Moore–Penrose pseudo inverse\n",
        "        if display_time:\n",
        "            start = time.time()\n",
        "        H_pinv = np.linalg.pinv(H)\n",
        "        if display_time:\n",
        "            stop = time.time()\n",
        "            print(f'Train time: {stop-start}')\n",
        "\n",
        "        self._beta = H_pinv.dot(Y)\n",
        "\n",
        "        # print('Fit Beta shape:', self._beta.shape)\n",
        "\n",
        "    def __call__(self, X):\n",
        "        H = self._activation(X.dot(self._w) + self._bias)\n",
        "        return H.dot(self._beta)\n",
        "\n",
        "    def _mean_squared_error(y, pred):\n",
        "        return 0.5 * np.mean((y - pred) ** 2)\n",
        "\n",
        "    def evaluate(self, X, y_test):\n",
        "        pred = self(X)\n",
        "\n",
        "        # Loss (base on model setting)\n",
        "        #loss = self._loss(y_test, pred)\n",
        "        #loss=_mean_squared_error(y_test,pred)\n",
        "        #var = metrics.explained_variance_score(y_test, pred)\n",
        "        #mae = metrics.mean_absolute_error(y_test, pred)\n",
        "       # mse = metrics.mean_squared_error(y_test, pred)\n",
        "       # r2 = metrics.r2_score(y_test, pred)\n",
        "       # rmse = sqrt(mean_squared_error(y_test, pred))\n",
        "  \n",
        "       # y_test=pd.DataFrame(y_test)\n",
        "       # pred=pd.DataFrame(pred)\n",
        "       # outl=pred[abs(y_test-pred)>0.1]\n",
        "       # outl=outl.dropna()\n",
        "       # out=outl.shape[0]*100.0/y_test.shape[0]\n",
        "       # rms=np.sqrt(np.mean((y_test-pred)**2))\n",
        "       # rmsout=np.sqrt(np.mean(((y_test-pred)[abs(y_test-pred)<0.1])**2))\n",
        "       # bias=np.mean(y_test-pred)\n",
        "      #  biasmedian=np.median(y_test-pred)\n",
        "      #  delta_znorm=abs((y_test-pred)-np.median(pred-y_test)/(1+y_test))\n",
        "      #  NMAD=1.48*np.median(delta_znorm)\n",
        "        # Accuracy\n",
        "       # acc = np.sum(np.argmax(pred, axis=-1) == np.argmax(Y, axis=-1)) / len(Y)\n",
        "\n",
        "        # Unweighted Average Recall\n",
        "        # TODO\n",
        "\n",
        "        return pred"
      ]
    },
    {
      "cell_type": "code",
      "execution_count": 30,
      "metadata": {
        "colab": {
          "base_uri": "https://localhost:8080/"
        },
        "id": "UjgxXeEKfVxM",
        "outputId": "0aec64cb-2e04-44e0-ed3f-bea6f9ea0954"
      },
      "outputs": [
        {
          "output_type": "stream",
          "name": "stdout",
          "text": [
            "Bias shape: (512,)\n",
            "W shape: (25, 512)\n",
            "Beta shape: (512, 1)\n"
          ]
        }
      ],
      "source": [
        "num_hidden_layers=512\n",
        "num_classes=1\n",
        "model = ELM(\n",
        "      25,\n",
        "      num_hidden_layers,\n",
        "      num_classes,\n",
        "      w_init=25\n",
        "  )\n",
        "   "
      ]
    },
    {
      "cell_type": "code",
      "execution_count": 31,
      "metadata": {
        "id": "oV3Md9Tifzkj"
      },
      "outputs": [],
      "source": [
        "model.fit(X_train, y_train)\n"
      ]
    },
    {
      "cell_type": "code",
      "execution_count": 32,
      "metadata": {
        "id": "54gFy9TWcZ5k"
      },
      "outputs": [],
      "source": [
        "y_pred_tree= model.evaluate(X_test, y_test)\n",
        "#print('val loss: %f' % val_loss)"
      ]
    },
    {
      "cell_type": "code",
      "execution_count": 33,
      "metadata": {
        "id": "_WXDZO41oCfw"
      },
      "outputs": [],
      "source": [
        "#print(\"MSE\",mse)\n",
        "#print(\"MAE\",mae)\n",
        "#print(\"OUTL\",outl)\n",
        "#print(\"R2\",r2)\n",
        "#print(\"NMAD\",nmad)"
      ]
    },
    {
      "cell_type": "code",
      "execution_count": 34,
      "metadata": {
        "id": "YOWZNwKAcAc_",
        "colab": {
          "base_uri": "https://localhost:8080/"
        },
        "outputId": "a53af830-89d7-4330-a891-4db934d24164"
      },
      "outputs": [
        {
          "output_type": "stream",
          "name": "stdout",
          "text": [
            "Explained variance (best possible score is 1.0, lower values are worse): 0.32750606186915465\n",
            "Mean Absolute Error (best is 0.0): 0.1606378710829346\n",
            "Mean Squared Error (best is 0.0): 0.052750248377111966\n",
            "R2 score (best is 1.0): 0.32748163019779186\n",
            "root Mean Squared Error (best is 0.0): 0.2296742222738807\n"
          ]
        }
      ],
      "source": [
        "from sklearn import metrics\n",
        "from math import sqrt\n",
        "from sklearn.metrics import mean_squared_error\n",
        "var = metrics.explained_variance_score(y_test, y_pred_tree)\n",
        "mae = metrics.mean_absolute_error(y_test, y_pred_tree)\n",
        "mse = metrics.mean_squared_error(y_test, y_pred_tree)\n",
        "r2 = metrics.r2_score(y_test, y_pred_tree)\n",
        "rmse = sqrt(mean_squared_error(y_test, y_pred_tree))\n",
        "print ('Explained variance (best possible score is 1.0, lower values are worse):', var)\n",
        "print ('Mean Absolute Error (best is 0.0):', mae)\n",
        "print ('Mean Squared Error (best is 0.0):', mse)\n",
        "print ('R2 score (best is 1.0):', r2)\n",
        "print ('root Mean Squared Error (best is 0.0):', rmse)\n"
      ]
    },
    {
      "cell_type": "code",
      "execution_count": 35,
      "metadata": {
        "colab": {
          "base_uri": "https://localhost:8080/"
        },
        "id": "uGI8x0atcEQh",
        "outputId": "1956e619-11f4-43fa-95e7-952b32f6ebbd"
      },
      "outputs": [
        {
          "output_type": "stream",
          "name": "stdout",
          "text": [
            "Catastropic Outliers:  49.906629318394025 %\n",
            "Total rms:  0    0.229674\n",
            "dtype: float64\n",
            "rms w/o outliers 0    0.046574\n",
            "dtype: float64\n",
            "Bias:  0    0.001384\n",
            "dtype: float64\n",
            "Bias(median value of delta z): -0.024054631461778983\n",
            "NMAD:  0.16230198400228937\n"
          ]
        }
      ],
      "source": [
        "y_test_tree=y_test\n",
        "y_test_tree=pd.DataFrame(y_test_tree)\n",
        "y_pred_tree=pd.DataFrame(y_pred_tree)\n",
        "outl=y_pred_tree[abs(y_test_tree-y_pred_tree)>0.1]\n",
        "outl=outl.dropna()\n",
        "print('Catastropic Outliers: ', outl.shape[0]*100.0/y_test.shape[0],'%')\n",
        "print('Total rms: ', np.sqrt(np.mean((y_test_tree-y_pred_tree)**2)))\n",
        "print('rms w/o outliers', np.sqrt(np.mean(((y_test_tree-y_pred_tree)[abs(y_test_tree-y_pred_tree)<0.1])**2)))\n",
        "print('Bias: ', np.mean(y_test_tree-y_pred_tree))\n",
        "print('Bias(median value of delta z):', np.median(y_test_tree-y_pred_tree))\n",
        "plt.show()\n",
        "\n",
        "delta_znorm=abs((y_test_tree-y_pred_tree)-np.median(y_pred_tree-y_test_tree)/(1+y_test_tree))\n",
        "NMAD=1.48*np.median(delta_znorm)\n",
        "print('NMAD: ', NMAD)"
      ]
    },
    {
      "cell_type": "code",
      "execution_count": 36,
      "metadata": {
        "colab": {
          "base_uri": "https://localhost:8080/",
          "height": 312
        },
        "id": "Soth8VOogqN-",
        "outputId": "ff79288f-e2cd-43d8-ae12-002a12cdb9f4"
      },
      "outputs": [
        {
          "output_type": "execute_result",
          "data": {
            "text/plain": [
              "Text(0, 0.5, 'Predicted')"
            ]
          },
          "metadata": {},
          "execution_count": 36
        },
        {
          "output_type": "display_data",
          "data": {
            "text/plain": [
              "<Figure size 432x288 with 1 Axes>"
            ],
            "image/png": "[encoded data removed]"
          },
          "metadata": {
            "needs_background": "light"
          }
        }
      ],
      "source": [
        "import matplotlib.pyplot as plt \n",
        "#y_pred_tree=np.expm1( y_pred_tree)\n",
        "y_pred_tree=np.expm1(scaler.inverse_transform(y_pred_tree))\n",
        "y_test_tree=np.expm1(scaler.inverse_transform(y_test_tree))\n",
        "plt.scatter(y_test_tree[:359670], y_pred_tree[:359670], s=0.4)\n",
        "plt.plot(np.linspace(0,7,7), np.linspace(0,7,7), c = 'orange', linestyle='--')\n",
        "plt.xlim(0, 7)\n",
        "plt.ylim(0, 7)\n",
        "plt.title('True/Predicted Graph') \n",
        "plt.grid(True) \n",
        "plt.xlabel(\"True\") \n",
        "plt.ylabel('Predicted')"
      ]
    },
    {
      "cell_type": "code",
      "execution_count": 37,
      "metadata": {
        "id": "epz-FkmyY_01",
        "colab": {
          "base_uri": "https://localhost:8080/"
        },
        "outputId": "fed942fe-73e6-451f-9cec-10d6daa873a2"
      },
      "outputs": [
        {
          "output_type": "stream",
          "name": "stdout",
          "text": [
            "Time:  0.22736703759999982 minutes\n"
          ]
        }
      ],
      "source": [
        "#code for xtratree regressor\n",
        "from sklearn.datasets import make_regression\n",
        "from sklearn.ensemble import ExtraTreesRegressor\n",
        "import timeit\n",
        "start = timeit.default_timer()\n",
        "estima=('md',model)\n",
        "model = ExtraTreesRegressor(n_estimators=100, random_state=0)\n",
        "model.fit(X_train, y_train)\n",
        "stop = timeit.default_timer()\n",
        "print('Time: ', (stop - start)/60,'minutes')  \n"
      ]
    },
    {
      "cell_type": "code",
      "execution_count": 37,
      "metadata": {
        "id": "YDIWflbdcDLW"
      },
      "outputs": [],
      "source": [
        ""
      ]
    },
    {
      "cell_type": "code",
      "execution_count": 38,
      "metadata": {
        "id": "mjJLhof5ZEoG",
        "colab": {
          "base_uri": "https://localhost:8080/"
        },
        "outputId": "09863306-fd4c-4875-aa89-937cc103d55b"
      },
      "outputs": [
        {
          "output_type": "stream",
          "name": "stdout",
          "text": [
            "Explained variance (best possible score is 1.0, lower values are worse): 0.48835742616299116\n",
            "Mean Absolute Error (best is 0.0): 0.12671336160274352\n",
            "Mean Squared Error (best is 0.0): 0.04022808623471631\n",
            "R2 score (best is 1.0): 0.4871279698737363\n",
            "root Mean Squared Error (best is 0.0): 0.20056940503156584\n"
          ]
        }
      ],
      "source": [
        "y_pred_tree = model.predict(X_test)\n",
        "from sklearn import metrics\n",
        "from math import sqrt\n",
        "from sklearn.metrics import mean_squared_error\n",
        "var = metrics.explained_variance_score(y_test, y_pred_tree)\n",
        "mae = metrics.mean_absolute_error(y_test, y_pred_tree)\n",
        "mse = metrics.mean_squared_error(y_test, y_pred_tree)\n",
        "r2 = metrics.r2_score(y_test, y_pred_tree)\n",
        "rmse = sqrt(mean_squared_error(y_test, y_pred_tree))\n",
        "print ('Explained variance (best possible score is 1.0, lower values are worse):', var)\n",
        "print ('Mean Absolute Error (best is 0.0):', mae)\n",
        "print ('Mean Squared Error (best is 0.0):', mse)\n",
        "print ('R2 score (best is 1.0):', r2)\n",
        "print ('root Mean Squared Error (best is 0.0):', rmse)\n"
      ]
    },
    {
      "cell_type": "code",
      "execution_count": 39,
      "metadata": {
        "id": "ubghqo2fZHpi",
        "colab": {
          "base_uri": "https://localhost:8080/"
        },
        "outputId": "4c504ebf-2896-4c1e-c5a8-8c98df0f2e02"
      },
      "outputs": [
        {
          "output_type": "stream",
          "name": "stdout",
          "text": [
            "Catastropic Outliers:  38.98225957049486 %\n",
            "Total rms:  0    0.200569\n",
            "dtype: float64\n",
            "rms w/o outliers 0    0.039154\n",
            "dtype: float64\n",
            "Bias:  0   -0.00982\n",
            "dtype: float64\n",
            "Bias(median value of delta z): -0.013042173995342722\n",
            "NMAD:  0.09462091460087127\n"
          ]
        }
      ],
      "source": [
        "y_test_tree=y_test\n",
        "y_test_tree=pd.DataFrame(y_test_tree)\n",
        "y_pred_tree=pd.DataFrame(y_pred_tree)\n",
        "outl=y_pred_tree[abs(y_test_tree-y_pred_tree)>0.1]\n",
        "outl=outl.dropna()\n",
        "print('Catastropic Outliers: ', outl.shape[0]*100.0/y_test.shape[0],'%')\n",
        "print('Total rms: ', np.sqrt(np.mean((y_test_tree-y_pred_tree)**2)))\n",
        "print('rms w/o outliers', np.sqrt(np.mean(((y_test_tree-y_pred_tree)[abs(y_test_tree-y_pred_tree)<0.1])**2)))\n",
        "print('Bias: ', np.mean(y_test_tree-y_pred_tree))\n",
        "print('Bias(median value of delta z):', np.median(y_test_tree-y_pred_tree))\n",
        "plt.show()\n",
        "\n",
        "delta_znorm=abs((y_test_tree-y_pred_tree)-np.median(y_pred_tree-y_test_tree)/(1+y_test_tree))\n",
        "NMAD=1.48*np.median(delta_znorm)\n",
        "print('NMAD: ', NMAD)"
      ]
    },
    {
      "cell_type": "code",
      "execution_count": 39,
      "metadata": {
        "id": "0zx0rphIvqIr"
      },
      "outputs": [],
      "source": [
        ""
      ]
    },
    {
      "cell_type": "code",
      "execution_count": 40,
      "metadata": {
        "colab": {
          "base_uri": "https://localhost:8080/"
        },
        "id": "5iOimTgmu7Zj",
        "outputId": "20f23c4e-b473-4cdf-961d-ed566929f04f"
      },
      "outputs": [
        {
          "output_type": "execute_result",
          "data": {
            "text/plain": [
              "BaggingRegressor(base_estimator=ExtraTreesRegressor(n_estimators=50,\n",
              "                                                    random_state=0),\n",
              "                 random_state=0)"
            ]
          },
          "metadata": {},
          "execution_count": 40
        }
      ],
      "source": [
        "from sklearn.ensemble import BaggingRegressor\n",
        "regr = BaggingRegressor(base_estimator=ExtraTreesRegressor(n_estimators=50, random_state=0),n_estimators=10, random_state=0)\n",
        "regr.fit(X_train, y_train)"
      ]
    },
    {
      "cell_type": "code",
      "execution_count": 41,
      "metadata": {
        "colab": {
          "base_uri": "https://localhost:8080/"
        },
        "id": "3LkelhTUtyyb",
        "outputId": "edcde3de-a5cd-4e25-9ae0-1952c9f607e9"
      },
      "outputs": [
        {
          "output_type": "stream",
          "name": "stdout",
          "text": [
            "Explained variance (best possible score is 1.0, lower values are worse): 0.4744431333493141\n",
            "Mean Absolute Error (best is 0.0): 0.13687630059284156\n",
            "Mean Squared Error (best is 0.0): 0.041267253865309016\n",
            "R2 score (best is 1.0): 0.4738795143237021\n",
            "root Mean Squared Error (best is 0.0): 0.2031434317552724\n"
          ]
        }
      ],
      "source": [
        "y_pred_tree = regr.predict(X_test)\n",
        "from sklearn import metrics\n",
        "from math import sqrt\n",
        "from sklearn.metrics import mean_squared_error\n",
        "var = metrics.explained_variance_score(y_test, y_pred_tree)\n",
        "mae = metrics.mean_absolute_error(y_test, y_pred_tree)\n",
        "mse = metrics.mean_squared_error(y_test, y_pred_tree)\n",
        "r2 = metrics.r2_score(y_test, y_pred_tree)\n",
        "rmse = sqrt(mean_squared_error(y_test, y_pred_tree))\n",
        "print ('Explained variance (best possible score is 1.0, lower values are worse):', var)\n",
        "print ('Mean Absolute Error (best is 0.0):', mae)\n",
        "print ('Mean Squared Error (best is 0.0):', mse)\n",
        "print ('R2 score (best is 1.0):', r2)\n",
        "print ('root Mean Squared Error (best is 0.0):', rmse)\n"
      ]
    },
    {
      "cell_type": "code",
      "execution_count": 42,
      "metadata": {
        "colab": {
          "base_uri": "https://localhost:8080/"
        },
        "id": "DEGkps-7wI56",
        "outputId": "c25eca0e-02a1-40b3-bbd3-616a384a5ff6"
      },
      "outputs": [
        {
          "output_type": "stream",
          "name": "stdout",
          "text": [
            "Catastropic Outliers:  43.790849673202615 %\n",
            "Total rms:  0    0.203143\n",
            "dtype: float64\n",
            "rms w/o outliers 0    0.043902\n",
            "dtype: float64\n",
            "Bias:  0   -0.006649\n",
            "dtype: float64\n",
            "Bias(median value of delta z): -0.020201776849193123\n",
            "NMAD:  0.1317046760330733\n"
          ]
        }
      ],
      "source": [
        "y_test_tree=y_test\n",
        "y_test_tree=pd.DataFrame(y_test_tree)\n",
        "y_pred_tree=pd.DataFrame(y_pred_tree)\n",
        "outl=y_pred_tree[abs(y_test_tree-y_pred_tree)>0.1]\n",
        "outl=outl.dropna()\n",
        "print('Catastropic Outliers: ', outl.shape[0]*100.0/y_test.shape[0],'%')\n",
        "print('Total rms: ', np.sqrt(np.mean((y_test_tree-y_pred_tree)**2)))\n",
        "print('rms w/o outliers', np.sqrt(np.mean(((y_test_tree-y_pred_tree)[abs(y_test_tree-y_pred_tree)<0.1])**2)))\n",
        "print('Bias: ', np.mean(y_test_tree-y_pred_tree))\n",
        "print('Bias(median value of delta z):', np.median(y_test_tree-y_pred_tree))\n",
        "plt.show()\n",
        "\n",
        "delta_znorm=abs((y_test_tree-y_pred_tree)-np.median(y_pred_tree-y_test_tree)/(1+y_test_tree))\n",
        "NMAD=1.48*np.median(delta_znorm)\n",
        "print('NMAD: ', NMAD)"
      ]
    },
    {
      "cell_type": "code",
      "execution_count": 43,
      "metadata": {
        "colab": {
          "base_uri": "https://localhost:8080/"
        },
        "id": "ng7nUNbjwKpq",
        "outputId": "f8471edb-156b-4b4c-c8af-e291bdf1cc5b"
      },
      "outputs": [
        {
          "output_type": "stream",
          "name": "stdout",
          "text": [
            "Bias shape: (512,)\n",
            "W shape: (25, 512)\n",
            "Beta shape: (512, 1)\n"
          ]
        }
      ],
      "source": [
        "estimators=[('xtra',ExtraTreesRegressor(n_estimators=100, random_state=0)),('EML',ELM(\n",
        "      25,\n",
        "      num_hidden_layers,\n",
        "      num_classes,\n",
        "      w_init=25\n",
        "  ))]"
      ]
    },
    {
      "cell_type": "code",
      "execution_count": 44,
      "metadata": {
        "id": "Q4FfMeUDweE-"
      },
      "outputs": [],
      "source": [
        "from sklearn.ensemble import StackingRegressor\n",
        "from sklearn.ensemble import RandomForestRegressor\n",
        "reg = StackingRegressor(estimators=estimators,final_estimator=ExtraTreesRegressor(n_estimators=200, random_state=0))"
      ]
    },
    {
      "cell_type": "code",
      "execution_count": 45,
      "metadata": {
        "colab": {
          "base_uri": "https://localhost:8080/"
        },
        "id": "to1XhD2sw4Ek",
        "outputId": "a4c29e9c-dc75-4386-e563-c7c62d2b8e8f"
      },
      "outputs": [
        {
          "output_type": "stream",
          "name": "stdout",
          "text": [
            "Explained variance (best possible score is 1.0, lower values are worse): 0.4744431333493141\n",
            "Mean Absolute Error (best is 0.0): 0.13687630059284156\n",
            "Mean Squared Error (best is 0.0): 0.041267253865309016\n",
            "R2 score (best is 1.0): 0.4738795143237021\n",
            "root Mean Squared Error (best is 0.0): 0.2031434317552724\n"
          ]
        }
      ],
      "source": [
        "y_pred_tree = regr.predict(X_test)\n",
        "from sklearn import metrics\n",
        "from math import sqrt\n",
        "from sklearn.metrics import mean_squared_error\n",
        "var = metrics.explained_variance_score(y_test, y_pred_tree)\n",
        "mae = metrics.mean_absolute_error(y_test, y_pred_tree)\n",
        "mse = metrics.mean_squared_error(y_test, y_pred_tree)\n",
        "r2 = metrics.r2_score(y_test, y_pred_tree)\n",
        "rmse = sqrt(mean_squared_error(y_test, y_pred_tree))\n",
        "print ('Explained variance (best possible score is 1.0, lower values are worse):', var)\n",
        "print ('Mean Absolute Error (best is 0.0):', mae)\n",
        "print ('Mean Squared Error (best is 0.0):', mse)\n",
        "print ('R2 score (best is 1.0):', r2)\n",
        "print ('root Mean Squared Error (best is 0.0):', rmse)\n"
      ]
    },
    {
      "cell_type": "code",
      "execution_count": 46,
      "metadata": {
        "colab": {
          "base_uri": "https://localhost:8080/"
        },
        "id": "KtaEL-8Zw7M2",
        "outputId": "eb5eaccf-1139-45d2-fc42-8cdf50cc7a76"
      },
      "outputs": [
        {
          "output_type": "stream",
          "name": "stdout",
          "text": [
            "Catastropic Outliers:  43.790849673202615 %\n",
            "Total rms:  0    0.203143\n",
            "dtype: float64\n",
            "rms w/o outliers 0    0.043902\n",
            "dtype: float64\n",
            "Bias:  0   -0.006649\n",
            "dtype: float64\n",
            "Bias(median value of delta z): -0.020201776849193123\n",
            "NMAD:  0.1317046760330733\n"
          ]
        }
      ],
      "source": [
        "y_test_tree=y_test\n",
        "y_test_tree=pd.DataFrame(y_test_tree)\n",
        "y_pred_tree=pd.DataFrame(y_pred_tree)\n",
        "outl=y_pred_tree[abs(y_test_tree-y_pred_tree)>0.1]\n",
        "outl=outl.dropna()\n",
        "print('Catastropic Outliers: ', outl.shape[0]*100.0/y_test.shape[0],'%')\n",
        "print('Total rms: ', np.sqrt(np.mean((y_test_tree-y_pred_tree)**2)))\n",
        "print('rms w/o outliers', np.sqrt(np.mean(((y_test_tree-y_pred_tree)[abs(y_test_tree-y_pred_tree)<0.1])**2)))\n",
        "print('Bias: ', np.mean(y_test_tree-y_pred_tree))\n",
        "print('Bias(median value of delta z):', np.median(y_test_tree-y_pred_tree))\n",
        "plt.show()\n",
        "\n",
        "delta_znorm=abs((y_test_tree-y_pred_tree)-np.median(y_pred_tree-y_test_tree)/(1+y_test_tree))\n",
        "NMAD=1.48*np.median(delta_znorm)\n",
        "print('NMAD: ', NMAD)"
      ]
    }
  ],
  "metadata": {
    "colab": {
      "name": "ELM.ipynb",
      "provenance": [],
      "mount_file_id": "18R7Ye9poOFItH2Je-Q0f9OSSPBRWQu-z",
      "authorship_tag": "ABX9TyNusSejtAUTbn+kMBMzICJS",
      "include_colab_link": true
    },
    "kernelspec": {
      "display_name": "Python 3",
      "name": "python3"
    },
    "language_info": {
      "name": "python"
    }
  },
  "nbformat": 4,
  "nbformat_minor": 0
}