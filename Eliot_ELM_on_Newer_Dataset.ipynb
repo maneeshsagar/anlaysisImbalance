{
  "cells": [
    {
      "cell_type": "code",
      "execution_count": null,
      "metadata": {
        "id": "1zbMkslvLTJs"
      },
      "outputs": [],
      "source": [
        "#This program is to develop a neural Network(ANN) regression model . redshift the label/target\n",
        "import matplotlib.pyplot as plt\n",
        "import pandas as pd\n",
        "import numpy as np\n",
        "import seaborn as sns\n",
        "import keras\n",
        "from keras.models import Sequential\n",
        "from keras.layers import Dense, Dropout\n",
        "from sklearn.preprocessing import  MinMaxScaler\n",
        "\n",
        "import xgboost as xg \n",
        "from sklearn.model_selection import train_test_split \n",
        "from sklearn.metrics import mean_squared_error as MSE "
      ]
    },
    {
      "cell_type": "code",
      "execution_count": null,
      "metadata": {
        "id": "l-N8gcFnLely"
      },
      "outputs": [],
      "source": [
        "dataset = pd.read_csv(\"/content/drive/MyDrive/Dataset/New_trainallrangeprocessed.csv\")"
      ]
    },
    {
      "cell_type": "code",
      "execution_count": null,
      "metadata": {
        "colab": {
          "base_uri": "https://localhost:8080/"
        },
        "id": "O5aHt1IR0_Gu",
        "outputId": "9706b4b5-5449-43b6-d462-e10321d3a35e"
      },
      "outputs": [
        {
          "output_type": "execute_result",
          "data": {
            "text/plain": [
              "(582232, 27)"
            ]
          },
          "metadata": {},
          "execution_count": 12
        }
      ],
      "source": [
        "dataset.shape"
      ]
    },
    {
      "cell_type": "code",
      "source": [
        "len(dataset)"
      ],
      "metadata": {
        "colab": {
          "base_uri": "https://localhost:8080/"
        },
        "id": "R4VNu-JXJyoE",
        "outputId": "68ee6777-7fdf-45d6-a84b-5cbe376ffcc3"
      },
      "execution_count": null,
      "outputs": [
        {
          "output_type": "execute_result",
          "data": {
            "text/plain": [
              "582232"
            ]
          },
          "metadata": {},
          "execution_count": 13
        }
      ]
    },
    {
      "cell_type": "code",
      "execution_count": null,
      "metadata": {
        "colab": {
          "base_uri": "https://localhost:8080/"
        },
        "id": "CQaC93dQ0mgc",
        "outputId": "ee247fd9-6440-4e11-b97d-af8ddc116974"
      },
      "outputs": [
        {
          "output_type": "execute_result",
          "data": {
            "text/plain": [
              "0"
            ]
          },
          "metadata": {},
          "execution_count": 14
        }
      ],
      "source": [
        "dataset.duplicated().sum()"
      ]
    },
    {
      "cell_type": "code",
      "execution_count": null,
      "metadata": {
        "colab": {
          "base_uri": "https://localhost:8080/",
          "height": 505
        },
        "id": "kyyrRSIv04QS",
        "outputId": "06071635-2970-4704-98c2-4ee4edbfc683"
      },
      "outputs": [
        {
          "output_type": "execute_result",
          "data": {
            "text/plain": [
              "        Unnamed: 0  modelMag_u  modelMag_g  modelMag_r  modelMag_i  \\\n",
              "0                0    22.70128    21.55564    20.74338    19.97239   \n",
              "1                1    23.23910    21.44343    19.67306    18.94400   \n",
              "2                2    24.05348    21.24721    19.39289    18.68024   \n",
              "3                3    26.32478    20.74059    18.99681    18.29084   \n",
              "4                4    24.76801    19.32076    17.81846    17.23835   \n",
              "...            ...         ...         ...         ...         ...   \n",
              "582227      604928    26.19360    21.84318    21.49009    21.43189   \n",
              "582228      604929    21.57603    20.99160    20.63745    20.29666   \n",
              "582229      604932    24.30561    23.59575    21.74487    20.60606   \n",
              "582230      604933    25.70489    22.18283    21.30940    20.22876   \n",
              "582231      604934    21.34051    20.64733    20.40584    20.45839   \n",
              "\n",
              "        modelMag_z  fiberMag_u  fiberMag_g  fiberMag_r  fiberMag_i  ...  \\\n",
              "0         19.65203    23.26064    22.38317    21.52284    20.75258  ...   \n",
              "1         18.55688    23.69614    22.34922    20.59603    19.86871  ...   \n",
              "2         18.31429    24.11929    22.13657    20.29977    19.57731  ...   \n",
              "3         17.80812    25.19303    21.98622    20.28767    19.56692  ...   \n",
              "4         16.92202    24.11602    20.81318    19.32606    18.72738  ...   \n",
              "...            ...         ...         ...         ...         ...  ...   \n",
              "582227    21.87856    25.30545    22.30836    21.96545    22.01373  ...   \n",
              "582228    19.33586    21.96664    21.43429    21.07467    20.80290  ...   \n",
              "582229    19.91005    24.03291    24.07756    22.41889    21.23574  ...   \n",
              "582230    19.21709    23.99918    23.17838    22.30052    21.11168  ...   \n",
              "582231    20.28701    21.82719    21.07991    20.84015    20.84428  ...   \n",
              "\n",
              "               z       mmug       mmgr       mmri       mmiz       mfug  \\\n",
              "0       19.65203  22.128460  21.149510  20.357885  19.812210  22.821905   \n",
              "1       18.55688  22.341265  20.558245  19.308530  18.750440  23.022680   \n",
              "2       18.31429  22.650345  20.320050  19.036565  18.497265  23.127930   \n",
              "3       17.80812  23.532685  19.868700  18.643825  18.049480  23.589625   \n",
              "4       16.92202  22.044385  18.569610  17.528405  17.080185  22.464600   \n",
              "...          ...        ...        ...        ...        ...        ...   \n",
              "582227  21.87856  24.018390  21.666635  21.460990  21.655225  23.806905   \n",
              "582228  19.33586  21.283815  20.814525  20.467055  19.816260  21.700465   \n",
              "582229  19.91005  23.950680  22.670310  21.175465  20.258055  24.055235   \n",
              "582230  19.21709  23.943860  21.746115  20.769080  19.722925  23.588780   \n",
              "582231  20.28701  20.993920  20.526585  20.432115  20.372700  21.453550   \n",
              "\n",
              "             mfgr       mfri       mfiz  redshift  \n",
              "0       21.953005  21.137710  20.602890  0.679974  \n",
              "1       21.472625  20.232370  19.659590  0.412071  \n",
              "2       21.218170  19.938540  19.384555  0.413140  \n",
              "3       21.136945  19.927295  19.318555  0.399193  \n",
              "4       20.069620  19.026720  18.568060  0.253831  \n",
              "...           ...        ...        ...       ...  \n",
              "582227  22.136905  21.989590  22.251230  6.552610  \n",
              "582228  21.254480  20.938785  20.302065  6.138975  \n",
              "582229  23.248225  21.827315  20.866255  5.350088  \n",
              "582230  22.739450  21.706100  20.624625  6.964785  \n",
              "582231  20.960030  20.842215  20.830430  6.422472  \n",
              "\n",
              "[582232 rows x 27 columns]"
            ],
            "text/html": [
              "\n",
              "  <div id=\"df-30cc7a07-b30a-4833-ae2c-3c492e88a853\">\n",
              "    <div class=\"colab-df-container\">\n",
              "      <div>\n",
              "<style scoped>\n",
              "    .dataframe tbody tr th:only-of-type {\n",
              "        vertical-align: middle;\n",
              "    }\n",
              "\n",
              "    .dataframe tbody tr th {\n",
              "        vertical-align: top;\n",
              "    }\n",
              "\n",
              "    .dataframe thead th {\n",
              "        text-align: right;\n",
              "    }\n",
              "</style>\n",
              "<table border=\"1\" class=\"dataframe\">\n",
              "  <thead>\n",
              "    <tr style=\"text-align: right;\">\n",
              "      <th></th>\n",
              "      <th>Unnamed: 0</th>\n",
              "      <th>modelMag_u</th>\n",
              "      <th>modelMag_g</th>\n",
              "      <th>modelMag_r</th>\n",
              "      <th>modelMag_i</th>\n",
              "      <th>modelMag_z</th>\n",
              "      <th>fiberMag_u</th>\n",
              "      <th>fiberMag_g</th>\n",
              "      <th>fiberMag_r</th>\n",
              "      <th>fiberMag_i</th>\n",
              "      <th>...</th>\n",
              "      <th>z</th>\n",
              "      <th>mmug</th>\n",
              "      <th>mmgr</th>\n",
              "      <th>mmri</th>\n",
              "      <th>mmiz</th>\n",
              "      <th>mfug</th>\n",
              "      <th>mfgr</th>\n",
              "      <th>mfri</th>\n",
              "      <th>mfiz</th>\n",
              "      <th>redshift</th>\n",
              "    </tr>\n",
              "  </thead>\n",
              "  <tbody>\n",
              "    <tr>\n",
              "      <th>0</th>\n",
              "      <td>0</td>\n",
              "      <td>22.70128</td>\n",
              "      <td>21.55564</td>\n",
              "      <td>20.74338</td>\n",
              "      <td>19.97239</td>\n",
              "      <td>19.65203</td>\n",
              "      <td>23.26064</td>\n",
              "      <td>22.38317</td>\n",
              "      <td>21.52284</td>\n",
              "      <td>20.75258</td>\n",
              "      <td>...</td>\n",
              "      <td>19.65203</td>\n",
              "      <td>22.128460</td>\n",
              "      <td>21.149510</td>\n",
              "      <td>20.357885</td>\n",
              "      <td>19.812210</td>\n",
              "      <td>22.821905</td>\n",
              "      <td>21.953005</td>\n",
              "      <td>21.137710</td>\n",
              "      <td>20.602890</td>\n",
              "      <td>0.679974</td>\n",
              "    </tr>\n",
              "    <tr>\n",
              "      <th>1</th>\n",
              "      <td>1</td>\n",
              "      <td>23.23910</td>\n",
              "      <td>21.44343</td>\n",
              "      <td>19.67306</td>\n",
              "      <td>18.94400</td>\n",
              "      <td>18.55688</td>\n",
              "      <td>23.69614</td>\n",
              "      <td>22.34922</td>\n",
              "      <td>20.59603</td>\n",
              "      <td>19.86871</td>\n",
              "      <td>...</td>\n",
              "      <td>18.55688</td>\n",
              "      <td>22.341265</td>\n",
              "      <td>20.558245</td>\n",
              "      <td>19.308530</td>\n",
              "      <td>18.750440</td>\n",
              "      <td>23.022680</td>\n",
              "      <td>21.472625</td>\n",
              "      <td>20.232370</td>\n",
              "      <td>19.659590</td>\n",
              "      <td>0.412071</td>\n",
              "    </tr>\n",
              "    <tr>\n",
              "      <th>2</th>\n",
              "      <td>2</td>\n",
              "      <td>24.05348</td>\n",
              "      <td>21.24721</td>\n",
              "      <td>19.39289</td>\n",
              "      <td>18.68024</td>\n",
              "      <td>18.31429</td>\n",
              "      <td>24.11929</td>\n",
              "      <td>22.13657</td>\n",
              "      <td>20.29977</td>\n",
              "      <td>19.57731</td>\n",
              "      <td>...</td>\n",
              "      <td>18.31429</td>\n",
              "      <td>22.650345</td>\n",
              "      <td>20.320050</td>\n",
              "      <td>19.036565</td>\n",
              "      <td>18.497265</td>\n",
              "      <td>23.127930</td>\n",
              "      <td>21.218170</td>\n",
              "      <td>19.938540</td>\n",
              "      <td>19.384555</td>\n",
              "      <td>0.413140</td>\n",
              "    </tr>\n",
              "    <tr>\n",
              "      <th>3</th>\n",
              "      <td>3</td>\n",
              "      <td>26.32478</td>\n",
              "      <td>20.74059</td>\n",
              "      <td>18.99681</td>\n",
              "      <td>18.29084</td>\n",
              "      <td>17.80812</td>\n",
              "      <td>25.19303</td>\n",
              "      <td>21.98622</td>\n",
              "      <td>20.28767</td>\n",
              "      <td>19.56692</td>\n",
              "      <td>...</td>\n",
              "      <td>17.80812</td>\n",
              "      <td>23.532685</td>\n",
              "      <td>19.868700</td>\n",
              "      <td>18.643825</td>\n",
              "      <td>18.049480</td>\n",
              "      <td>23.589625</td>\n",
              "      <td>21.136945</td>\n",
              "      <td>19.927295</td>\n",
              "      <td>19.318555</td>\n",
              "      <td>0.399193</td>\n",
              "    </tr>\n",
              "    <tr>\n",
              "      <th>4</th>\n",
              "      <td>4</td>\n",
              "      <td>24.76801</td>\n",
              "      <td>19.32076</td>\n",
              "      <td>17.81846</td>\n",
              "      <td>17.23835</td>\n",
              "      <td>16.92202</td>\n",
              "      <td>24.11602</td>\n",
              "      <td>20.81318</td>\n",
              "      <td>19.32606</td>\n",
              "      <td>18.72738</td>\n",
              "      <td>...</td>\n",
              "      <td>16.92202</td>\n",
              "      <td>22.044385</td>\n",
              "      <td>18.569610</td>\n",
              "      <td>17.528405</td>\n",
              "      <td>17.080185</td>\n",
              "      <td>22.464600</td>\n",
              "      <td>20.069620</td>\n",
              "      <td>19.026720</td>\n",
              "      <td>18.568060</td>\n",
              "      <td>0.253831</td>\n",
              "    </tr>\n",
              "    <tr>\n",
              "      <th>...</th>\n",
              "      <td>...</td>\n",
              "      <td>...</td>\n",
              "      <td>...</td>\n",
              "      <td>...</td>\n",
              "      <td>...</td>\n",
              "      <td>...</td>\n",
              "      <td>...</td>\n",
              "      <td>...</td>\n",
              "      <td>...</td>\n",
              "      <td>...</td>\n",
              "      <td>...</td>\n",
              "      <td>...</td>\n",
              "      <td>...</td>\n",
              "      <td>...</td>\n",
              "      <td>...</td>\n",
              "      <td>...</td>\n",
              "      <td>...</td>\n",
              "      <td>...</td>\n",
              "      <td>...</td>\n",
              "      <td>...</td>\n",
              "      <td>...</td>\n",
              "    </tr>\n",
              "    <tr>\n",
              "      <th>582227</th>\n",
              "      <td>604928</td>\n",
              "      <td>26.19360</td>\n",
              "      <td>21.84318</td>\n",
              "      <td>21.49009</td>\n",
              "      <td>21.43189</td>\n",
              "      <td>21.87856</td>\n",
              "      <td>25.30545</td>\n",
              "      <td>22.30836</td>\n",
              "      <td>21.96545</td>\n",
              "      <td>22.01373</td>\n",
              "      <td>...</td>\n",
              "      <td>21.87856</td>\n",
              "      <td>24.018390</td>\n",
              "      <td>21.666635</td>\n",
              "      <td>21.460990</td>\n",
              "      <td>21.655225</td>\n",
              "      <td>23.806905</td>\n",
              "      <td>22.136905</td>\n",
              "      <td>21.989590</td>\n",
              "      <td>22.251230</td>\n",
              "      <td>6.552610</td>\n",
              "    </tr>\n",
              "    <tr>\n",
              "      <th>582228</th>\n",
              "      <td>604929</td>\n",
              "      <td>21.57603</td>\n",
              "      <td>20.99160</td>\n",
              "      <td>20.63745</td>\n",
              "      <td>20.29666</td>\n",
              "      <td>19.33586</td>\n",
              "      <td>21.96664</td>\n",
              "      <td>21.43429</td>\n",
              "      <td>21.07467</td>\n",
              "      <td>20.80290</td>\n",
              "      <td>...</td>\n",
              "      <td>19.33586</td>\n",
              "      <td>21.283815</td>\n",
              "      <td>20.814525</td>\n",
              "      <td>20.467055</td>\n",
              "      <td>19.816260</td>\n",
              "      <td>21.700465</td>\n",
              "      <td>21.254480</td>\n",
              "      <td>20.938785</td>\n",
              "      <td>20.302065</td>\n",
              "      <td>6.138975</td>\n",
              "    </tr>\n",
              "    <tr>\n",
              "      <th>582229</th>\n",
              "      <td>604932</td>\n",
              "      <td>24.30561</td>\n",
              "      <td>23.59575</td>\n",
              "      <td>21.74487</td>\n",
              "      <td>20.60606</td>\n",
              "      <td>19.91005</td>\n",
              "      <td>24.03291</td>\n",
              "      <td>24.07756</td>\n",
              "      <td>22.41889</td>\n",
              "      <td>21.23574</td>\n",
              "      <td>...</td>\n",
              "      <td>19.91005</td>\n",
              "      <td>23.950680</td>\n",
              "      <td>22.670310</td>\n",
              "      <td>21.175465</td>\n",
              "      <td>20.258055</td>\n",
              "      <td>24.055235</td>\n",
              "      <td>23.248225</td>\n",
              "      <td>21.827315</td>\n",
              "      <td>20.866255</td>\n",
              "      <td>5.350088</td>\n",
              "    </tr>\n",
              "    <tr>\n",
              "      <th>582230</th>\n",
              "      <td>604933</td>\n",
              "      <td>25.70489</td>\n",
              "      <td>22.18283</td>\n",
              "      <td>21.30940</td>\n",
              "      <td>20.22876</td>\n",
              "      <td>19.21709</td>\n",
              "      <td>23.99918</td>\n",
              "      <td>23.17838</td>\n",
              "      <td>22.30052</td>\n",
              "      <td>21.11168</td>\n",
              "      <td>...</td>\n",
              "      <td>19.21709</td>\n",
              "      <td>23.943860</td>\n",
              "      <td>21.746115</td>\n",
              "      <td>20.769080</td>\n",
              "      <td>19.722925</td>\n",
              "      <td>23.588780</td>\n",
              "      <td>22.739450</td>\n",
              "      <td>21.706100</td>\n",
              "      <td>20.624625</td>\n",
              "      <td>6.964785</td>\n",
              "    </tr>\n",
              "    <tr>\n",
              "      <th>582231</th>\n",
              "      <td>604934</td>\n",
              "      <td>21.34051</td>\n",
              "      <td>20.64733</td>\n",
              "      <td>20.40584</td>\n",
              "      <td>20.45839</td>\n",
              "      <td>20.28701</td>\n",
              "      <td>21.82719</td>\n",
              "      <td>21.07991</td>\n",
              "      <td>20.84015</td>\n",
              "      <td>20.84428</td>\n",
              "      <td>...</td>\n",
              "      <td>20.28701</td>\n",
              "      <td>20.993920</td>\n",
              "      <td>20.526585</td>\n",
              "      <td>20.432115</td>\n",
              "      <td>20.372700</td>\n",
              "      <td>21.453550</td>\n",
              "      <td>20.960030</td>\n",
              "      <td>20.842215</td>\n",
              "      <td>20.830430</td>\n",
              "      <td>6.422472</td>\n",
              "    </tr>\n",
              "  </tbody>\n",
              "</table>\n",
              "<p>582232 rows × 27 columns</p>\n",
              "</div>\n",
              "      <button class=\"colab-df-convert\" onclick=\"convertToInteractive('df-30cc7a07-b30a-4833-ae2c-3c492e88a853')\"\n",
              "              title=\"Convert this dataframe to an interactive table.\"\n",
              "              style=\"display:none;\">\n",
              "        \n",
              "  <svg xmlns=\"http://www.w3.org/2000/svg\" height=\"24px\"viewBox=\"0 0 24 24\"\n",
              "       width=\"24px\">\n",
              "    <path d=\"M0 0h24v24H0V0z\" fill=\"none\"/>\n",
              "    <path d=\"M18.56 5.44l.94 2.06.94-2.06 2.06-.94-2.06-.94-.94-2.06-.94 2.06-2.06.94zm-11 1L8.5 8.5l.94-2.06 2.06-.94-2.06-.94L8.5 2.5l-.94 2.06-2.06.94zm10 10l.94 2.06.94-2.06 2.06-.94-2.06-.94-.94-2.06-.94 2.06-2.06.94z\"/><path d=\"M17.41 7.96l-1.37-1.37c-.4-.4-.92-.59-1.43-.59-.52 0-1.04.2-1.43.59L10.3 9.45l-7.72 7.72c-.78.78-.78 2.05 0 2.83L4 21.41c.39.39.9.59 1.41.59.51 0 1.02-.2 1.41-.59l7.78-7.78 2.81-2.81c.8-.78.8-2.07 0-2.86zM5.41 20L4 18.59l7.72-7.72 1.47 1.35L5.41 20z\"/>\n",
              "  </svg>\n",
              "      </button>\n",
              "      \n",
              "  <style>\n",
              "    .colab-df-container {\n",
              "      display:flex;\n",
              "      flex-wrap:wrap;\n",
              "      gap: 12px;\n",
              "    }\n",
              "\n",
              "    .colab-df-convert {\n",
              "      background-color: #E8F0FE;\n",
              "      border: none;\n",
              "      border-radius: 50%;\n",
              "      cursor: pointer;\n",
              "      display: none;\n",
              "      fill: #1967D2;\n",
              "      height: 32px;\n",
              "      padding: 0 0 0 0;\n",
              "      width: 32px;\n",
              "    }\n",
              "\n",
              "    .colab-df-convert:hover {\n",
              "      background-color: #E2EBFA;\n",
              "      box-shadow: 0px 1px 2px rgba(60, 64, 67, 0.3), 0px 1px 3px 1px rgba(60, 64, 67, 0.15);\n",
              "      fill: #174EA6;\n",
              "    }\n",
              "\n",
              "    [theme=dark] .colab-df-convert {\n",
              "      background-color: #3B4455;\n",
              "      fill: #D2E3FC;\n",
              "    }\n",
              "\n",
              "    [theme=dark] .colab-df-convert:hover {\n",
              "      background-color: #434B5C;\n",
              "      box-shadow: 0px 1px 3px 1px rgba(0, 0, 0, 0.15);\n",
              "      filter: drop-shadow(0px 1px 2px rgba(0, 0, 0, 0.3));\n",
              "      fill: #FFFFFF;\n",
              "    }\n",
              "  </style>\n",
              "\n",
              "      <script>\n",
              "        const buttonEl =\n",
              "          document.querySelector('#df-30cc7a07-b30a-4833-ae2c-3c492e88a853 button.colab-df-convert');\n",
              "        buttonEl.style.display =\n",
              "          google.colab.kernel.accessAllowed ? 'block' : 'none';\n",
              "\n",
              "        async function convertToInteractive(key) {\n",
              "          const element = document.querySelector('#df-30cc7a07-b30a-4833-ae2c-3c492e88a853');\n",
              "          const dataTable =\n",
              "            await google.colab.kernel.invokeFunction('convertToInteractive',\n",
              "                                                     [key], {});\n",
              "          if (!dataTable) return;\n",
              "\n",
              "          const docLinkHtml = 'Like what you see? Visit the ' +\n",
              "            '<a target=\"_blank\" href=https://colab.research.google.com/notebooks/data_table.ipynb>data table notebook</a>'\n",
              "            + ' to learn more about interactive tables.';\n",
              "          element.innerHTML = '';\n",
              "          dataTable['output_type'] = 'display_data';\n",
              "          await google.colab.output.renderOutput(dataTable, element);\n",
              "          const docLink = document.createElement('div');\n",
              "          docLink.innerHTML = docLinkHtml;\n",
              "          element.appendChild(docLink);\n",
              "        }\n",
              "      </script>\n",
              "    </div>\n",
              "  </div>\n",
              "  "
            ]
          },
          "metadata": {},
          "execution_count": 15
        }
      ],
      "source": [
        "dataset.drop_duplicates()"
      ]
    },
    {
      "cell_type": "code",
      "execution_count": null,
      "metadata": {
        "id": "YrBJ0KcHLisi"
      },
      "outputs": [],
      "source": [
        "#these columns are not required\n",
        "dataset.drop(dataset.columns[dataset.columns.str.contains('Unnamed',case = False)], axis = 1,inplace=True) #dropping objid column\n",
        "#dataset.drop(['zerr'], axis = 1,inplace=True) #dropping zerr column"
      ]
    },
    {
      "cell_type": "code",
      "execution_count": null,
      "metadata": {
        "id": "WuMdneZxLl8d"
      },
      "outputs": [],
      "source": [
        "dataset[dataset[\"modelMag_u\"]==-9999]=np.nan\n",
        "dataset[dataset[\"modelMag_g\"]==-9999]=np.nan\n",
        "dataset[dataset[\"modelMag_r\"]==-9999]=np.nan\n",
        "dataset[dataset[\"modelMag_i\"]==-9999]=np.nan\n",
        "dataset[dataset[\"modelMag_z\"]==-9999]=np.nan\n",
        "dataset[dataset[\"fiberMag_u\"]==-9999]=np.nan\n",
        "dataset[dataset[\"fiberMag_g\"]==-9999]=np.nan\n",
        "dataset[dataset[\"fiberMag_r\"]==-9999]=np.nan\n",
        "dataset[dataset[\"fiberMag_i\"]==-9999]=np.nan\n",
        "dataset[dataset[\"fiberMag_z\"]==-9999]=np.nan\n",
        "dataset[dataset[\"petroR50_r\"]==-9999]=np.nan\n",
        "dataset[dataset[\"petroR90_r\"]==-9999]=np.nan\n",
        "dataset[dataset[\"petroR50_z\"]==-9999]=np.nan\n",
        "dataset[dataset[\"petroR90_z\"]==-9999]=np.nan\n",
        "dataset[dataset[\"mmug\"]==-9999]=np.nan\n",
        "dataset[dataset[\"mmgr\"]==-9999]=np.nan\n",
        "dataset[dataset[\"mmri\"]==-9999]=np.nan\n",
        "dataset[dataset[\"mmiz\"]==-9999]=np.nan\n",
        "dataset[dataset[\"mfug\"]==-9999]=np.nan\n",
        "dataset[dataset[\"mfgr\"]==-9999]=np.nan\n",
        "dataset[dataset[\"mfri\"]==-9999]=np.nan\n",
        "dataset[dataset[\"mfiz\"]==-9999]=np.nan\n",
        "dataset[dataset[\"r\"]==-9999]=np.nan\n",
        "dataset[dataset[\"i\"]==-9999]=np.nan\n",
        "dataset[dataset[\"z\"]==-9999]=np.nan\n",
        "dataset[dataset[\"redshift\"]==-9999]=np.nan\n",
        "dataset[dataset[\"redshift\"]<0]=np.nan"
      ]
    },
    {
      "cell_type": "code",
      "execution_count": null,
      "metadata": {
        "colab": {
          "base_uri": "https://localhost:8080/"
        },
        "id": "LndkIZczLpOo",
        "outputId": "cc16c467-1136-44f0-f479-1ccedbc57c51"
      },
      "outputs": [
        {
          "output_type": "execute_result",
          "data": {
            "text/plain": [
              "(582232, 26)"
            ]
          },
          "metadata": {},
          "execution_count": 18
        }
      ],
      "source": [
        "#Dropping null values\n",
        "dataset=dataset.dropna()\n",
        "dataset.shape"
      ]
    },
    {
      "cell_type": "code",
      "execution_count": null,
      "metadata": {
        "colab": {
          "base_uri": "https://localhost:8080/",
          "height": 296
        },
        "id": "6-F6B0V7Lr1Z",
        "outputId": "96e83cd3-eb0b-46a9-8aa6-71cf3ce10188"
      },
      "outputs": [
        {
          "output_type": "execute_result",
          "data": {
            "text/plain": [
              "Text(0, 0.5, 'Number of samples')"
            ]
          },
          "metadata": {},
          "execution_count": 19
        },
        {
          "output_type": "display_data",
          "data": {
            "text/plain": [
              "<Figure size 432x288 with 1 Axes>"
            ],
            "image/png": "[encoded data removed]"
          },
          "metadata": {
            "needs_background": "light"
          }
        }
      ],
      "source": [
        "#checking the data distribution\n",
        "plt.hist(dataset['redshift'], bins=50, alpha=0.7)\n",
        "plt.xlabel('SpecZ')\n",
        "plt.ylabel('Number of samples')"
      ]
    },
    {
      "cell_type": "code",
      "execution_count": null,
      "metadata": {
        "id": "b7VoyaIEZpmw"
      },
      "outputs": [],
      "source": [
        "def getClass(value):\n",
        "  if value>=0.00 and value<1.0:\n",
        "    return '1'\n",
        "  elif value>=1.00 and value<2.0:\n",
        "    return '2'\n",
        "  elif value>=2.00 and value<3.0:\n",
        "    return '3'\n",
        "  elif value>=3.00 and value<4.0:\n",
        "    return '4'\n",
        "  elif value>=4.00 and value<5.0:\n",
        "    return '5'\n",
        "  elif value>=5.00 and value<6.0:\n",
        "    return '6'\n",
        "  elif value>=6.00 and value<=7.0:\n",
        "    return '7'"
      ]
    },
    {
      "cell_type": "code",
      "execution_count": null,
      "metadata": {
        "colab": {
          "base_uri": "https://localhost:8080/"
        },
        "id": "nXUlw1eBZsa1",
        "outputId": "aa66173e-4d45-4d68-8d8a-c9c6488bcd29"
      },
      "outputs": [
        {
          "output_type": "execute_result",
          "data": {
            "text/plain": [
              "(582232, 27)"
            ]
          },
          "metadata": {},
          "execution_count": 21
        }
      ],
      "source": [
        "##dataset['Class']=dataset['redshift'].apply(lambda x: cls(x))\n",
        "#dataset['Class']=dataset['redshift'].apply(lambda x: 0 if x<1.0 else 1)\n",
        "dataset['Class']=dataset['redshift'].apply(lambda x: getClass(x))\n",
        "dataset=dataset.dropna()\n",
        "dataset.shape\n",
        "#dataset.loc[dataset['redshift'] >0.00 , 'Class']='A'"
      ]
    },
    {
      "cell_type": "code",
      "execution_count": null,
      "metadata": {
        "id": "_cALXeN4Zvdx"
      },
      "outputs": [],
      "source": [
        "df_1=dataset[dataset.Class=='1']\n",
        "df_2=dataset[dataset.Class=='2']\n",
        "df_3=dataset[dataset.Class=='3']\n",
        "df_4=dataset[dataset.Class=='4']\n",
        "df_5=dataset[dataset.Class=='5']\n",
        "df_6=dataset[dataset.Class=='6']\n",
        "df_7=dataset[dataset.Class=='7']"
      ]
    },
    {
      "cell_type": "code",
      "source": [
        "len(df_1)"
      ],
      "metadata": {
        "colab": {
          "base_uri": "https://localhost:8080/"
        },
        "id": "gniCwKPTHua5",
        "outputId": "5b445194-dfe8-47df-b89e-ba1ec7fa6504"
      },
      "execution_count": null,
      "outputs": [
        {
          "output_type": "execute_result",
          "data": {
            "text/plain": [
              "410029"
            ]
          },
          "metadata": {},
          "execution_count": 23
        }
      ]
    },
    {
      "cell_type": "code",
      "source": [
        "len(df_2)"
      ],
      "metadata": {
        "colab": {
          "base_uri": "https://localhost:8080/"
        },
        "id": "VR1LhX5UIRui",
        "outputId": "04bff050-a01d-4ccc-e511-b8026010c115"
      },
      "execution_count": null,
      "outputs": [
        {
          "output_type": "execute_result",
          "data": {
            "text/plain": [
              "48898"
            ]
          },
          "metadata": {},
          "execution_count": 24
        }
      ]
    },
    {
      "cell_type": "code",
      "source": [
        "len(df_3)"
      ],
      "metadata": {
        "colab": {
          "base_uri": "https://localhost:8080/"
        },
        "id": "I-FlLB7FISOZ",
        "outputId": "c4d185d6-2451-4f73-c50e-09d50363c6ff"
      },
      "execution_count": null,
      "outputs": [
        {
          "output_type": "execute_result",
          "data": {
            "text/plain": [
              "31496"
            ]
          },
          "metadata": {},
          "execution_count": 25
        }
      ]
    },
    {
      "cell_type": "code",
      "source": [
        "len(df_4)"
      ],
      "metadata": {
        "colab": {
          "base_uri": "https://localhost:8080/"
        },
        "id": "F0RgnGlxISaq",
        "outputId": "760e8b00-c095-4b2f-b6f7-32565226299e"
      },
      "execution_count": null,
      "outputs": [
        {
          "output_type": "execute_result",
          "data": {
            "text/plain": [
              "71046"
            ]
          },
          "metadata": {},
          "execution_count": 26
        }
      ]
    },
    {
      "cell_type": "code",
      "source": [
        "len(df_5)"
      ],
      "metadata": {
        "colab": {
          "base_uri": "https://localhost:8080/"
        },
        "id": "7cL-WsDWISif",
        "outputId": "39ba5ac8-0d41-4fe7-9600-3d0794931d7f"
      },
      "execution_count": null,
      "outputs": [
        {
          "output_type": "execute_result",
          "data": {
            "text/plain": [
              "9164"
            ]
          },
          "metadata": {},
          "execution_count": 27
        }
      ]
    },
    {
      "cell_type": "code",
      "source": [
        "len(df_6)"
      ],
      "metadata": {
        "colab": {
          "base_uri": "https://localhost:8080/"
        },
        "id": "RqkcomdMISlp",
        "outputId": "dd9b646e-5826-4c8c-c482-146e1cbe5391"
      },
      "execution_count": null,
      "outputs": [
        {
          "output_type": "execute_result",
          "data": {
            "text/plain": [
              "6196"
            ]
          },
          "metadata": {},
          "execution_count": 28
        }
      ]
    },
    {
      "cell_type": "code",
      "source": [
        "len(df_7)"
      ],
      "metadata": {
        "colab": {
          "base_uri": "https://localhost:8080/"
        },
        "id": "vJJyMVE_Ibiu",
        "outputId": "0608e0b9-0489-4584-87fe-06d6d8ccc724"
      },
      "execution_count": null,
      "outputs": [
        {
          "output_type": "execute_result",
          "data": {
            "text/plain": [
              "5403"
            ]
          },
          "metadata": {},
          "execution_count": 29
        }
      ]
    },
    {
      "cell_type": "code",
      "execution_count": null,
      "metadata": {
        "id": "tOt6a3oRZwHm"
      },
      "outputs": [],
      "source": [
        "from sklearn.utils import resample\n",
        "df_1=resample(df_1,replace=True,n_samples=5000,random_state=123) \n",
        "df_2=resample(df_2,replace=True,n_samples=5000,random_state=123) \n",
        "df_3=resample(df_3,replace=True,n_samples=4272,random_state=123) \n",
        "df_4=resample(df_4,replace=True,n_samples=1933,random_state=123) \n",
        "df_5=resample(df_5,replace=True,n_samples=1725,random_state=123) \n",
        "df_6=resample(df_6,replace=True,n_samples=1799,random_state=123) \n",
        "df_7=resample(df_7,replace=True,n_samples=1688,random_state=123) \n",
        " "
      ]
    },
    {
      "cell_type": "code",
      "execution_count": null,
      "metadata": {
        "id": "9Ssok0KbZ3Uw"
      },
      "outputs": [],
      "source": [
        "dataset=pd.concat([df_1,df_2,df_3,df_4,df_5,df_6,df_7])"
      ]
    },
    {
      "cell_type": "code",
      "execution_count": null,
      "metadata": {
        "id": "C-AgBWIibRFT"
      },
      "outputs": [],
      "source": [
        "del dataset['Class']"
      ]
    },
    {
      "cell_type": "code",
      "execution_count": null,
      "metadata": {
        "colab": {
          "base_uri": "https://localhost:8080/"
        },
        "id": "tqhhP6qSZ7ff",
        "outputId": "81ac7605-7378-439b-af66-068faab9ac02"
      },
      "outputs": [
        {
          "output_type": "execute_result",
          "data": {
            "text/plain": [
              "(21417, 26)"
            ]
          },
          "metadata": {},
          "execution_count": 33
        }
      ],
      "source": [
        "dataset.shape"
      ]
    },
    {
      "cell_type": "code",
      "execution_count": null,
      "metadata": {
        "id": "lHgSeX0a4vTW"
      },
      "outputs": [],
      "source": [
        "#dataset['redshift']=np.log1p(dataset['redshift'])"
      ]
    },
    {
      "cell_type": "code",
      "execution_count": null,
      "metadata": {
        "colab": {
          "base_uri": "https://localhost:8080/",
          "height": 296
        },
        "id": "8ImjsXeU49fi",
        "outputId": "6f08eaa5-56a5-460a-88b3-551244a8d435"
      },
      "outputs": [
        {
          "output_type": "execute_result",
          "data": {
            "text/plain": [
              "Text(0, 0.5, 'Number of samples')"
            ]
          },
          "metadata": {},
          "execution_count": 34
        },
        {
          "output_type": "display_data",
          "data": {
            "text/plain": [
              "<Figure size 432x288 with 1 Axes>"
            ],
            "image/png": "[encoded data removed]"
          },
          "metadata": {
            "needs_background": "light"
          }
        }
      ],
      "source": [
        "#checking the data distribution\n",
        "plt.hist(dataset['redshift'], bins=50, alpha=0.7)\n",
        "plt.xlabel('SpecZ')\n",
        "plt.ylabel('Number of samples')"
      ]
    },
    {
      "cell_type": "code",
      "execution_count": null,
      "metadata": {
        "id": "h6y2s0IBL-q2"
      },
      "outputs": [],
      "source": [
        "X=dataset.drop('redshift',axis=1)\n",
        "Y=dataset['redshift']"
      ]
    },
    {
      "cell_type": "code",
      "execution_count": null,
      "metadata": {
        "colab": {
          "base_uri": "https://localhost:8080/"
        },
        "id": "psBt6hrIMCPy",
        "outputId": "883e560c-2b98-43e8-89bc-a5109fc19a6c"
      },
      "outputs": [
        {
          "output_type": "stream",
          "name": "stdout",
          "text": [
            "[[0.57445566 0.60444779 0.66312305 ... 0.72798788 0.74519128 0.68927012]\n",
            " [0.47997149 0.56342928 0.74631861 ... 0.64565292 0.77035886 0.79165685]\n",
            " [0.22738573 0.21725078 0.27279365 ... 0.37373494 0.38891053 0.374726  ]\n",
            " ...\n",
            " [0.68365841 0.74494037 0.77756193 ... 0.77546718 0.79434035 0.7430403 ]\n",
            " [0.56659796 0.59165686 0.80348765 ... 0.71647562 0.86716445 0.87180977]\n",
            " [0.72171461 0.60303164 0.75821847 ... 0.61589963 0.65210768 0.65153654]]\n"
          ]
        },
        {
          "output_type": "execute_result",
          "data": {
            "text/plain": [
              "(21417, 25)"
            ]
          },
          "metadata": {},
          "execution_count": 36
        }
      ],
      "source": [
        "scaler = MinMaxScaler()\n",
        "X = scaler.fit_transform(X)\n",
        "print(X)\n",
        "X.shape"
      ]
    },
    {
      "cell_type": "code",
      "execution_count": null,
      "metadata": {
        "colab": {
          "base_uri": "https://localhost:8080/"
        },
        "id": "V-h1qkUsMIN_",
        "outputId": "5a7cf100-9524-4132-ed67-843a1708c24f"
      },
      "outputs": [
        {
          "output_type": "stream",
          "name": "stdout",
          "text": [
            "294715    0.573746\n",
            "328638    0.314263\n",
            "32834     0.078000\n",
            "20586     0.478334\n",
            "227144    0.624254\n",
            "            ...   \n",
            "572324    6.641785\n",
            "579747    6.931001\n",
            "581837    6.709867\n",
            "573796    6.137444\n",
            "579639    6.655828\n",
            "Name: redshift, Length: 21417, dtype: float64\n"
          ]
        }
      ],
      "source": [
        "# Target vector\n",
        "y = dataset['redshift']\n",
        "print(y)"
      ]
    },
    {
      "cell_type": "code",
      "execution_count": null,
      "metadata": {
        "colab": {
          "base_uri": "https://localhost:8080/"
        },
        "id": "pe0KzTXIMM6Q",
        "outputId": "0b539e97-c547-4f8a-87bc-cb1a120e0310"
      },
      "outputs": [
        {
          "output_type": "stream",
          "name": "stdout",
          "text": [
            "(21417, 1)\n"
          ]
        }
      ],
      "source": [
        "y=y.to_numpy() #pd needs to convert to numpy before applying minmaxscaler\n",
        "y=y.reshape(-1,1) # this is for using MinMAxscalerr\n",
        "print(y.shape)"
      ]
    },
    {
      "cell_type": "code",
      "execution_count": null,
      "metadata": {
        "colab": {
          "base_uri": "https://localhost:8080/"
        },
        "id": "dLV73FliMQfr",
        "outputId": "a20fb508-b657-4281-86cd-931c1d807403"
      },
      "outputs": [
        {
          "output_type": "stream",
          "name": "stdout",
          "text": [
            "[[0.08191684]\n",
            " [0.04484542]\n",
            " [0.01109126]\n",
            " ...\n",
            " [0.95856396]\n",
            " [0.8767838 ]\n",
            " [0.95084358]]\n"
          ]
        }
      ],
      "source": [
        "scaler = MinMaxScaler()\n",
        "y = scaler.fit_transform(y)\n",
        "print(y)"
      ]
    },
    {
      "cell_type": "code",
      "execution_count": null,
      "metadata": {
        "id": "zQ1TXqQAMTSD"
      },
      "outputs": [],
      "source": [
        "#user dfined function for train,test and validation\n",
        "def my_train_test_split(X, y, ratio_train, ratio_val, seed=42):\n",
        "    idx = np.arange(X.shape[0])\n",
        "    np.random.seed(seed)\n",
        "    np.random.shuffle(idx)\n",
        "\n",
        "    limit_train = int(ratio_train * X.shape[0])\n",
        "    limit_val = int((ratio_train + ratio_val) * X.shape[0])\n",
        "\n",
        "    idx_train = idx[:limit_train]\n",
        "    idx_val = idx[limit_train:limit_val]\n",
        "    idx_test = idx[limit_val:]\n",
        "\n",
        "    X_train, y_train = X[idx_train], y[idx_train]\n",
        "    X_val, y_val = X[idx_val], y[idx_val]\n",
        "    X_test, y_test = X[idx_test], y[idx_test]\n",
        "\n",
        "    return X_train, X_val, X_test, y_train, y_val, y_test"
      ]
    },
    {
      "cell_type": "code",
      "execution_count": null,
      "metadata": {
        "id": "r6nWjt_7MWDZ"
      },
      "outputs": [],
      "source": [
        "X_train, X_val, X_test, y_train, y_val, y_test = my_train_test_split(X, y, .75,.15,seed=42)"
      ]
    },
    {
      "cell_type": "code",
      "execution_count": null,
      "metadata": {
        "colab": {
          "base_uri": "https://localhost:8080/"
        },
        "id": "e6DLv2sjp2Cw",
        "outputId": "4516d9a3-0cc4-4ffb-f8cb-b9b7c3885bf7"
      },
      "outputs": [
        {
          "output_type": "stream",
          "name": "stdout",
          "text": [
            "# Train/Test = 246\n"
          ]
        }
      ],
      "source": [
        "print('# Train/Test = %s' %len(pd.merge(pd.DataFrame(X_train), pd.DataFrame(X_test), how='inner')))"
      ]
    },
    {
      "cell_type": "code",
      "execution_count": null,
      "metadata": {
        "id": "-0eXWeu_MbhL"
      },
      "outputs": [],
      "source": [
        "y_train=y_train.ravel()"
      ]
    },
    {
      "cell_type": "code",
      "execution_count": null,
      "metadata": {
        "id": "IdB1JQAOHAm-"
      },
      "outputs": [],
      "source": [
        "import numpy as np\n",
        "import pandas as pd\n",
        "from sklearn.model_selection import train_test_split\n",
        "from sklearn.preprocessing import OneHotEncoder\n",
        "from sklearn.preprocessing import MinMaxScaler\n",
        "from sklearn.preprocessing import StandardScaler\n",
        "from scipy.linalg import pinv2\n",
        "from sklearn import metrics\n",
        "from math import sqrt\n",
        "from sklearn.metrics import mean_squared_error"
      ]
    },
    {
      "cell_type": "code",
      "execution_count": null,
      "metadata": {
        "id": "JM_3918YHpGs"
      },
      "outputs": [],
      "source": [
        "import numpy as np\n",
        "import time\n",
        "\n",
        "def _eliot(x):\n",
        "  return (1/2+((x/2)/(1+abs(x))))\n",
        "\n",
        "def _mean_squared_error(y, pred):\n",
        "    return 0.5 * np.mean((y - pred) ** 2)\n",
        "\n",
        "\n",
        "def _mean_abs_error(y, pred):\n",
        "    return np.mean(np.abs(y, pred))\n",
        "\n",
        "\n",
        "def _sigmoid(x):\n",
        "    return 1. / (1. + np.exp(-x))\n",
        "\n",
        "def _linear(x):\n",
        "    return x\n",
        "\n",
        "\n",
        "def _fourier(x):\n",
        "    return np.sin(x)\n",
        "\n",
        "\n",
        "def _hardlimit(x):\n",
        "    return (x >= 0).astype(int)\n",
        "\n",
        "\n",
        "def _identity(x):\n",
        "    return x\n",
        "\n",
        "\n",
        "\n",
        "def getActivation(name):\n",
        "    return {\n",
        "        'sigmoid': _sigmoid,\n",
        "        'fourier': _fourier,\n",
        "        'hardlimit': _hardlimit,\n",
        "        'eliot':_eliot\n",
        "    }[name]\n",
        "\n",
        "\n",
        "def getLoss(name):\n",
        "    return {\n",
        "        'mse': _mean_squared_error,\n",
        "        'mae': _mean_abs_error\n",
        "    }[name]\n",
        "\n",
        "\n",
        "class ELM:\n",
        "    def __init__(self, num_input_nodes, num_hidden_units, num_out_units, activation='sigmoid',\n",
        "                 loss='mse', beta_init=None, w_init=None, bias_init=None):\n",
        "        self._num_input_nodes = num_input_nodes\n",
        "        self._num_hidden_units = num_hidden_units\n",
        "        self._num_out_units = num_out_units\n",
        "\n",
        "        self._activation = getActivation(activation)\n",
        "        self._loss = getLoss(loss)\n",
        "\n",
        "        if isinstance(beta_init, np.ndarray):\n",
        "            self._beta = beta_init\n",
        "        else:\n",
        "            self._beta = np.random.uniform(-1., 1., size=(self._num_hidden_units, self._num_out_units))\n",
        "\n",
        "        if isinstance(w_init, np.ndarray):\n",
        "            self._w = w_init\n",
        "        else:\n",
        "            self._w = np.random.uniform(-1, 1, size=(self._num_input_nodes, self._num_hidden_units))\n",
        "\n",
        "        if isinstance(bias_init, np.ndarray):\n",
        "            self._bias = bias_init\n",
        "        else:\n",
        "            self._bias = np.zeros(shape=(self._num_hidden_units,))\n",
        "\n",
        "        print('Bias shape:', self._bias.shape)\n",
        "        print('W shape:', self._w.shape)\n",
        "        print('Beta shape:', self._beta.shape)\n",
        "\n",
        "    def fit(self, X, Y, display_time=False):\n",
        "        H = self._activation(X.dot(self._w) + self._bias)\n",
        "\n",
        "        # Moore–Penrose pseudo inverse\n",
        "        if display_time:\n",
        "            start = time.time()\n",
        "        H_pinv = np.linalg.pinv(H)\n",
        "        if display_time:\n",
        "            stop = time.time()\n",
        "            print(f'Train time: {stop-start}')\n",
        "\n",
        "        self._beta = H_pinv.dot(Y)\n",
        "\n",
        "        # print('Fit Beta shape:', self._beta.shape)\n",
        "\n",
        "    def __call__(self, X):\n",
        "        H = self._activation(X.dot(self._w) + self._bias)\n",
        "        return H.dot(self._beta)\n",
        "\n",
        "    def _mean_squared_error(y, pred):\n",
        "        return 0.5 * np.mean((y - pred) ** 2)\n",
        "\n",
        "    def evaluate(self, X, y_test):\n",
        "        pred = self(X)\n",
        "\n",
        "        # Loss (base on model setting)\n",
        "        #loss = self._loss(y_test, pred)\n",
        "        #loss=_mean_squared_error(y_test,pred)\n",
        "        #var = metrics.explained_variance_score(y_test, pred)\n",
        "        #mae = metrics.mean_absolute_error(y_test, pred)\n",
        "       # mse = metrics.mean_squared_error(y_test, pred)\n",
        "       # r2 = metrics.r2_score(y_test, pred)\n",
        "       # rmse = sqrt(mean_squared_error(y_test, pred))\n",
        "  \n",
        "       # y_test=pd.DataFrame(y_test)\n",
        "       # pred=pd.DataFrame(pred)\n",
        "       # outl=pred[abs(y_test-pred)>0.1]\n",
        "       # outl=outl.dropna()\n",
        "       # out=outl.shape[0]*100.0/y_test.shape[0]\n",
        "       # rms=np.sqrt(np.mean((y_test-pred)**2))\n",
        "       # rmsout=np.sqrt(np.mean(((y_test-pred)[abs(y_test-pred)<0.1])**2))\n",
        "       # bias=np.mean(y_test-pred)\n",
        "      #  biasmedian=np.median(y_test-pred)\n",
        "      #  delta_znorm=abs((y_test-pred)-np.median(pred-y_test)/(1+y_test))\n",
        "      #  NMAD=1.48*np.median(delta_znorm)\n",
        "        # Accuracy\n",
        "       # acc = np.sum(np.argmax(pred, axis=-1) == np.argmax(Y, axis=-1)) / len(Y)\n",
        "\n",
        "        # Unweighted Average Recall\n",
        "        # TODO\n",
        "\n",
        "        return pred"
      ]
    },
    {
      "cell_type": "code",
      "execution_count": null,
      "metadata": {
        "colab": {
          "base_uri": "https://localhost:8080/"
        },
        "id": "UjgxXeEKfVxM",
        "outputId": "5847d9ac-ca11-44bd-9564-4f19101b1cf5"
      },
      "outputs": [
        {
          "output_type": "stream",
          "name": "stdout",
          "text": [
            "Bias shape: (512,)\n",
            "W shape: (25, 512)\n",
            "Beta shape: (512, 1)\n"
          ]
        }
      ],
      "source": [
        "num_hidden_layers=512\n",
        "num_classes=1\n",
        "model = ELM(\n",
        "      25,\n",
        "      num_hidden_layers,\n",
        "      num_classes,\n",
        "      activation='eliot',\n",
        "      w_init=25\n",
        "  )\n",
        "   "
      ]
    },
    {
      "cell_type": "code",
      "execution_count": null,
      "metadata": {
        "id": "oV3Md9Tifzkj"
      },
      "outputs": [],
      "source": [
        "model.fit(X_train, y_train)\n"
      ]
    },
    {
      "cell_type": "code",
      "execution_count": null,
      "metadata": {
        "id": "54gFy9TWcZ5k"
      },
      "outputs": [],
      "source": [
        "y_pred_tree= model.evaluate(X_test, y_test)\n",
        "#print('val loss: %f' % val_loss)"
      ]
    },
    {
      "cell_type": "code",
      "execution_count": null,
      "metadata": {
        "id": "_WXDZO41oCfw"
      },
      "outputs": [],
      "source": [
        "#print(\"MSE\",mse)\n",
        "#print(\"MAE\",mae)\n",
        "#print(\"OUTL\",outl)\n",
        "#print(\"R2\",r2)\n",
        "#print(\"NMAD\",nmad)"
      ]
    },
    {
      "cell_type": "code",
      "execution_count": null,
      "metadata": {
        "id": "YOWZNwKAcAc_",
        "colab": {
          "base_uri": "https://localhost:8080/"
        },
        "outputId": "0a29b417-4d70-4ff9-c677-01c00b6e5e6e"
      },
      "outputs": [
        {
          "output_type": "stream",
          "name": "stdout",
          "text": [
            "Explained variance (best possible score is 1.0, lower values are worse): -236.83823665896477\n",
            "Mean Absolute Error (best is 0.0): 0.26169858894106857\n",
            "Mean Squared Error (best is 0.0): 18.767106435912083\n",
            "R2 score (best is 1.0): -236.97364152668328\n",
            "root Mean Squared Error (best is 0.0): 4.332101849669751\n"
          ]
        }
      ],
      "source": [
        "from sklearn import metrics\n",
        "from math import sqrt\n",
        "from sklearn.metrics import mean_squared_error\n",
        "var = metrics.explained_variance_score(y_test, y_pred_tree)\n",
        "mae = metrics.mean_absolute_error(y_test, y_pred_tree)\n",
        "mse = metrics.mean_squared_error(y_test, y_pred_tree)\n",
        "r2 = metrics.r2_score(y_test, y_pred_tree)\n",
        "rmse = sqrt(mean_squared_error(y_test, y_pred_tree))\n",
        "print ('Explained variance (best possible score is 1.0, lower values are worse):', var)\n",
        "print ('Mean Absolute Error (best is 0.0):', mae)\n",
        "print ('Mean Squared Error (best is 0.0):', mse)\n",
        "print ('R2 score (best is 1.0):', r2)\n",
        "print ('root Mean Squared Error (best is 0.0):', rmse)\n"
      ]
    },
    {
      "cell_type": "code",
      "execution_count": null,
      "metadata": {
        "colab": {
          "base_uri": "https://localhost:8080/"
        },
        "id": "uGI8x0atcEQh",
        "outputId": "80e85365-a9b5-4b7b-c0be-6a98ae44d41b"
      },
      "outputs": [
        {
          "output_type": "stream",
          "name": "stdout",
          "text": [
            "Catastropic Outliers:  48.27264239028945 %\n",
            "Total rms:  0    4.332102\n",
            "dtype: float64\n",
            "rms w/o outliers 0    0.047563\n",
            "dtype: float64\n",
            "Bias:  0   -0.103336\n",
            "dtype: float64\n",
            "Bias(median value of delta z): -0.023958058376696602\n",
            "NMAD:  0.15368766216184884\n"
          ]
        }
      ],
      "source": [
        "y_test_tree=y_test\n",
        "y_test_tree=pd.DataFrame(y_test_tree)\n",
        "y_pred_tree=pd.DataFrame(y_pred_tree)\n",
        "outl=y_pred_tree[abs(y_test_tree-y_pred_tree)>0.1]\n",
        "outl=outl.dropna()\n",
        "print('Catastropic Outliers: ', outl.shape[0]*100.0/y_test.shape[0],'%')\n",
        "print('Total rms: ', np.sqrt(np.mean((y_test_tree-y_pred_tree)**2)))\n",
        "print('rms w/o outliers', np.sqrt(np.mean(((y_test_tree-y_pred_tree)[abs(y_test_tree-y_pred_tree)<0.1])**2)))\n",
        "print('Bias: ', np.mean(y_test_tree-y_pred_tree))\n",
        "print('Bias(median value of delta z):', np.median(y_test_tree-y_pred_tree))\n",
        "plt.show()\n",
        "\n",
        "delta_znorm=abs((y_test_tree-y_pred_tree)-np.median(y_pred_tree-y_test_tree)/(1+y_test_tree))\n",
        "NMAD=1.48*np.median(delta_znorm)\n",
        "print('NMAD: ', NMAD)"
      ]
    },
    {
      "cell_type": "code",
      "execution_count": null,
      "metadata": {
        "colab": {
          "base_uri": "https://localhost:8080/",
          "height": 347
        },
        "id": "Soth8VOogqN-",
        "outputId": "ae44e0ad-68ea-4c51-cb75-23ffb5ea2273"
      },
      "outputs": [
        {
          "output_type": "stream",
          "name": "stderr",
          "text": [
            "/usr/local/lib/python3.7/dist-packages/ipykernel_launcher.py:3: RuntimeWarning: overflow encountered in expm1\n",
            "  This is separate from the ipykernel package so we can avoid doing imports until\n"
          ]
        },
        {
          "output_type": "execute_result",
          "data": {
            "text/plain": [
              "Text(0, 0.5, 'Predicted')"
            ]
          },
          "metadata": {},
          "execution_count": 56
        },
        {
          "output_type": "display_data",
          "data": {
            "text/plain": [
              "<Figure size 432x288 with 1 Axes>"
            ],
            "image/png": "[encoded data removed]"
          },
          "metadata": {
            "needs_background": "light"
          }
        }
      ],
      "source": [
        "import matplotlib.pyplot as plt \n",
        "#y_pred_tree=np.expm1( y_pred_tree)\n",
        "y_pred_tree=np.expm1(scaler.inverse_transform(y_pred_tree))\n",
        "y_test_tree=np.expm1(scaler.inverse_transform(y_test_tree))\n",
        "plt.scatter(y_test_tree[:582232], y_pred_tree[:582232], s=0.4)\n",
        "plt.plot(np.linspace(0,7,7), np.linspace(0,7,7), c = 'orange', linestyle='--')\n",
        "plt.xlim(0, 7)\n",
        "plt.ylim(0, 7)\n",
        "plt.title('True/Predicted Graph') \n",
        "plt.grid(True) \n",
        "plt.xlabel(\"True\") \n",
        "plt.ylabel('Predicted')"
      ]
    }
  ],
  "metadata": {
    "colab": {
      "name": "Eliot ELM on Newer Dataset.ipynb",
      "provenance": []
    },
    "kernelspec": {
      "display_name": "Python 3",
      "name": "python3"
    },
    "language_info": {
      "name": "python"
    }
  },
  "nbformat": 4,
  "nbformat_minor": 0
}